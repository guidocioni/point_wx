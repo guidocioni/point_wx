{
 "cells": [
  {
   "cell_type": "code",
   "execution_count": 13,
   "metadata": {},
   "outputs": [],
   "source": [
    "import pandas as pd\n",
    "import requests as r\n",
    "import plotly.graph_objects as go\n",
    "from plotly.subplots import make_subplots\n",
    "import numpy as np"
   ]
  },
  {
   "cell_type": "code",
   "execution_count": 4,
   "metadata": {},
   "outputs": [],
   "source": [
    "def get_ensemble_data(latitude=53.55,\n",
    "                      longitude=9.99,\n",
    "                      variables='temperature_2m,cloudcover,rain,snowfall,precipitation',\n",
    "                      timezone='auto',\n",
    "                      model='icon_seamless'):\n",
    "    if model == 'icon_seamless':\n",
    "        forecast_days = 7\n",
    "    else:\n",
    "        forecast_days = 14\n",
    "    payload = {\n",
    "        \"latitude\": latitude,\n",
    "        \"longitude\": longitude,\n",
    "        \"hourly\": variables,\n",
    "        \"timezone\": timezone,\n",
    "        \"models\": model,\n",
    "        \"forecast_days\": forecast_days\n",
    "    }\n",
    "\n",
    "    resp = r.get(\"https://ensemble-api.open-meteo.com/v1/ensemble\",\n",
    "                 params=payload)\n",
    "    data = pd.DataFrame.from_dict(resp.json()['hourly'])\n",
    "    data['time'] = pd.to_datetime(\n",
    "        data['time']).dt.tz_localize(resp.json()['timezone'])\n",
    "\n",
    "    data = data.dropna()\n",
    "\n",
    "    return data"
   ]
  },
  {
   "cell_type": "code",
   "execution_count": 17,
   "metadata": {},
   "outputs": [],
   "source": [
    "data = get_ensemble_data()"
   ]
  },
  {
   "cell_type": "code",
   "execution_count": 18,
   "metadata": {},
   "outputs": [],
   "source": [
    "members = len(data.iloc[:, data.columns.str.contains('rain')].columns)\n",
    "\n",
    "data['rain_prob'] = (((data.iloc[:, data.columns.str.contains(\n",
    "    'rain')] >= 0.1).sum(axis=1) / members) * 100.)\n",
    "\n",
    "data['rain_median'] = data.iloc[:, data.columns.str.contains('rain')].median(axis=1)\n",
    "data['rain_mean'] = data.iloc[:, data.columns.str.contains('rain')].mean(axis=1)"
   ]
  },
  {
   "cell_type": "code",
   "execution_count": 15,
   "metadata": {},
   "outputs": [],
   "source": [
    "data.loc[data['rain_prob'] < 5, ['rain_prob','rain_mean']] = np.nan\n"
   ]
  },
  {
   "cell_type": "code",
   "execution_count": null,
   "metadata": {},
   "outputs": [],
   "source": [
    "\n",
    "trace = go.Bar(\n",
    "    x=data['time'],\n",
    "    y=data['rain_mean'],\n",
    "    text=data['rain_prob'],\n",
    "    name='Rain',\n",
    "    textposition='outside',\n",
    "    showlegend=False),\n",
    "\n",
    "\n",
    "go.Figure(trace)"
   ]
  },
  {
   "cell_type": "code",
   "execution_count": null,
   "metadata": {},
   "outputs": [],
   "source": [
    "fig = make_subplots(rows=3,\n",
    "                    cols=1,\n",
    "                    shared_xaxes=True,\n",
    "                    vertical_spacing=0.02,\n",
    "                    row_heights=[0.6, 0.3, 0.4])\n",
    "\n",
    "\n",
    "for col_temp in data.columns[data.columns.str.contains('temperature')]:\n",
    "    fig.add_trace(\n",
    "        go.Scatter(\n",
    "            x=data['time'],\n",
    "            y=data[col_temp],\n",
    "            mode='lines',\n",
    "            name=col_temp,\n",
    "            showlegend=False),\n",
    "        row=1,\n",
    "        col=1\n",
    "    )\n",
    "\n",
    "fig.add_trace(\n",
    "    go.Bar(\n",
    "        x=data['time'],\n",
    "        y=data['rain_median'],\n",
    "        text=data['rain_prob'],\n",
    "        name='Rain',\n",
    "        textposition='auto',\n",
    "        showlegend=False),\n",
    "    row=2,\n",
    "    col=1\n",
    ")\n",
    "\n",
    "for col_cloud in data.columns[data.columns.str.contains('cloudcover')]:\n",
    "    fig.add_trace(\n",
    "        go.Scatter(\n",
    "            x=data['time'],\n",
    "            y=data[col_cloud],\n",
    "            mode='markers',\n",
    "            name=col_cloud,\n",
    "            showlegend=False),\n",
    "        row=3,\n",
    "        col=1\n",
    "    )\n",
    "\n",
    "fig.add_trace(\n",
    "    go.Scatter(\n",
    "        x=data['time'],\n",
    "        y=data['cloud_mean'],\n",
    "        mode='lines',\n",
    "        name=\"Mean cloud cover\",\n",
    "        showlegend=False,\n",
    "        line=dict(color='black', width=4)),\n",
    "    row=3,\n",
    "    col=1\n",
    ")\n",
    "\n",
    "fig.update_layout(\n",
    "            xaxis=dict(showgrid=True),\n",
    "            yaxis=dict(showgrid=True, zeroline=True),\n",
    "            height=800,\n",
    "            margin={\"r\": 0.1, \"t\": 0.1, \"l\": 0.1, \"b\": 0.1},\n",
    "            template='plotly_white',\n",
    "        )\n",
    "\n",
    "fig.show()"
   ]
  },
  {
   "cell_type": "code",
   "execution_count": null,
   "metadata": {},
   "outputs": [],
   "source": []
  }
 ],
 "metadata": {
  "kernelspec": {
   "display_name": "Python 3",
   "language": "python",
   "name": "python3"
  },
  "language_info": {
   "codemirror_mode": {
    "name": "ipython",
    "version": 3
   },
   "file_extension": ".py",
   "mimetype": "text/x-python",
   "name": "python",
   "nbconvert_exporter": "python",
   "pygments_lexer": "ipython3",
   "version": "3.10.6"
  },
  "orig_nbformat": 4
 },
 "nbformat": 4,
 "nbformat_minor": 2
}
