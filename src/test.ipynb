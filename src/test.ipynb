{
 "cells": [
  {
   "cell_type": "code",
   "execution_count": 67,
   "metadata": {},
   "outputs": [],
   "source": [
    "import pandas as pd\n",
    "import requests as r\n",
    "import plotly.graph_objects as go\n",
    "from plotly.subplots import make_subplots\n",
    "import numpy as np\n",
    "import plotly.express as px\n",
    "from utils.settings import DETERMINISTIC_MODELS, DETERMINISTIC_VARS"
   ]
  },
  {
   "cell_type": "code",
   "execution_count": 68,
   "metadata": {},
   "outputs": [],
   "source": [
    "def get_historical_data(latitude=53.55,\n",
    "                        longitude=9.99,\n",
    "                        variables='temperature_2m',\n",
    "                        timezone='auto',\n",
    "                        model='best_match',\n",
    "                        start_date='1991-01-01',\n",
    "                        end_date='2020-12-31'):\n",
    "    \"\"\"\n",
    "    Get historical data for a point\n",
    "    \"\"\"\n",
    "    payload = {\n",
    "        \"latitude\": latitude,\n",
    "        \"longitude\": longitude,\n",
    "        \"hourly\": variables,\n",
    "        \"timezone\": timezone,\n",
    "        \"models\": model,\n",
    "        \"start_date\": start_date,\n",
    "        \"end_date\": end_date\n",
    "    }\n",
    "\n",
    "    resp = r.get(\"https://archive-api.open-meteo.com/v1/archive\",\n",
    "                 params=payload)\n",
    "    data = pd.DataFrame.from_dict(resp.json()['hourly'])\n",
    "    data['time'] = pd.to_datetime(\n",
    "        data['time'], format='%Y-%m-%dT%H:%M')\n",
    "\n",
    "    data = data.dropna()\n",
    "\n",
    "    return data"
   ]
  },
  {
   "cell_type": "code",
   "execution_count": 75,
   "metadata": {},
   "outputs": [],
   "source": [
    "def compute_monthly_clima(latitude=53.55, longitude=9.99, model='era5',\n",
    "                          start_date='1991-01-01', end_date='2020-12-31'):\n",
    "    \"\"\"Takes a 30 years hourly dataframe as input and compute\n",
    "    some monthly statistics by aggregating many times\"\"\"\n",
    "\n",
    "    df = get_historical_data(\n",
    "        variables='temperature_2m,precipitation,snowfall,cloudcover,windspeed_10m',\n",
    "        latitude=latitude,\n",
    "        longitude=longitude,\n",
    "        timezone='GMT',  # Use UTC to avoid issues with daily computations\n",
    "        model=model,\n",
    "        start_date=start_date,\n",
    "        end_date=end_date)\n",
    "\n",
    "    daily = df.resample('1D', on='time').agg(t2m_mean=('temperature_2m', 'mean'),\n",
    "                                             t2m_min=('temperature_2m', 'min'),\n",
    "                                             t2m_max=('temperature_2m', 'max'),\n",
    "                                             wind_speed_max=(\n",
    "                                                 'windspeed_10m', 'max'),  # in km/h\n",
    "                                             daily_rain=(\n",
    "                                                 'precipitation', 'sum'),  # in mm\n",
    "                                             daily_snow=(\n",
    "                                                 'snowfall', 'sum'),  # in cm\n",
    "                                             cloudcover_mean=(\n",
    "                                                 'cloudcover', 'mean')  # in %\n",
    "                                             )\n",
    "    daily['overcast'] = daily['cloudcover_mean'] >= 80\n",
    "    daily['partly_cloudy'] = (daily['cloudcover_mean'] < 80) & (\n",
    "        daily['cloudcover_mean'] > 20)\n",
    "    daily['sunny'] = daily['cloudcover_mean'] <= 20\n",
    "    daily['t_max_gt_30'] = daily['t2m_max'] > 30\n",
    "    daily['t_max_gt_25'] = (daily['t2m_max'] > 25) & (daily['t2m_max'] <= 30)\n",
    "    daily['t_max_gt_20'] = (daily['t2m_max'] > 20) & (daily['t2m_max'] <= 25)\n",
    "    daily['t_max_gt_15'] = (daily['t2m_max'] > 15) & (daily['t2m_max'] <= 20)\n",
    "    daily['t_max_gt_10'] = (daily['t2m_max'] > 10) & (daily['t2m_max'] <= 15)\n",
    "    daily['t_max_gt_5'] = (daily['t2m_max'] > 5) & (daily['t2m_max'] <= 10)\n",
    "    daily['t_max_gt_0'] = (daily['t2m_max'] >= 0) & (daily['t2m_max'] <= 5)\n",
    "    daily['t_max_lt_0'] = (daily['t2m_max'] >= -5) & (daily['t2m_max'] < 0)\n",
    "    daily['t_max_lt_m5'] = daily['t2m_max'] < -5\n",
    "    daily['frost'] = daily['t2m_min'] <= 0\n",
    "    daily['wet'] = daily['daily_rain'] >= 1.0  # mm\n",
    "    daily['dry'] = daily['daily_rain'] < 1.0  # mm\n",
    "    daily['snow'] = daily['daily_snow'] >= 1.0  # cm\n",
    "    daily['p_50_100'] = (daily['daily_rain'] <= 100) & (\n",
    "        daily['daily_rain'] > 50)\n",
    "    daily['p_20_50'] = (daily['daily_rain'] <= 50) & (daily['daily_rain'] > 20)\n",
    "    daily['p_10_20'] = (daily['daily_rain'] <= 20) & (daily['daily_rain'] > 10)\n",
    "    daily['p_5_10'] = (daily['daily_rain'] <= 10) & (daily['daily_rain'] > 5)\n",
    "    daily['p_2_5'] = (daily['daily_rain'] <= 5) & (daily['daily_rain'] > 2)\n",
    "    daily['p_lt_2'] = (daily['daily_rain'] <= 2) & (daily['daily_rain'] > 1)\n",
    "    daily['w_gt_61'] = (daily['wind_speed_max'] >= 61)\n",
    "    daily['w_gt_50'] = (daily['wind_speed_max'] >= 50) & (daily['wind_speed_max'] < 61)\n",
    "    daily['w_gt_38'] = (daily['wind_speed_max'] >= 38) & (daily['wind_speed_max'] < 50)\n",
    "    daily['w_gt_28'] = (daily['wind_speed_max'] >= 28) & (daily['wind_speed_max'] < 38)\n",
    "    daily['w_gt_19'] = (daily['wind_speed_max'] >= 19) & (daily['wind_speed_max'] < 28)\n",
    "    daily['w_gt_12'] = (daily['wind_speed_max'] >= 12) & (daily['wind_speed_max'] < 19)\n",
    "    daily['w_gt_5'] = (daily['wind_speed_max'] >= 5) & (daily['wind_speed_max'] < 12)\n",
    "    daily['w_gt_1'] = (daily['wind_speed_max'] >= 1) & (daily['wind_speed_max'] < 5)\n",
    "    daily['w_calm'] = daily['wind_speed_max'] <= 0.1\n",
    "    #\n",
    "    bool_cols = daily.dtypes[daily.dtypes == bool].index\n",
    "    # Compute monthly stats\n",
    "    monthly = daily[bool_cols].resample('1M').sum().add_suffix('_days')\n",
    "    monthly['monthly_rain'] = daily['daily_rain'].resample('1M').sum()\n",
    "    monthly['t2m_max_mean'] = daily['t2m_max'].resample('1M').mean()\n",
    "    monthly['t2m_min_mean'] = daily['t2m_min'].resample('1M').mean()\n",
    "    monthly['t2m_min_min'] = daily['t2m_min'].resample('1M').min()\n",
    "    monthly['t2m_max_max'] = daily['t2m_max'].resample('1M').max()\n",
    "    stats = monthly.groupby(monthly.index.month).mean().round(1)\n",
    "\n",
    "    return stats"
   ]
  },
  {
   "cell_type": "code",
   "execution_count": 78,
   "metadata": {},
   "outputs": [],
   "source": [
    "stats = compute_monthly_clima()"
   ]
  },
  {
   "cell_type": "code",
   "execution_count": 96,
   "metadata": {},
   "outputs": [],
   "source": [
    "end_date = (pd.to_datetime('now',utc=True)-pd.to_timedelta('2 days')).strftime(\"%Y-%m-%d\")\n",
    "start_date = pd.to_datetime('now',utc=True).replace(month=1, day=1).strftime(\"%Y-%m-%d\")\n",
    "stats_year = compute_monthly_clima(start_date=start_date, end_date=end_date)"
   ]
  },
  {
   "cell_type": "code",
   "execution_count": 110,
   "metadata": {},
   "outputs": [
    {
     "name": "stdout",
     "output_type": "stream",
     "text": [
      "['Jan', 'Feb', 'Mar', 'Apr', 'May', 'Jun', 'Jul', 'Aug', 'Sep']\n",
      "time\n",
      "1    0.0\n",
      "2    0.0\n",
      "3    0.0\n",
      "4    0.0\n",
      "5    0.0\n",
      "6    0.0\n",
      "7    1.0\n",
      "8    0.0\n",
      "9    0.0\n",
      "Name: w_gt_38_days, dtype: float64\n"
     ]
    },
    {
     "data": {
      "application/vnd.plotly.v1+json": {
       "config": {
        "plotlyServerURL": "https://plot.ly"
       },
       "data": [
        {
         "marker": {
          "color": "rgb(245,134,38)"
         },
         "name": ">61 km/h",
         "opacity": 0.9,
         "showlegend": true,
         "text": [
          0,
          0,
          0,
          0,
          0,
          0,
          0,
          0,
          0,
          0,
          0,
          0
         ],
         "textfont": {
          "color": "white"
         },
         "type": "bar",
         "x": [
          "Jan",
          "Feb",
          "Mar",
          "Apr",
          "May",
          "Jun",
          "Jul",
          "Aug",
          "Sep",
          "Oct",
          "Nov",
          "Dec"
         ],
         "y": [
          0,
          0,
          0,
          0,
          0,
          0,
          0,
          0,
          0,
          0,
          0,
          0
         ]
        },
        {
         "marker": {
          "color": "rgb(226,225,53)"
         },
         "name": ">50 km/h",
         "opacity": 0.9,
         "showlegend": true,
         "text": [
          0.2,
          0.1,
          0.1,
          0,
          0,
          0,
          0,
          0,
          0,
          0.1,
          0,
          0.1
         ],
         "textfont": {
          "color": "white"
         },
         "type": "bar",
         "x": [
          "Jan",
          "Feb",
          "Mar",
          "Apr",
          "May",
          "Jun",
          "Jul",
          "Aug",
          "Sep",
          "Oct",
          "Nov",
          "Dec"
         ],
         "y": [
          0.2,
          0.1,
          0.1,
          0,
          0,
          0,
          0,
          0,
          0,
          0.1,
          0,
          0.1
         ]
        },
        {
         "marker": {
          "color": "rgb(122,171,36)"
         },
         "name": ">38 km/h",
         "opacity": 0.9,
         "showlegend": true,
         "text": [
          1.5,
          1.1,
          1,
          0.2,
          0,
          0,
          0,
          0,
          0.1,
          0.4,
          0.4,
          1
         ],
         "textfont": {
          "color": "white"
         },
         "type": "bar",
         "x": [
          "Jan",
          "Feb",
          "Mar",
          "Apr",
          "May",
          "Jun",
          "Jul",
          "Aug",
          "Sep",
          "Oct",
          "Nov",
          "Dec"
         ],
         "y": [
          1.5,
          1.1,
          1,
          0.2,
          0,
          0,
          0,
          0,
          0.1,
          0.4,
          0.4,
          1
         ]
        },
        {
         "marker": {
          "color": "rgb(0,139,85)"
         },
         "name": ">28 km/h",
         "opacity": 0.9,
         "showlegend": true,
         "text": [
          6.2,
          4.7,
          3.8,
          1.6,
          1,
          1.3,
          0.9,
          0.8,
          1.5,
          3.3,
          3.5,
          5
         ],
         "textfont": {
          "color": "white"
         },
         "type": "bar",
         "x": [
          "Jan",
          "Feb",
          "Mar",
          "Apr",
          "May",
          "Jun",
          "Jul",
          "Aug",
          "Sep",
          "Oct",
          "Nov",
          "Dec"
         ],
         "y": [
          6.2,
          4.7,
          3.8,
          1.6,
          1,
          1.3,
          0.9,
          0.8,
          1.5,
          3.3,
          3.5,
          5
         ]
        },
        {
         "marker": {
          "color": "rgb(0,184,44)"
         },
         "name": ">19 km/h",
         "opacity": 0.9,
         "showlegend": true,
         "text": [
          10.4,
          10.3,
          12,
          11.4,
          12.2,
          10.8,
          10.8,
          9.6,
          9.6,
          10.6,
          10.7,
          11.6
         ],
         "textfont": {
          "color": "white"
         },
         "type": "bar",
         "x": [
          "Jan",
          "Feb",
          "Mar",
          "Apr",
          "May",
          "Jun",
          "Jul",
          "Aug",
          "Sep",
          "Oct",
          "Nov",
          "Dec"
         ],
         "y": [
          10.4,
          10.3,
          12,
          11.4,
          12.2,
          10.8,
          10.8,
          9.6,
          9.6,
          10.6,
          10.7,
          11.6
         ]
        },
        {
         "marker": {
          "color": "rgb(74,218,102)"
         },
         "name": ">12 km/h",
         "opacity": 0.9,
         "showlegend": true,
         "text": [
          9.2,
          9.2,
          11.8,
          14.5,
          16.3,
          16.1,
          16.7,
          17.3,
          14.1,
          12.6,
          11.2,
          9.6
         ],
         "textfont": {
          "color": "white"
         },
         "type": "bar",
         "x": [
          "Jan",
          "Feb",
          "Mar",
          "Apr",
          "May",
          "Jun",
          "Jul",
          "Aug",
          "Sep",
          "Oct",
          "Nov",
          "Dec"
         ],
         "y": [
          9.2,
          9.2,
          11.8,
          14.5,
          16.3,
          16.1,
          16.7,
          17.3,
          14.1,
          12.6,
          11.2,
          9.6
         ]
        },
        {
         "marker": {
          "color": "rgb(113,247,153)"
         },
         "name": ">5 km/h",
         "opacity": 0.9,
         "showlegend": true,
         "text": [
          3.5,
          2.9,
          2.3,
          2.2,
          1.5,
          1.8,
          2.5,
          3.3,
          4.7,
          4,
          4.1,
          3.8
         ],
         "textfont": {
          "color": "white"
         },
         "type": "bar",
         "x": [
          "Jan",
          "Feb",
          "Mar",
          "Apr",
          "May",
          "Jun",
          "Jul",
          "Aug",
          "Sep",
          "Oct",
          "Nov",
          "Dec"
         ],
         "y": [
          3.5,
          2.9,
          2.3,
          2.2,
          1.5,
          1.8,
          2.5,
          3.3,
          4.7,
          4,
          4.1,
          3.8
         ]
        },
        {
         "marker": {
          "color": "rgb(152,250,206)"
         },
         "name": ">1 km/h",
         "opacity": 0.9,
         "showlegend": true,
         "text": [
          0,
          0,
          0,
          0,
          0,
          0,
          0,
          0,
          0,
          0,
          0,
          0
         ],
         "textfont": {
          "color": "white"
         },
         "type": "bar",
         "x": [
          "Jan",
          "Feb",
          "Mar",
          "Apr",
          "May",
          "Jun",
          "Jul",
          "Aug",
          "Sep",
          "Oct",
          "Nov",
          "Dec"
         ],
         "y": [
          0,
          0,
          0,
          0,
          0,
          0,
          0,
          0,
          0,
          0,
          0,
          0
         ]
        },
        {
         "marker": {
          "color": "rgb(217,209,209)"
         },
         "name": "Calm",
         "opacity": 0.9,
         "showlegend": true,
         "text": [
          0,
          0,
          0,
          0,
          0,
          0,
          0,
          0,
          0,
          0,
          0,
          0
         ],
         "textfont": {
          "color": "white"
         },
         "type": "bar",
         "x": [
          "Jan",
          "Feb",
          "Mar",
          "Apr",
          "May",
          "Jun",
          "Jul",
          "Aug",
          "Sep",
          "Oct",
          "Nov",
          "Dec"
         ],
         "y": [
          0,
          0,
          0,
          0,
          0,
          0,
          0,
          0,
          0,
          0,
          0,
          0
         ]
        }
       ],
       "layout": {
        "barmode": "stack",
        "legend": {
         "orientation": "h"
        },
        "margin": {
         "b": 0.1,
         "l": 0.1,
         "r": 0.1,
         "t": 0.1
        },
        "template": {
         "data": {
          "bar": [
           {
            "error_x": {
             "color": "#2a3f5f"
            },
            "error_y": {
             "color": "#2a3f5f"
            },
            "marker": {
             "line": {
              "color": "white",
              "width": 0.5
             },
             "pattern": {
              "fillmode": "overlay",
              "size": 10,
              "solidity": 0.2
             }
            },
            "type": "bar"
           }
          ],
          "barpolar": [
           {
            "marker": {
             "line": {
              "color": "white",
              "width": 0.5
             },
             "pattern": {
              "fillmode": "overlay",
              "size": 10,
              "solidity": 0.2
             }
            },
            "type": "barpolar"
           }
          ],
          "carpet": [
           {
            "aaxis": {
             "endlinecolor": "#2a3f5f",
             "gridcolor": "#C8D4E3",
             "linecolor": "#C8D4E3",
             "minorgridcolor": "#C8D4E3",
             "startlinecolor": "#2a3f5f"
            },
            "baxis": {
             "endlinecolor": "#2a3f5f",
             "gridcolor": "#C8D4E3",
             "linecolor": "#C8D4E3",
             "minorgridcolor": "#C8D4E3",
             "startlinecolor": "#2a3f5f"
            },
            "type": "carpet"
           }
          ],
          "choropleth": [
           {
            "colorbar": {
             "outlinewidth": 0,
             "ticks": ""
            },
            "type": "choropleth"
           }
          ],
          "contour": [
           {
            "colorbar": {
             "outlinewidth": 0,
             "ticks": ""
            },
            "colorscale": [
             [
              0,
              "#0d0887"
             ],
             [
              0.1111111111111111,
              "#46039f"
             ],
             [
              0.2222222222222222,
              "#7201a8"
             ],
             [
              0.3333333333333333,
              "#9c179e"
             ],
             [
              0.4444444444444444,
              "#bd3786"
             ],
             [
              0.5555555555555556,
              "#d8576b"
             ],
             [
              0.6666666666666666,
              "#ed7953"
             ],
             [
              0.7777777777777778,
              "#fb9f3a"
             ],
             [
              0.8888888888888888,
              "#fdca26"
             ],
             [
              1,
              "#f0f921"
             ]
            ],
            "type": "contour"
           }
          ],
          "contourcarpet": [
           {
            "colorbar": {
             "outlinewidth": 0,
             "ticks": ""
            },
            "type": "contourcarpet"
           }
          ],
          "heatmap": [
           {
            "colorbar": {
             "outlinewidth": 0,
             "ticks": ""
            },
            "colorscale": [
             [
              0,
              "#0d0887"
             ],
             [
              0.1111111111111111,
              "#46039f"
             ],
             [
              0.2222222222222222,
              "#7201a8"
             ],
             [
              0.3333333333333333,
              "#9c179e"
             ],
             [
              0.4444444444444444,
              "#bd3786"
             ],
             [
              0.5555555555555556,
              "#d8576b"
             ],
             [
              0.6666666666666666,
              "#ed7953"
             ],
             [
              0.7777777777777778,
              "#fb9f3a"
             ],
             [
              0.8888888888888888,
              "#fdca26"
             ],
             [
              1,
              "#f0f921"
             ]
            ],
            "type": "heatmap"
           }
          ],
          "heatmapgl": [
           {
            "colorbar": {
             "outlinewidth": 0,
             "ticks": ""
            },
            "colorscale": [
             [
              0,
              "#0d0887"
             ],
             [
              0.1111111111111111,
              "#46039f"
             ],
             [
              0.2222222222222222,
              "#7201a8"
             ],
             [
              0.3333333333333333,
              "#9c179e"
             ],
             [
              0.4444444444444444,
              "#bd3786"
             ],
             [
              0.5555555555555556,
              "#d8576b"
             ],
             [
              0.6666666666666666,
              "#ed7953"
             ],
             [
              0.7777777777777778,
              "#fb9f3a"
             ],
             [
              0.8888888888888888,
              "#fdca26"
             ],
             [
              1,
              "#f0f921"
             ]
            ],
            "type": "heatmapgl"
           }
          ],
          "histogram": [
           {
            "marker": {
             "pattern": {
              "fillmode": "overlay",
              "size": 10,
              "solidity": 0.2
             }
            },
            "type": "histogram"
           }
          ],
          "histogram2d": [
           {
            "colorbar": {
             "outlinewidth": 0,
             "ticks": ""
            },
            "colorscale": [
             [
              0,
              "#0d0887"
             ],
             [
              0.1111111111111111,
              "#46039f"
             ],
             [
              0.2222222222222222,
              "#7201a8"
             ],
             [
              0.3333333333333333,
              "#9c179e"
             ],
             [
              0.4444444444444444,
              "#bd3786"
             ],
             [
              0.5555555555555556,
              "#d8576b"
             ],
             [
              0.6666666666666666,
              "#ed7953"
             ],
             [
              0.7777777777777778,
              "#fb9f3a"
             ],
             [
              0.8888888888888888,
              "#fdca26"
             ],
             [
              1,
              "#f0f921"
             ]
            ],
            "type": "histogram2d"
           }
          ],
          "histogram2dcontour": [
           {
            "colorbar": {
             "outlinewidth": 0,
             "ticks": ""
            },
            "colorscale": [
             [
              0,
              "#0d0887"
             ],
             [
              0.1111111111111111,
              "#46039f"
             ],
             [
              0.2222222222222222,
              "#7201a8"
             ],
             [
              0.3333333333333333,
              "#9c179e"
             ],
             [
              0.4444444444444444,
              "#bd3786"
             ],
             [
              0.5555555555555556,
              "#d8576b"
             ],
             [
              0.6666666666666666,
              "#ed7953"
             ],
             [
              0.7777777777777778,
              "#fb9f3a"
             ],
             [
              0.8888888888888888,
              "#fdca26"
             ],
             [
              1,
              "#f0f921"
             ]
            ],
            "type": "histogram2dcontour"
           }
          ],
          "mesh3d": [
           {
            "colorbar": {
             "outlinewidth": 0,
             "ticks": ""
            },
            "type": "mesh3d"
           }
          ],
          "parcoords": [
           {
            "line": {
             "colorbar": {
              "outlinewidth": 0,
              "ticks": ""
             }
            },
            "type": "parcoords"
           }
          ],
          "pie": [
           {
            "automargin": true,
            "type": "pie"
           }
          ],
          "scatter": [
           {
            "fillpattern": {
             "fillmode": "overlay",
             "size": 10,
             "solidity": 0.2
            },
            "type": "scatter"
           }
          ],
          "scatter3d": [
           {
            "line": {
             "colorbar": {
              "outlinewidth": 0,
              "ticks": ""
             }
            },
            "marker": {
             "colorbar": {
              "outlinewidth": 0,
              "ticks": ""
             }
            },
            "type": "scatter3d"
           }
          ],
          "scattercarpet": [
           {
            "marker": {
             "colorbar": {
              "outlinewidth": 0,
              "ticks": ""
             }
            },
            "type": "scattercarpet"
           }
          ],
          "scattergeo": [
           {
            "marker": {
             "colorbar": {
              "outlinewidth": 0,
              "ticks": ""
             }
            },
            "type": "scattergeo"
           }
          ],
          "scattergl": [
           {
            "marker": {
             "colorbar": {
              "outlinewidth": 0,
              "ticks": ""
             }
            },
            "type": "scattergl"
           }
          ],
          "scattermapbox": [
           {
            "marker": {
             "colorbar": {
              "outlinewidth": 0,
              "ticks": ""
             }
            },
            "type": "scattermapbox"
           }
          ],
          "scatterpolar": [
           {
            "marker": {
             "colorbar": {
              "outlinewidth": 0,
              "ticks": ""
             }
            },
            "type": "scatterpolar"
           }
          ],
          "scatterpolargl": [
           {
            "marker": {
             "colorbar": {
              "outlinewidth": 0,
              "ticks": ""
             }
            },
            "type": "scatterpolargl"
           }
          ],
          "scatterternary": [
           {
            "marker": {
             "colorbar": {
              "outlinewidth": 0,
              "ticks": ""
             }
            },
            "type": "scatterternary"
           }
          ],
          "surface": [
           {
            "colorbar": {
             "outlinewidth": 0,
             "ticks": ""
            },
            "colorscale": [
             [
              0,
              "#0d0887"
             ],
             [
              0.1111111111111111,
              "#46039f"
             ],
             [
              0.2222222222222222,
              "#7201a8"
             ],
             [
              0.3333333333333333,
              "#9c179e"
             ],
             [
              0.4444444444444444,
              "#bd3786"
             ],
             [
              0.5555555555555556,
              "#d8576b"
             ],
             [
              0.6666666666666666,
              "#ed7953"
             ],
             [
              0.7777777777777778,
              "#fb9f3a"
             ],
             [
              0.8888888888888888,
              "#fdca26"
             ],
             [
              1,
              "#f0f921"
             ]
            ],
            "type": "surface"
           }
          ],
          "table": [
           {
            "cells": {
             "fill": {
              "color": "#EBF0F8"
             },
             "line": {
              "color": "white"
             }
            },
            "header": {
             "fill": {
              "color": "#C8D4E3"
             },
             "line": {
              "color": "white"
             }
            },
            "type": "table"
           }
          ]
         },
         "layout": {
          "annotationdefaults": {
           "arrowcolor": "#2a3f5f",
           "arrowhead": 0,
           "arrowwidth": 1
          },
          "autotypenumbers": "strict",
          "coloraxis": {
           "colorbar": {
            "outlinewidth": 0,
            "ticks": ""
           }
          },
          "colorscale": {
           "diverging": [
            [
             0,
             "#8e0152"
            ],
            [
             0.1,
             "#c51b7d"
            ],
            [
             0.2,
             "#de77ae"
            ],
            [
             0.3,
             "#f1b6da"
            ],
            [
             0.4,
             "#fde0ef"
            ],
            [
             0.5,
             "#f7f7f7"
            ],
            [
             0.6,
             "#e6f5d0"
            ],
            [
             0.7,
             "#b8e186"
            ],
            [
             0.8,
             "#7fbc41"
            ],
            [
             0.9,
             "#4d9221"
            ],
            [
             1,
             "#276419"
            ]
           ],
           "sequential": [
            [
             0,
             "#0d0887"
            ],
            [
             0.1111111111111111,
             "#46039f"
            ],
            [
             0.2222222222222222,
             "#7201a8"
            ],
            [
             0.3333333333333333,
             "#9c179e"
            ],
            [
             0.4444444444444444,
             "#bd3786"
            ],
            [
             0.5555555555555556,
             "#d8576b"
            ],
            [
             0.6666666666666666,
             "#ed7953"
            ],
            [
             0.7777777777777778,
             "#fb9f3a"
            ],
            [
             0.8888888888888888,
             "#fdca26"
            ],
            [
             1,
             "#f0f921"
            ]
           ],
           "sequentialminus": [
            [
             0,
             "#0d0887"
            ],
            [
             0.1111111111111111,
             "#46039f"
            ],
            [
             0.2222222222222222,
             "#7201a8"
            ],
            [
             0.3333333333333333,
             "#9c179e"
            ],
            [
             0.4444444444444444,
             "#bd3786"
            ],
            [
             0.5555555555555556,
             "#d8576b"
            ],
            [
             0.6666666666666666,
             "#ed7953"
            ],
            [
             0.7777777777777778,
             "#fb9f3a"
            ],
            [
             0.8888888888888888,
             "#fdca26"
            ],
            [
             1,
             "#f0f921"
            ]
           ]
          },
          "colorway": [
           "#636efa",
           "#EF553B",
           "#00cc96",
           "#ab63fa",
           "#FFA15A",
           "#19d3f3",
           "#FF6692",
           "#B6E880",
           "#FF97FF",
           "#FECB52"
          ],
          "font": {
           "color": "#2a3f5f"
          },
          "geo": {
           "bgcolor": "white",
           "lakecolor": "white",
           "landcolor": "white",
           "showlakes": true,
           "showland": true,
           "subunitcolor": "#C8D4E3"
          },
          "hoverlabel": {
           "align": "left"
          },
          "hovermode": "closest",
          "mapbox": {
           "style": "light"
          },
          "paper_bgcolor": "white",
          "plot_bgcolor": "white",
          "polar": {
           "angularaxis": {
            "gridcolor": "#EBF0F8",
            "linecolor": "#EBF0F8",
            "ticks": ""
           },
           "bgcolor": "white",
           "radialaxis": {
            "gridcolor": "#EBF0F8",
            "linecolor": "#EBF0F8",
            "ticks": ""
           }
          },
          "scene": {
           "xaxis": {
            "backgroundcolor": "white",
            "gridcolor": "#DFE8F3",
            "gridwidth": 2,
            "linecolor": "#EBF0F8",
            "showbackground": true,
            "ticks": "",
            "zerolinecolor": "#EBF0F8"
           },
           "yaxis": {
            "backgroundcolor": "white",
            "gridcolor": "#DFE8F3",
            "gridwidth": 2,
            "linecolor": "#EBF0F8",
            "showbackground": true,
            "ticks": "",
            "zerolinecolor": "#EBF0F8"
           },
           "zaxis": {
            "backgroundcolor": "white",
            "gridcolor": "#DFE8F3",
            "gridwidth": 2,
            "linecolor": "#EBF0F8",
            "showbackground": true,
            "ticks": "",
            "zerolinecolor": "#EBF0F8"
           }
          },
          "shapedefaults": {
           "line": {
            "color": "#2a3f5f"
           }
          },
          "ternary": {
           "aaxis": {
            "gridcolor": "#DFE8F3",
            "linecolor": "#A2B1C6",
            "ticks": ""
           },
           "baxis": {
            "gridcolor": "#DFE8F3",
            "linecolor": "#A2B1C6",
            "ticks": ""
           },
           "bgcolor": "white",
           "caxis": {
            "gridcolor": "#DFE8F3",
            "linecolor": "#A2B1C6",
            "ticks": ""
           }
          },
          "title": {
           "x": 0.05
          },
          "xaxis": {
           "automargin": true,
           "gridcolor": "#EBF0F8",
           "linecolor": "#EBF0F8",
           "ticks": "",
           "title": {
            "standoff": 15
           },
           "zerolinecolor": "#EBF0F8",
           "zerolinewidth": 2
          },
          "yaxis": {
           "automargin": true,
           "gridcolor": "#EBF0F8",
           "linecolor": "#EBF0F8",
           "ticks": "",
           "title": {
            "standoff": 15
           },
           "zerolinecolor": "#EBF0F8",
           "zerolinewidth": 2
          }
         }
        },
        "xaxis": {
         "anchor": "y",
         "domain": [
          0,
          1
         ]
        },
        "yaxis": {
         "anchor": "x",
         "domain": [
          0,
          1
         ],
         "showgrid": false
        }
       }
      },
      "text/html": [
       "<div>                            <div id=\"2ae053e3-942d-47cf-ac7b-fc0bf8280f44\" class=\"plotly-graph-div\" style=\"height:525px; width:100%;\"></div>            <script type=\"text/javascript\">                require([\"plotly\"], function(Plotly) {                    window.PLOTLYENV=window.PLOTLYENV || {};                                    if (document.getElementById(\"2ae053e3-942d-47cf-ac7b-fc0bf8280f44\")) {                    Plotly.newPlot(                        \"2ae053e3-942d-47cf-ac7b-fc0bf8280f44\",                        [{\"marker\":{\"color\":\"rgb(245,134,38)\"},\"name\":\">61 km/h\",\"opacity\":0.9,\"showlegend\":true,\"text\":[0.0,0.0,0.0,0.0,0.0,0.0,0.0,0.0,0.0,0.0,0.0,0.0],\"textfont\":{\"color\":\"white\"},\"x\":[\"Jan\",\"Feb\",\"Mar\",\"Apr\",\"May\",\"Jun\",\"Jul\",\"Aug\",\"Sep\",\"Oct\",\"Nov\",\"Dec\"],\"y\":[0.0,0.0,0.0,0.0,0.0,0.0,0.0,0.0,0.0,0.0,0.0,0.0],\"type\":\"bar\"},{\"marker\":{\"color\":\"rgb(226,225,53)\"},\"name\":\">50 km/h\",\"opacity\":0.9,\"showlegend\":true,\"text\":[0.2,0.1,0.1,0.0,0.0,0.0,0.0,0.0,0.0,0.1,0.0,0.1],\"textfont\":{\"color\":\"white\"},\"x\":[\"Jan\",\"Feb\",\"Mar\",\"Apr\",\"May\",\"Jun\",\"Jul\",\"Aug\",\"Sep\",\"Oct\",\"Nov\",\"Dec\"],\"y\":[0.2,0.1,0.1,0.0,0.0,0.0,0.0,0.0,0.0,0.1,0.0,0.1],\"type\":\"bar\"},{\"marker\":{\"color\":\"rgb(122,171,36)\"},\"name\":\">38 km/h\",\"opacity\":0.9,\"showlegend\":true,\"text\":[1.5,1.1,1.0,0.2,0.0,0.0,0.0,0.0,0.1,0.4,0.4,1.0],\"textfont\":{\"color\":\"white\"},\"x\":[\"Jan\",\"Feb\",\"Mar\",\"Apr\",\"May\",\"Jun\",\"Jul\",\"Aug\",\"Sep\",\"Oct\",\"Nov\",\"Dec\"],\"y\":[1.5,1.1,1.0,0.2,0.0,0.0,0.0,0.0,0.1,0.4,0.4,1.0],\"type\":\"bar\"},{\"marker\":{\"color\":\"rgb(0,139,85)\"},\"name\":\">28 km/h\",\"opacity\":0.9,\"showlegend\":true,\"text\":[6.2,4.7,3.8,1.6,1.0,1.3,0.9,0.8,1.5,3.3,3.5,5.0],\"textfont\":{\"color\":\"white\"},\"x\":[\"Jan\",\"Feb\",\"Mar\",\"Apr\",\"May\",\"Jun\",\"Jul\",\"Aug\",\"Sep\",\"Oct\",\"Nov\",\"Dec\"],\"y\":[6.2,4.7,3.8,1.6,1.0,1.3,0.9,0.8,1.5,3.3,3.5,5.0],\"type\":\"bar\"},{\"marker\":{\"color\":\"rgb(0,184,44)\"},\"name\":\">19 km/h\",\"opacity\":0.9,\"showlegend\":true,\"text\":[10.4,10.3,12.0,11.4,12.2,10.8,10.8,9.6,9.6,10.6,10.7,11.6],\"textfont\":{\"color\":\"white\"},\"x\":[\"Jan\",\"Feb\",\"Mar\",\"Apr\",\"May\",\"Jun\",\"Jul\",\"Aug\",\"Sep\",\"Oct\",\"Nov\",\"Dec\"],\"y\":[10.4,10.3,12.0,11.4,12.2,10.8,10.8,9.6,9.6,10.6,10.7,11.6],\"type\":\"bar\"},{\"marker\":{\"color\":\"rgb(74,218,102)\"},\"name\":\">12 km/h\",\"opacity\":0.9,\"showlegend\":true,\"text\":[9.2,9.2,11.8,14.5,16.3,16.1,16.7,17.3,14.1,12.6,11.2,9.6],\"textfont\":{\"color\":\"white\"},\"x\":[\"Jan\",\"Feb\",\"Mar\",\"Apr\",\"May\",\"Jun\",\"Jul\",\"Aug\",\"Sep\",\"Oct\",\"Nov\",\"Dec\"],\"y\":[9.2,9.2,11.8,14.5,16.3,16.1,16.7,17.3,14.1,12.6,11.2,9.6],\"type\":\"bar\"},{\"marker\":{\"color\":\"rgb(113,247,153)\"},\"name\":\">5 km/h\",\"opacity\":0.9,\"showlegend\":true,\"text\":[3.5,2.9,2.3,2.2,1.5,1.8,2.5,3.3,4.7,4.0,4.1,3.8],\"textfont\":{\"color\":\"white\"},\"x\":[\"Jan\",\"Feb\",\"Mar\",\"Apr\",\"May\",\"Jun\",\"Jul\",\"Aug\",\"Sep\",\"Oct\",\"Nov\",\"Dec\"],\"y\":[3.5,2.9,2.3,2.2,1.5,1.8,2.5,3.3,4.7,4.0,4.1,3.8],\"type\":\"bar\"},{\"marker\":{\"color\":\"rgb(152,250,206)\"},\"name\":\">1 km/h\",\"opacity\":0.9,\"showlegend\":true,\"text\":[0.0,0.0,0.0,0.0,0.0,0.0,0.0,0.0,0.0,0.0,0.0,0.0],\"textfont\":{\"color\":\"white\"},\"x\":[\"Jan\",\"Feb\",\"Mar\",\"Apr\",\"May\",\"Jun\",\"Jul\",\"Aug\",\"Sep\",\"Oct\",\"Nov\",\"Dec\"],\"y\":[0.0,0.0,0.0,0.0,0.0,0.0,0.0,0.0,0.0,0.0,0.0,0.0],\"type\":\"bar\"},{\"marker\":{\"color\":\"rgb(217,209,209)\"},\"name\":\"Calm\",\"opacity\":0.9,\"showlegend\":true,\"text\":[0.0,0.0,0.0,0.0,0.0,0.0,0.0,0.0,0.0,0.0,0.0,0.0],\"textfont\":{\"color\":\"white\"},\"x\":[\"Jan\",\"Feb\",\"Mar\",\"Apr\",\"May\",\"Jun\",\"Jul\",\"Aug\",\"Sep\",\"Oct\",\"Nov\",\"Dec\"],\"y\":[0.0,0.0,0.0,0.0,0.0,0.0,0.0,0.0,0.0,0.0,0.0,0.0],\"type\":\"bar\"}],                        {\"template\":{\"data\":{\"barpolar\":[{\"marker\":{\"line\":{\"color\":\"white\",\"width\":0.5},\"pattern\":{\"fillmode\":\"overlay\",\"size\":10,\"solidity\":0.2}},\"type\":\"barpolar\"}],\"bar\":[{\"error_x\":{\"color\":\"#2a3f5f\"},\"error_y\":{\"color\":\"#2a3f5f\"},\"marker\":{\"line\":{\"color\":\"white\",\"width\":0.5},\"pattern\":{\"fillmode\":\"overlay\",\"size\":10,\"solidity\":0.2}},\"type\":\"bar\"}],\"carpet\":[{\"aaxis\":{\"endlinecolor\":\"#2a3f5f\",\"gridcolor\":\"#C8D4E3\",\"linecolor\":\"#C8D4E3\",\"minorgridcolor\":\"#C8D4E3\",\"startlinecolor\":\"#2a3f5f\"},\"baxis\":{\"endlinecolor\":\"#2a3f5f\",\"gridcolor\":\"#C8D4E3\",\"linecolor\":\"#C8D4E3\",\"minorgridcolor\":\"#C8D4E3\",\"startlinecolor\":\"#2a3f5f\"},\"type\":\"carpet\"}],\"choropleth\":[{\"colorbar\":{\"outlinewidth\":0,\"ticks\":\"\"},\"type\":\"choropleth\"}],\"contourcarpet\":[{\"colorbar\":{\"outlinewidth\":0,\"ticks\":\"\"},\"type\":\"contourcarpet\"}],\"contour\":[{\"colorbar\":{\"outlinewidth\":0,\"ticks\":\"\"},\"colorscale\":[[0.0,\"#0d0887\"],[0.1111111111111111,\"#46039f\"],[0.2222222222222222,\"#7201a8\"],[0.3333333333333333,\"#9c179e\"],[0.4444444444444444,\"#bd3786\"],[0.5555555555555556,\"#d8576b\"],[0.6666666666666666,\"#ed7953\"],[0.7777777777777778,\"#fb9f3a\"],[0.8888888888888888,\"#fdca26\"],[1.0,\"#f0f921\"]],\"type\":\"contour\"}],\"heatmapgl\":[{\"colorbar\":{\"outlinewidth\":0,\"ticks\":\"\"},\"colorscale\":[[0.0,\"#0d0887\"],[0.1111111111111111,\"#46039f\"],[0.2222222222222222,\"#7201a8\"],[0.3333333333333333,\"#9c179e\"],[0.4444444444444444,\"#bd3786\"],[0.5555555555555556,\"#d8576b\"],[0.6666666666666666,\"#ed7953\"],[0.7777777777777778,\"#fb9f3a\"],[0.8888888888888888,\"#fdca26\"],[1.0,\"#f0f921\"]],\"type\":\"heatmapgl\"}],\"heatmap\":[{\"colorbar\":{\"outlinewidth\":0,\"ticks\":\"\"},\"colorscale\":[[0.0,\"#0d0887\"],[0.1111111111111111,\"#46039f\"],[0.2222222222222222,\"#7201a8\"],[0.3333333333333333,\"#9c179e\"],[0.4444444444444444,\"#bd3786\"],[0.5555555555555556,\"#d8576b\"],[0.6666666666666666,\"#ed7953\"],[0.7777777777777778,\"#fb9f3a\"],[0.8888888888888888,\"#fdca26\"],[1.0,\"#f0f921\"]],\"type\":\"heatmap\"}],\"histogram2dcontour\":[{\"colorbar\":{\"outlinewidth\":0,\"ticks\":\"\"},\"colorscale\":[[0.0,\"#0d0887\"],[0.1111111111111111,\"#46039f\"],[0.2222222222222222,\"#7201a8\"],[0.3333333333333333,\"#9c179e\"],[0.4444444444444444,\"#bd3786\"],[0.5555555555555556,\"#d8576b\"],[0.6666666666666666,\"#ed7953\"],[0.7777777777777778,\"#fb9f3a\"],[0.8888888888888888,\"#fdca26\"],[1.0,\"#f0f921\"]],\"type\":\"histogram2dcontour\"}],\"histogram2d\":[{\"colorbar\":{\"outlinewidth\":0,\"ticks\":\"\"},\"colorscale\":[[0.0,\"#0d0887\"],[0.1111111111111111,\"#46039f\"],[0.2222222222222222,\"#7201a8\"],[0.3333333333333333,\"#9c179e\"],[0.4444444444444444,\"#bd3786\"],[0.5555555555555556,\"#d8576b\"],[0.6666666666666666,\"#ed7953\"],[0.7777777777777778,\"#fb9f3a\"],[0.8888888888888888,\"#fdca26\"],[1.0,\"#f0f921\"]],\"type\":\"histogram2d\"}],\"histogram\":[{\"marker\":{\"pattern\":{\"fillmode\":\"overlay\",\"size\":10,\"solidity\":0.2}},\"type\":\"histogram\"}],\"mesh3d\":[{\"colorbar\":{\"outlinewidth\":0,\"ticks\":\"\"},\"type\":\"mesh3d\"}],\"parcoords\":[{\"line\":{\"colorbar\":{\"outlinewidth\":0,\"ticks\":\"\"}},\"type\":\"parcoords\"}],\"pie\":[{\"automargin\":true,\"type\":\"pie\"}],\"scatter3d\":[{\"line\":{\"colorbar\":{\"outlinewidth\":0,\"ticks\":\"\"}},\"marker\":{\"colorbar\":{\"outlinewidth\":0,\"ticks\":\"\"}},\"type\":\"scatter3d\"}],\"scattercarpet\":[{\"marker\":{\"colorbar\":{\"outlinewidth\":0,\"ticks\":\"\"}},\"type\":\"scattercarpet\"}],\"scattergeo\":[{\"marker\":{\"colorbar\":{\"outlinewidth\":0,\"ticks\":\"\"}},\"type\":\"scattergeo\"}],\"scattergl\":[{\"marker\":{\"colorbar\":{\"outlinewidth\":0,\"ticks\":\"\"}},\"type\":\"scattergl\"}],\"scattermapbox\":[{\"marker\":{\"colorbar\":{\"outlinewidth\":0,\"ticks\":\"\"}},\"type\":\"scattermapbox\"}],\"scatterpolargl\":[{\"marker\":{\"colorbar\":{\"outlinewidth\":0,\"ticks\":\"\"}},\"type\":\"scatterpolargl\"}],\"scatterpolar\":[{\"marker\":{\"colorbar\":{\"outlinewidth\":0,\"ticks\":\"\"}},\"type\":\"scatterpolar\"}],\"scatter\":[{\"fillpattern\":{\"fillmode\":\"overlay\",\"size\":10,\"solidity\":0.2},\"type\":\"scatter\"}],\"scatterternary\":[{\"marker\":{\"colorbar\":{\"outlinewidth\":0,\"ticks\":\"\"}},\"type\":\"scatterternary\"}],\"surface\":[{\"colorbar\":{\"outlinewidth\":0,\"ticks\":\"\"},\"colorscale\":[[0.0,\"#0d0887\"],[0.1111111111111111,\"#46039f\"],[0.2222222222222222,\"#7201a8\"],[0.3333333333333333,\"#9c179e\"],[0.4444444444444444,\"#bd3786\"],[0.5555555555555556,\"#d8576b\"],[0.6666666666666666,\"#ed7953\"],[0.7777777777777778,\"#fb9f3a\"],[0.8888888888888888,\"#fdca26\"],[1.0,\"#f0f921\"]],\"type\":\"surface\"}],\"table\":[{\"cells\":{\"fill\":{\"color\":\"#EBF0F8\"},\"line\":{\"color\":\"white\"}},\"header\":{\"fill\":{\"color\":\"#C8D4E3\"},\"line\":{\"color\":\"white\"}},\"type\":\"table\"}]},\"layout\":{\"annotationdefaults\":{\"arrowcolor\":\"#2a3f5f\",\"arrowhead\":0,\"arrowwidth\":1},\"autotypenumbers\":\"strict\",\"coloraxis\":{\"colorbar\":{\"outlinewidth\":0,\"ticks\":\"\"}},\"colorscale\":{\"diverging\":[[0,\"#8e0152\"],[0.1,\"#c51b7d\"],[0.2,\"#de77ae\"],[0.3,\"#f1b6da\"],[0.4,\"#fde0ef\"],[0.5,\"#f7f7f7\"],[0.6,\"#e6f5d0\"],[0.7,\"#b8e186\"],[0.8,\"#7fbc41\"],[0.9,\"#4d9221\"],[1,\"#276419\"]],\"sequential\":[[0.0,\"#0d0887\"],[0.1111111111111111,\"#46039f\"],[0.2222222222222222,\"#7201a8\"],[0.3333333333333333,\"#9c179e\"],[0.4444444444444444,\"#bd3786\"],[0.5555555555555556,\"#d8576b\"],[0.6666666666666666,\"#ed7953\"],[0.7777777777777778,\"#fb9f3a\"],[0.8888888888888888,\"#fdca26\"],[1.0,\"#f0f921\"]],\"sequentialminus\":[[0.0,\"#0d0887\"],[0.1111111111111111,\"#46039f\"],[0.2222222222222222,\"#7201a8\"],[0.3333333333333333,\"#9c179e\"],[0.4444444444444444,\"#bd3786\"],[0.5555555555555556,\"#d8576b\"],[0.6666666666666666,\"#ed7953\"],[0.7777777777777778,\"#fb9f3a\"],[0.8888888888888888,\"#fdca26\"],[1.0,\"#f0f921\"]]},\"colorway\":[\"#636efa\",\"#EF553B\",\"#00cc96\",\"#ab63fa\",\"#FFA15A\",\"#19d3f3\",\"#FF6692\",\"#B6E880\",\"#FF97FF\",\"#FECB52\"],\"font\":{\"color\":\"#2a3f5f\"},\"geo\":{\"bgcolor\":\"white\",\"lakecolor\":\"white\",\"landcolor\":\"white\",\"showlakes\":true,\"showland\":true,\"subunitcolor\":\"#C8D4E3\"},\"hoverlabel\":{\"align\":\"left\"},\"hovermode\":\"closest\",\"mapbox\":{\"style\":\"light\"},\"paper_bgcolor\":\"white\",\"plot_bgcolor\":\"white\",\"polar\":{\"angularaxis\":{\"gridcolor\":\"#EBF0F8\",\"linecolor\":\"#EBF0F8\",\"ticks\":\"\"},\"bgcolor\":\"white\",\"radialaxis\":{\"gridcolor\":\"#EBF0F8\",\"linecolor\":\"#EBF0F8\",\"ticks\":\"\"}},\"scene\":{\"xaxis\":{\"backgroundcolor\":\"white\",\"gridcolor\":\"#DFE8F3\",\"gridwidth\":2,\"linecolor\":\"#EBF0F8\",\"showbackground\":true,\"ticks\":\"\",\"zerolinecolor\":\"#EBF0F8\"},\"yaxis\":{\"backgroundcolor\":\"white\",\"gridcolor\":\"#DFE8F3\",\"gridwidth\":2,\"linecolor\":\"#EBF0F8\",\"showbackground\":true,\"ticks\":\"\",\"zerolinecolor\":\"#EBF0F8\"},\"zaxis\":{\"backgroundcolor\":\"white\",\"gridcolor\":\"#DFE8F3\",\"gridwidth\":2,\"linecolor\":\"#EBF0F8\",\"showbackground\":true,\"ticks\":\"\",\"zerolinecolor\":\"#EBF0F8\"}},\"shapedefaults\":{\"line\":{\"color\":\"#2a3f5f\"}},\"ternary\":{\"aaxis\":{\"gridcolor\":\"#DFE8F3\",\"linecolor\":\"#A2B1C6\",\"ticks\":\"\"},\"baxis\":{\"gridcolor\":\"#DFE8F3\",\"linecolor\":\"#A2B1C6\",\"ticks\":\"\"},\"bgcolor\":\"white\",\"caxis\":{\"gridcolor\":\"#DFE8F3\",\"linecolor\":\"#A2B1C6\",\"ticks\":\"\"}},\"title\":{\"x\":0.05},\"xaxis\":{\"automargin\":true,\"gridcolor\":\"#EBF0F8\",\"linecolor\":\"#EBF0F8\",\"ticks\":\"\",\"title\":{\"standoff\":15},\"zerolinecolor\":\"#EBF0F8\",\"zerolinewidth\":2},\"yaxis\":{\"automargin\":true,\"gridcolor\":\"#EBF0F8\",\"linecolor\":\"#EBF0F8\",\"ticks\":\"\",\"title\":{\"standoff\":15},\"zerolinecolor\":\"#EBF0F8\",\"zerolinewidth\":2}}},\"xaxis\":{\"anchor\":\"y\",\"domain\":[0.0,1.0]},\"yaxis\":{\"anchor\":\"x\",\"domain\":[0.0,1.0],\"showgrid\":false},\"margin\":{\"r\":0.1,\"t\":0.1,\"l\":0.1,\"b\":0.1},\"legend\":{\"orientation\":\"h\"},\"barmode\":\"stack\"},                        {\"responsive\": true}                    ).then(function(){\n",
       "                            \n",
       "var gd = document.getElementById('2ae053e3-942d-47cf-ac7b-fc0bf8280f44');\n",
       "var x = new MutationObserver(function (mutations, observer) {{\n",
       "        var display = window.getComputedStyle(gd).display;\n",
       "        if (!display || display === 'none') {{\n",
       "            console.log([gd, 'removed!']);\n",
       "            Plotly.purge(gd);\n",
       "            observer.disconnect();\n",
       "        }}\n",
       "}});\n",
       "\n",
       "// Listen for the removal of the full notebook cells\n",
       "var notebookContainer = gd.closest('#notebook-container');\n",
       "if (notebookContainer) {{\n",
       "    x.observe(notebookContainer, {childList: true});\n",
       "}}\n",
       "\n",
       "// Listen for the clearing of the current output cell\n",
       "var outputEl = gd.closest('.output');\n",
       "if (outputEl) {{\n",
       "    x.observe(outputEl, {childList: true});\n",
       "}}\n",
       "\n",
       "                        })                };                });            </script>        </div>"
      ]
     },
     "metadata": {},
     "output_type": "display_data"
    }
   ],
   "source": [
    "x = ['Jan','Feb','Mar','Apr','May',\n",
    "     'Jun','Jul','Aug','Sep','Oct',\n",
    "     'Nov','Dec']\n",
    "\n",
    "def make_winds_climate_figure(df, current=None):\n",
    "     fig = make_subplots()\n",
    "     traces = []\n",
    "\n",
    "     traces.append(\n",
    "     go.Bar(\n",
    "          x=x,\n",
    "          y=df['w_gt_61_days'],\n",
    "          name='>61 km/h',\n",
    "          text=df['w_gt_61_days'],\n",
    "          textfont=dict(color='white'),\n",
    "          opacity=0.9,\n",
    "          marker=dict(color='rgb(245,134,38)'),\n",
    "          showlegend=True,),\n",
    "     )\n",
    "     print(x[0:len(current)],)\n",
    "     print(current['w_gt_38_days'])\n",
    "     go.Scatter(\n",
    "          x=x[0:len(current)],\n",
    "          y=current['w_gt_38_days'],\n",
    "          marker=dict(color='black', size=12),\n",
    "          showlegend=True,\n",
    "     )\n",
    "     traces.append(\n",
    "     go.Bar(\n",
    "          x=x,\n",
    "          y=df['w_gt_50_days'],\n",
    "          name='>50 km/h',\n",
    "          text=df['w_gt_50_days'],\n",
    "          textfont=dict(color='white'),\n",
    "          opacity=0.9,\n",
    "          marker=dict(color='rgb(226,225,53)'),\n",
    "          showlegend=True,),\n",
    "     )\n",
    "     traces.append(\n",
    "     go.Bar(\n",
    "          x=x,\n",
    "          y=df['w_gt_38_days'],\n",
    "          name='>38 km/h',\n",
    "          text=df['w_gt_38_days'],\n",
    "          textfont=dict(color='white'),\n",
    "          opacity=0.9,\n",
    "          marker=dict(color='rgb(122,171,36)'),\n",
    "          showlegend=True,),\n",
    "     )\n",
    "     traces.append(\n",
    "     go.Bar(\n",
    "          x=x,\n",
    "          y=df['w_gt_28_days'],\n",
    "          name='>28 km/h',\n",
    "          text=df['w_gt_28_days'],\n",
    "          textfont=dict(color='white'),\n",
    "          opacity=0.9,\n",
    "          marker=dict(color='rgb(0,139,85)'),\n",
    "          showlegend=True,),\n",
    "     )\n",
    "     traces.append(\n",
    "     go.Bar(\n",
    "          x=x,\n",
    "          y=df['w_gt_19_days'],\n",
    "          name='>19 km/h',\n",
    "          text=df['w_gt_19_days'],\n",
    "          textfont=dict(color='white'),\n",
    "          opacity=0.9,\n",
    "          marker=dict(color='rgb(0,184,44)'),\n",
    "          showlegend=True,),\n",
    "     )\n",
    "     traces.append(\n",
    "     go.Bar(\n",
    "          x=x,\n",
    "          y=df['w_gt_12_days'],\n",
    "          name='>12 km/h',\n",
    "          text=df['w_gt_12_days'],\n",
    "          textfont=dict(color='white'),\n",
    "          opacity=0.9,\n",
    "          marker=dict(color='rgb(74,218,102)'),\n",
    "          showlegend=True,),\n",
    "     )\n",
    "     traces.append(\n",
    "     go.Bar(\n",
    "          x=x,\n",
    "          y=df['w_gt_5_days'],\n",
    "          name='>5 km/h',\n",
    "          text=df['w_gt_5_days'],\n",
    "          textfont=dict(color='white'),\n",
    "          opacity=0.9,\n",
    "          marker=dict(color='rgb(113,247,153)'),\n",
    "          showlegend=True,),\n",
    "     )\n",
    "     traces.append(\n",
    "     go.Bar(\n",
    "          x=x,\n",
    "          y=df['w_gt_1_days'],\n",
    "          name='>1 km/h',\n",
    "          text=df['w_gt_1_days'],\n",
    "          textfont=dict(color='white'),\n",
    "          opacity=0.9,\n",
    "          marker=dict(color='rgb(152,250,206)'),\n",
    "          showlegend=True,),\n",
    "     )\n",
    "     traces.append(\n",
    "     go.Bar(\n",
    "          x=x,\n",
    "          y=df['w_calm_days'],\n",
    "          name='Calm',\n",
    "          text=df['w_calm_days'],\n",
    "          textfont=dict(color='white'),\n",
    "          opacity=0.9,\n",
    "          marker=dict(color='rgb(217,209,209)'),\n",
    "          showlegend=True,),\n",
    "     )\n",
    "\n",
    "     for trace in traces:\n",
    "          fig.add_trace(trace)\n",
    "\n",
    "     fig.update_layout(\n",
    "     margin={\"r\": 0.1, \"t\": 0.1, \"l\": 0.1, \"b\": 0.1},\n",
    "     template='plotly_white',\n",
    "     barmode='stack',\n",
    "     legend=dict(orientation='h')\n",
    "     )\n",
    "\n",
    "     fig.update_yaxes(showgrid=False)\n",
    "     fig.update_yaxes(showgrid=False)\n",
    "     \n",
    "     return fig\n",
    "\n",
    "make_winds_climate_figure(stats, stats_year)"
   ]
  },
  {
   "cell_type": "code",
   "execution_count": 7,
   "metadata": {},
   "outputs": [],
   "source": [
    "def get_forecast_data(latitude=53.55,\n",
    "                      longitude=9.99,\n",
    "                      variables=\",\".join(DETERMINISTIC_VARS),\n",
    "                      timezone='auto',\n",
    "                      model=DETERMINISTIC_MODELS[0],\n",
    "                      forecast_days = 7,\n",
    "                      from_now=True):\n",
    "    payload = {\n",
    "        \"latitude\": latitude,\n",
    "        \"longitude\": longitude,\n",
    "        \"daily\": variables,\n",
    "        \"timezone\": timezone,\n",
    "        \"models\": model,\n",
    "        \"forecast_days\": forecast_days\n",
    "    }\n",
    "\n",
    "    resp = r.get(\"https://api.open-meteo.com/v1/forecast\",\n",
    "                 params=payload)\n",
    "    data = pd.DataFrame.from_dict(resp.json()['daily'])\n",
    "    data['time'] = pd.to_datetime(\n",
    "        data['time']).dt.tz_localize(resp.json()['timezone'])\n",
    "\n",
    "    # Optionally subset data to start only from previous hour\n",
    "    if from_now:\n",
    "        data = data[data.time >= pd.to_datetime(\n",
    "            'now', utc=True).tz_convert(resp.json()['timezone']).floor('H')]\n",
    "\n",
    "    return data"
   ]
  },
  {
   "cell_type": "code",
   "execution_count": 14,
   "metadata": {},
   "outputs": [],
   "source": [
    "df = get_forecast_data(model=\"ecmwf_ifs04,gfs_seamless,jma_seamless,icon_seamless,gem_seamless,meteofrance_seamless\",\n",
    "                       longitude=22.9425,\n",
    "                       latitude=39.361,\n",
    "                       variables='precipitation_sum,precipitation_hours',\n",
    "                       forecast_days=7,\n",
    "                       from_now=False)"
   ]
  },
  {
   "cell_type": "code",
   "execution_count": 20,
   "metadata": {},
   "outputs": [],
   "source": [
    "df = df.set_index('time')"
   ]
  },
  {
   "cell_type": "code",
   "execution_count": 45,
   "metadata": {},
   "outputs": [
    {
     "data": {
      "application/vnd.plotly.v1+json": {
       "config": {
        "plotlyServerURL": "https://plot.ly"
       },
       "data": [
        {
         "hovertemplate": "variable=precipitation_sum_ecmwf_ifs04<br>time=%{x}<br>value=%{y}<extra></extra>",
         "legendgroup": "precipitation_sum_ecmwf_ifs04",
         "line": {
          "color": "#636efa",
          "dash": "solid"
         },
         "marker": {
          "symbol": "circle"
         },
         "mode": "lines",
         "name": "precipitation_sum_ecmwf_ifs04",
         "orientation": "v",
         "showlegend": true,
         "type": "scatter",
         "x": [
          "2023-09-05T00:00:00+03:00",
          "2023-09-06T00:00:00+03:00",
          "2023-09-07T00:00:00+03:00",
          "2023-09-08T00:00:00+03:00",
          "2023-09-09T00:00:00+03:00",
          "2023-09-10T00:00:00+03:00",
          "2023-09-11T00:00:00+03:00"
         ],
         "xaxis": "x",
         "y": [
          61.3,
          126.8,
          167,
          167.6,
          167.6,
          167.6,
          167.6
         ],
         "yaxis": "y"
        },
        {
         "hovertemplate": "variable=precipitation_sum_gfs_seamless<br>time=%{x}<br>value=%{y}<extra></extra>",
         "legendgroup": "precipitation_sum_gfs_seamless",
         "line": {
          "color": "#EF553B",
          "dash": "solid"
         },
         "marker": {
          "symbol": "circle"
         },
         "mode": "lines",
         "name": "precipitation_sum_gfs_seamless",
         "orientation": "v",
         "showlegend": true,
         "type": "scatter",
         "x": [
          "2023-09-05T00:00:00+03:00",
          "2023-09-06T00:00:00+03:00",
          "2023-09-07T00:00:00+03:00",
          "2023-09-08T00:00:00+03:00",
          "2023-09-09T00:00:00+03:00",
          "2023-09-10T00:00:00+03:00",
          "2023-09-11T00:00:00+03:00"
         ],
         "xaxis": "x",
         "y": [
          343,
          450.1,
          487,
          487.4,
          487.4,
          487.4,
          487.4
         ],
         "yaxis": "y"
        },
        {
         "hovertemplate": "variable=precipitation_sum_jma_seamless<br>time=%{x}<br>value=%{y}<extra></extra>",
         "legendgroup": "precipitation_sum_jma_seamless",
         "line": {
          "color": "#00cc96",
          "dash": "solid"
         },
         "marker": {
          "symbol": "circle"
         },
         "mode": "lines",
         "name": "precipitation_sum_jma_seamless",
         "orientation": "v",
         "showlegend": true,
         "type": "scatter",
         "x": [
          "2023-09-05T00:00:00+03:00",
          "2023-09-06T00:00:00+03:00",
          "2023-09-07T00:00:00+03:00",
          "2023-09-08T00:00:00+03:00",
          "2023-09-09T00:00:00+03:00",
          "2023-09-10T00:00:00+03:00",
          "2023-09-11T00:00:00+03:00"
         ],
         "xaxis": "x",
         "y": [
          137.2,
          259.79999999999995,
          354.59999999999997,
          369.4,
          369.79999999999995,
          369.79999999999995,
          369.79999999999995
         ],
         "yaxis": "y"
        },
        {
         "hovertemplate": "variable=precipitation_sum_icon_seamless<br>time=%{x}<br>value=%{y}<extra></extra>",
         "legendgroup": "precipitation_sum_icon_seamless",
         "line": {
          "color": "#ab63fa",
          "dash": "solid"
         },
         "marker": {
          "symbol": "circle"
         },
         "mode": "lines",
         "name": "precipitation_sum_icon_seamless",
         "orientation": "v",
         "showlegend": true,
         "type": "scatter",
         "x": [
          "2023-09-05T00:00:00+03:00",
          "2023-09-06T00:00:00+03:00",
          "2023-09-07T00:00:00+03:00",
          "2023-09-08T00:00:00+03:00",
          "2023-09-09T00:00:00+03:00",
          "2023-09-10T00:00:00+03:00",
          "2023-09-11T00:00:00+03:00"
         ],
         "xaxis": "x",
         "y": [
          112.1,
          180.89999999999998,
          202.79999999999998,
          202.99999999999997,
          202.99999999999997,
          202.99999999999997,
          202.99999999999997
         ],
         "yaxis": "y"
        },
        {
         "hovertemplate": "variable=precipitation_sum_gem_seamless<br>time=%{x}<br>value=%{y}<extra></extra>",
         "legendgroup": "precipitation_sum_gem_seamless",
         "line": {
          "color": "#FFA15A",
          "dash": "solid"
         },
         "marker": {
          "symbol": "circle"
         },
         "mode": "lines",
         "name": "precipitation_sum_gem_seamless",
         "orientation": "v",
         "showlegend": true,
         "type": "scatter",
         "x": [
          "2023-09-05T00:00:00+03:00",
          "2023-09-06T00:00:00+03:00",
          "2023-09-07T00:00:00+03:00",
          "2023-09-08T00:00:00+03:00",
          "2023-09-09T00:00:00+03:00",
          "2023-09-10T00:00:00+03:00",
          "2023-09-11T00:00:00+03:00"
         ],
         "xaxis": "x",
         "y": [
          178.6,
          252.7,
          288.4,
          289.79999999999995,
          289.79999999999995,
          289.79999999999995,
          289.79999999999995
         ],
         "yaxis": "y"
        },
        {
         "hovertemplate": "variable=precipitation_sum_meteofrance_seamless<br>time=%{x}<br>value=%{y}<extra></extra>",
         "legendgroup": "precipitation_sum_meteofrance_seamless",
         "line": {
          "color": "#19d3f3",
          "dash": "solid"
         },
         "marker": {
          "symbol": "circle"
         },
         "mode": "lines",
         "name": "precipitation_sum_meteofrance_seamless",
         "orientation": "v",
         "showlegend": true,
         "type": "scatter",
         "x": [
          "2023-09-05T00:00:00+03:00",
          "2023-09-06T00:00:00+03:00",
          "2023-09-07T00:00:00+03:00",
          "2023-09-08T00:00:00+03:00",
          "2023-09-09T00:00:00+03:00",
          "2023-09-10T00:00:00+03:00",
          "2023-09-11T00:00:00+03:00"
         ],
         "xaxis": "x",
         "y": [
          111.8,
          128.4,
          139.8,
          140.5,
          null,
          null,
          null
         ],
         "yaxis": "y"
        }
       ],
       "layout": {
        "legend": {
         "title": {
          "text": "variable"
         },
         "tracegroupgap": 0
        },
        "margin": {
         "t": 60
        },
        "showlegend": false,
        "template": {
         "data": {
          "bar": [
           {
            "error_x": {
             "color": "#2a3f5f"
            },
            "error_y": {
             "color": "#2a3f5f"
            },
            "marker": {
             "line": {
              "color": "#E5ECF6",
              "width": 0.5
             },
             "pattern": {
              "fillmode": "overlay",
              "size": 10,
              "solidity": 0.2
             }
            },
            "type": "bar"
           }
          ],
          "barpolar": [
           {
            "marker": {
             "line": {
              "color": "#E5ECF6",
              "width": 0.5
             },
             "pattern": {
              "fillmode": "overlay",
              "size": 10,
              "solidity": 0.2
             }
            },
            "type": "barpolar"
           }
          ],
          "carpet": [
           {
            "aaxis": {
             "endlinecolor": "#2a3f5f",
             "gridcolor": "white",
             "linecolor": "white",
             "minorgridcolor": "white",
             "startlinecolor": "#2a3f5f"
            },
            "baxis": {
             "endlinecolor": "#2a3f5f",
             "gridcolor": "white",
             "linecolor": "white",
             "minorgridcolor": "white",
             "startlinecolor": "#2a3f5f"
            },
            "type": "carpet"
           }
          ],
          "choropleth": [
           {
            "colorbar": {
             "outlinewidth": 0,
             "ticks": ""
            },
            "type": "choropleth"
           }
          ],
          "contour": [
           {
            "colorbar": {
             "outlinewidth": 0,
             "ticks": ""
            },
            "colorscale": [
             [
              0,
              "#0d0887"
             ],
             [
              0.1111111111111111,
              "#46039f"
             ],
             [
              0.2222222222222222,
              "#7201a8"
             ],
             [
              0.3333333333333333,
              "#9c179e"
             ],
             [
              0.4444444444444444,
              "#bd3786"
             ],
             [
              0.5555555555555556,
              "#d8576b"
             ],
             [
              0.6666666666666666,
              "#ed7953"
             ],
             [
              0.7777777777777778,
              "#fb9f3a"
             ],
             [
              0.8888888888888888,
              "#fdca26"
             ],
             [
              1,
              "#f0f921"
             ]
            ],
            "type": "contour"
           }
          ],
          "contourcarpet": [
           {
            "colorbar": {
             "outlinewidth": 0,
             "ticks": ""
            },
            "type": "contourcarpet"
           }
          ],
          "heatmap": [
           {
            "colorbar": {
             "outlinewidth": 0,
             "ticks": ""
            },
            "colorscale": [
             [
              0,
              "#0d0887"
             ],
             [
              0.1111111111111111,
              "#46039f"
             ],
             [
              0.2222222222222222,
              "#7201a8"
             ],
             [
              0.3333333333333333,
              "#9c179e"
             ],
             [
              0.4444444444444444,
              "#bd3786"
             ],
             [
              0.5555555555555556,
              "#d8576b"
             ],
             [
              0.6666666666666666,
              "#ed7953"
             ],
             [
              0.7777777777777778,
              "#fb9f3a"
             ],
             [
              0.8888888888888888,
              "#fdca26"
             ],
             [
              1,
              "#f0f921"
             ]
            ],
            "type": "heatmap"
           }
          ],
          "heatmapgl": [
           {
            "colorbar": {
             "outlinewidth": 0,
             "ticks": ""
            },
            "colorscale": [
             [
              0,
              "#0d0887"
             ],
             [
              0.1111111111111111,
              "#46039f"
             ],
             [
              0.2222222222222222,
              "#7201a8"
             ],
             [
              0.3333333333333333,
              "#9c179e"
             ],
             [
              0.4444444444444444,
              "#bd3786"
             ],
             [
              0.5555555555555556,
              "#d8576b"
             ],
             [
              0.6666666666666666,
              "#ed7953"
             ],
             [
              0.7777777777777778,
              "#fb9f3a"
             ],
             [
              0.8888888888888888,
              "#fdca26"
             ],
             [
              1,
              "#f0f921"
             ]
            ],
            "type": "heatmapgl"
           }
          ],
          "histogram": [
           {
            "marker": {
             "pattern": {
              "fillmode": "overlay",
              "size": 10,
              "solidity": 0.2
             }
            },
            "type": "histogram"
           }
          ],
          "histogram2d": [
           {
            "colorbar": {
             "outlinewidth": 0,
             "ticks": ""
            },
            "colorscale": [
             [
              0,
              "#0d0887"
             ],
             [
              0.1111111111111111,
              "#46039f"
             ],
             [
              0.2222222222222222,
              "#7201a8"
             ],
             [
              0.3333333333333333,
              "#9c179e"
             ],
             [
              0.4444444444444444,
              "#bd3786"
             ],
             [
              0.5555555555555556,
              "#d8576b"
             ],
             [
              0.6666666666666666,
              "#ed7953"
             ],
             [
              0.7777777777777778,
              "#fb9f3a"
             ],
             [
              0.8888888888888888,
              "#fdca26"
             ],
             [
              1,
              "#f0f921"
             ]
            ],
            "type": "histogram2d"
           }
          ],
          "histogram2dcontour": [
           {
            "colorbar": {
             "outlinewidth": 0,
             "ticks": ""
            },
            "colorscale": [
             [
              0,
              "#0d0887"
             ],
             [
              0.1111111111111111,
              "#46039f"
             ],
             [
              0.2222222222222222,
              "#7201a8"
             ],
             [
              0.3333333333333333,
              "#9c179e"
             ],
             [
              0.4444444444444444,
              "#bd3786"
             ],
             [
              0.5555555555555556,
              "#d8576b"
             ],
             [
              0.6666666666666666,
              "#ed7953"
             ],
             [
              0.7777777777777778,
              "#fb9f3a"
             ],
             [
              0.8888888888888888,
              "#fdca26"
             ],
             [
              1,
              "#f0f921"
             ]
            ],
            "type": "histogram2dcontour"
           }
          ],
          "mesh3d": [
           {
            "colorbar": {
             "outlinewidth": 0,
             "ticks": ""
            },
            "type": "mesh3d"
           }
          ],
          "parcoords": [
           {
            "line": {
             "colorbar": {
              "outlinewidth": 0,
              "ticks": ""
             }
            },
            "type": "parcoords"
           }
          ],
          "pie": [
           {
            "automargin": true,
            "type": "pie"
           }
          ],
          "scatter": [
           {
            "fillpattern": {
             "fillmode": "overlay",
             "size": 10,
             "solidity": 0.2
            },
            "type": "scatter"
           }
          ],
          "scatter3d": [
           {
            "line": {
             "colorbar": {
              "outlinewidth": 0,
              "ticks": ""
             }
            },
            "marker": {
             "colorbar": {
              "outlinewidth": 0,
              "ticks": ""
             }
            },
            "type": "scatter3d"
           }
          ],
          "scattercarpet": [
           {
            "marker": {
             "colorbar": {
              "outlinewidth": 0,
              "ticks": ""
             }
            },
            "type": "scattercarpet"
           }
          ],
          "scattergeo": [
           {
            "marker": {
             "colorbar": {
              "outlinewidth": 0,
              "ticks": ""
             }
            },
            "type": "scattergeo"
           }
          ],
          "scattergl": [
           {
            "marker": {
             "colorbar": {
              "outlinewidth": 0,
              "ticks": ""
             }
            },
            "type": "scattergl"
           }
          ],
          "scattermapbox": [
           {
            "marker": {
             "colorbar": {
              "outlinewidth": 0,
              "ticks": ""
             }
            },
            "type": "scattermapbox"
           }
          ],
          "scatterpolar": [
           {
            "marker": {
             "colorbar": {
              "outlinewidth": 0,
              "ticks": ""
             }
            },
            "type": "scatterpolar"
           }
          ],
          "scatterpolargl": [
           {
            "marker": {
             "colorbar": {
              "outlinewidth": 0,
              "ticks": ""
             }
            },
            "type": "scatterpolargl"
           }
          ],
          "scatterternary": [
           {
            "marker": {
             "colorbar": {
              "outlinewidth": 0,
              "ticks": ""
             }
            },
            "type": "scatterternary"
           }
          ],
          "surface": [
           {
            "colorbar": {
             "outlinewidth": 0,
             "ticks": ""
            },
            "colorscale": [
             [
              0,
              "#0d0887"
             ],
             [
              0.1111111111111111,
              "#46039f"
             ],
             [
              0.2222222222222222,
              "#7201a8"
             ],
             [
              0.3333333333333333,
              "#9c179e"
             ],
             [
              0.4444444444444444,
              "#bd3786"
             ],
             [
              0.5555555555555556,
              "#d8576b"
             ],
             [
              0.6666666666666666,
              "#ed7953"
             ],
             [
              0.7777777777777778,
              "#fb9f3a"
             ],
             [
              0.8888888888888888,
              "#fdca26"
             ],
             [
              1,
              "#f0f921"
             ]
            ],
            "type": "surface"
           }
          ],
          "table": [
           {
            "cells": {
             "fill": {
              "color": "#EBF0F8"
             },
             "line": {
              "color": "white"
             }
            },
            "header": {
             "fill": {
              "color": "#C8D4E3"
             },
             "line": {
              "color": "white"
             }
            },
            "type": "table"
           }
          ]
         },
         "layout": {
          "annotationdefaults": {
           "arrowcolor": "#2a3f5f",
           "arrowhead": 0,
           "arrowwidth": 1
          },
          "autotypenumbers": "strict",
          "coloraxis": {
           "colorbar": {
            "outlinewidth": 0,
            "ticks": ""
           }
          },
          "colorscale": {
           "diverging": [
            [
             0,
             "#8e0152"
            ],
            [
             0.1,
             "#c51b7d"
            ],
            [
             0.2,
             "#de77ae"
            ],
            [
             0.3,
             "#f1b6da"
            ],
            [
             0.4,
             "#fde0ef"
            ],
            [
             0.5,
             "#f7f7f7"
            ],
            [
             0.6,
             "#e6f5d0"
            ],
            [
             0.7,
             "#b8e186"
            ],
            [
             0.8,
             "#7fbc41"
            ],
            [
             0.9,
             "#4d9221"
            ],
            [
             1,
             "#276419"
            ]
           ],
           "sequential": [
            [
             0,
             "#0d0887"
            ],
            [
             0.1111111111111111,
             "#46039f"
            ],
            [
             0.2222222222222222,
             "#7201a8"
            ],
            [
             0.3333333333333333,
             "#9c179e"
            ],
            [
             0.4444444444444444,
             "#bd3786"
            ],
            [
             0.5555555555555556,
             "#d8576b"
            ],
            [
             0.6666666666666666,
             "#ed7953"
            ],
            [
             0.7777777777777778,
             "#fb9f3a"
            ],
            [
             0.8888888888888888,
             "#fdca26"
            ],
            [
             1,
             "#f0f921"
            ]
           ],
           "sequentialminus": [
            [
             0,
             "#0d0887"
            ],
            [
             0.1111111111111111,
             "#46039f"
            ],
            [
             0.2222222222222222,
             "#7201a8"
            ],
            [
             0.3333333333333333,
             "#9c179e"
            ],
            [
             0.4444444444444444,
             "#bd3786"
            ],
            [
             0.5555555555555556,
             "#d8576b"
            ],
            [
             0.6666666666666666,
             "#ed7953"
            ],
            [
             0.7777777777777778,
             "#fb9f3a"
            ],
            [
             0.8888888888888888,
             "#fdca26"
            ],
            [
             1,
             "#f0f921"
            ]
           ]
          },
          "colorway": [
           "#636efa",
           "#EF553B",
           "#00cc96",
           "#ab63fa",
           "#FFA15A",
           "#19d3f3",
           "#FF6692",
           "#B6E880",
           "#FF97FF",
           "#FECB52"
          ],
          "font": {
           "color": "#2a3f5f"
          },
          "geo": {
           "bgcolor": "white",
           "lakecolor": "white",
           "landcolor": "#E5ECF6",
           "showlakes": true,
           "showland": true,
           "subunitcolor": "white"
          },
          "hoverlabel": {
           "align": "left"
          },
          "hovermode": "closest",
          "mapbox": {
           "style": "light"
          },
          "paper_bgcolor": "white",
          "plot_bgcolor": "#E5ECF6",
          "polar": {
           "angularaxis": {
            "gridcolor": "white",
            "linecolor": "white",
            "ticks": ""
           },
           "bgcolor": "#E5ECF6",
           "radialaxis": {
            "gridcolor": "white",
            "linecolor": "white",
            "ticks": ""
           }
          },
          "scene": {
           "xaxis": {
            "backgroundcolor": "#E5ECF6",
            "gridcolor": "white",
            "gridwidth": 2,
            "linecolor": "white",
            "showbackground": true,
            "ticks": "",
            "zerolinecolor": "white"
           },
           "yaxis": {
            "backgroundcolor": "#E5ECF6",
            "gridcolor": "white",
            "gridwidth": 2,
            "linecolor": "white",
            "showbackground": true,
            "ticks": "",
            "zerolinecolor": "white"
           },
           "zaxis": {
            "backgroundcolor": "#E5ECF6",
            "gridcolor": "white",
            "gridwidth": 2,
            "linecolor": "white",
            "showbackground": true,
            "ticks": "",
            "zerolinecolor": "white"
           }
          },
          "shapedefaults": {
           "line": {
            "color": "#2a3f5f"
           }
          },
          "ternary": {
           "aaxis": {
            "gridcolor": "white",
            "linecolor": "white",
            "ticks": ""
           },
           "baxis": {
            "gridcolor": "white",
            "linecolor": "white",
            "ticks": ""
           },
           "bgcolor": "#E5ECF6",
           "caxis": {
            "gridcolor": "white",
            "linecolor": "white",
            "ticks": ""
           }
          },
          "title": {
           "x": 0.05
          },
          "xaxis": {
           "automargin": true,
           "gridcolor": "white",
           "linecolor": "white",
           "ticks": "",
           "title": {
            "standoff": 15
           },
           "zerolinecolor": "white",
           "zerolinewidth": 2
          },
          "yaxis": {
           "automargin": true,
           "gridcolor": "white",
           "linecolor": "white",
           "ticks": "",
           "title": {
            "standoff": 15
           },
           "zerolinecolor": "white",
           "zerolinewidth": 2
          }
         }
        },
        "xaxis": {
         "anchor": "y",
         "domain": [
          0,
          1
         ],
         "title": {
          "text": "time"
         }
        },
        "yaxis": {
         "anchor": "x",
         "domain": [
          0,
          1
         ],
         "title": {
          "text": "value"
         }
        }
       }
      },
      "text/html": [
       "<div>                            <div id=\"87946bae-894d-4e61-afaa-935210ede27a\" class=\"plotly-graph-div\" style=\"height:525px; width:100%;\"></div>            <script type=\"text/javascript\">                require([\"plotly\"], function(Plotly) {                    window.PLOTLYENV=window.PLOTLYENV || {};                                    if (document.getElementById(\"87946bae-894d-4e61-afaa-935210ede27a\")) {                    Plotly.newPlot(                        \"87946bae-894d-4e61-afaa-935210ede27a\",                        [{\"hovertemplate\":\"variable=precipitation_sum_ecmwf_ifs04<br>time=%{x}<br>value=%{y}<extra></extra>\",\"legendgroup\":\"precipitation_sum_ecmwf_ifs04\",\"line\":{\"color\":\"#636efa\",\"dash\":\"solid\"},\"marker\":{\"symbol\":\"circle\"},\"mode\":\"lines\",\"name\":\"precipitation_sum_ecmwf_ifs04\",\"orientation\":\"v\",\"showlegend\":true,\"x\":[\"2023-09-05T00:00:00+03:00\",\"2023-09-06T00:00:00+03:00\",\"2023-09-07T00:00:00+03:00\",\"2023-09-08T00:00:00+03:00\",\"2023-09-09T00:00:00+03:00\",\"2023-09-10T00:00:00+03:00\",\"2023-09-11T00:00:00+03:00\"],\"xaxis\":\"x\",\"y\":[61.3,126.8,167.0,167.6,167.6,167.6,167.6],\"yaxis\":\"y\",\"type\":\"scatter\"},{\"hovertemplate\":\"variable=precipitation_sum_gfs_seamless<br>time=%{x}<br>value=%{y}<extra></extra>\",\"legendgroup\":\"precipitation_sum_gfs_seamless\",\"line\":{\"color\":\"#EF553B\",\"dash\":\"solid\"},\"marker\":{\"symbol\":\"circle\"},\"mode\":\"lines\",\"name\":\"precipitation_sum_gfs_seamless\",\"orientation\":\"v\",\"showlegend\":true,\"x\":[\"2023-09-05T00:00:00+03:00\",\"2023-09-06T00:00:00+03:00\",\"2023-09-07T00:00:00+03:00\",\"2023-09-08T00:00:00+03:00\",\"2023-09-09T00:00:00+03:00\",\"2023-09-10T00:00:00+03:00\",\"2023-09-11T00:00:00+03:00\"],\"xaxis\":\"x\",\"y\":[343.0,450.1,487.0,487.4,487.4,487.4,487.4],\"yaxis\":\"y\",\"type\":\"scatter\"},{\"hovertemplate\":\"variable=precipitation_sum_jma_seamless<br>time=%{x}<br>value=%{y}<extra></extra>\",\"legendgroup\":\"precipitation_sum_jma_seamless\",\"line\":{\"color\":\"#00cc96\",\"dash\":\"solid\"},\"marker\":{\"symbol\":\"circle\"},\"mode\":\"lines\",\"name\":\"precipitation_sum_jma_seamless\",\"orientation\":\"v\",\"showlegend\":true,\"x\":[\"2023-09-05T00:00:00+03:00\",\"2023-09-06T00:00:00+03:00\",\"2023-09-07T00:00:00+03:00\",\"2023-09-08T00:00:00+03:00\",\"2023-09-09T00:00:00+03:00\",\"2023-09-10T00:00:00+03:00\",\"2023-09-11T00:00:00+03:00\"],\"xaxis\":\"x\",\"y\":[137.2,259.79999999999995,354.59999999999997,369.4,369.79999999999995,369.79999999999995,369.79999999999995],\"yaxis\":\"y\",\"type\":\"scatter\"},{\"hovertemplate\":\"variable=precipitation_sum_icon_seamless<br>time=%{x}<br>value=%{y}<extra></extra>\",\"legendgroup\":\"precipitation_sum_icon_seamless\",\"line\":{\"color\":\"#ab63fa\",\"dash\":\"solid\"},\"marker\":{\"symbol\":\"circle\"},\"mode\":\"lines\",\"name\":\"precipitation_sum_icon_seamless\",\"orientation\":\"v\",\"showlegend\":true,\"x\":[\"2023-09-05T00:00:00+03:00\",\"2023-09-06T00:00:00+03:00\",\"2023-09-07T00:00:00+03:00\",\"2023-09-08T00:00:00+03:00\",\"2023-09-09T00:00:00+03:00\",\"2023-09-10T00:00:00+03:00\",\"2023-09-11T00:00:00+03:00\"],\"xaxis\":\"x\",\"y\":[112.1,180.89999999999998,202.79999999999998,202.99999999999997,202.99999999999997,202.99999999999997,202.99999999999997],\"yaxis\":\"y\",\"type\":\"scatter\"},{\"hovertemplate\":\"variable=precipitation_sum_gem_seamless<br>time=%{x}<br>value=%{y}<extra></extra>\",\"legendgroup\":\"precipitation_sum_gem_seamless\",\"line\":{\"color\":\"#FFA15A\",\"dash\":\"solid\"},\"marker\":{\"symbol\":\"circle\"},\"mode\":\"lines\",\"name\":\"precipitation_sum_gem_seamless\",\"orientation\":\"v\",\"showlegend\":true,\"x\":[\"2023-09-05T00:00:00+03:00\",\"2023-09-06T00:00:00+03:00\",\"2023-09-07T00:00:00+03:00\",\"2023-09-08T00:00:00+03:00\",\"2023-09-09T00:00:00+03:00\",\"2023-09-10T00:00:00+03:00\",\"2023-09-11T00:00:00+03:00\"],\"xaxis\":\"x\",\"y\":[178.6,252.7,288.4,289.79999999999995,289.79999999999995,289.79999999999995,289.79999999999995],\"yaxis\":\"y\",\"type\":\"scatter\"},{\"hovertemplate\":\"variable=precipitation_sum_meteofrance_seamless<br>time=%{x}<br>value=%{y}<extra></extra>\",\"legendgroup\":\"precipitation_sum_meteofrance_seamless\",\"line\":{\"color\":\"#19d3f3\",\"dash\":\"solid\"},\"marker\":{\"symbol\":\"circle\"},\"mode\":\"lines\",\"name\":\"precipitation_sum_meteofrance_seamless\",\"orientation\":\"v\",\"showlegend\":true,\"x\":[\"2023-09-05T00:00:00+03:00\",\"2023-09-06T00:00:00+03:00\",\"2023-09-07T00:00:00+03:00\",\"2023-09-08T00:00:00+03:00\",\"2023-09-09T00:00:00+03:00\",\"2023-09-10T00:00:00+03:00\",\"2023-09-11T00:00:00+03:00\"],\"xaxis\":\"x\",\"y\":[111.8,128.4,139.8,140.5,null,null,null],\"yaxis\":\"y\",\"type\":\"scatter\"}],                        {\"template\":{\"data\":{\"histogram2dcontour\":[{\"type\":\"histogram2dcontour\",\"colorbar\":{\"outlinewidth\":0,\"ticks\":\"\"},\"colorscale\":[[0.0,\"#0d0887\"],[0.1111111111111111,\"#46039f\"],[0.2222222222222222,\"#7201a8\"],[0.3333333333333333,\"#9c179e\"],[0.4444444444444444,\"#bd3786\"],[0.5555555555555556,\"#d8576b\"],[0.6666666666666666,\"#ed7953\"],[0.7777777777777778,\"#fb9f3a\"],[0.8888888888888888,\"#fdca26\"],[1.0,\"#f0f921\"]]}],\"choropleth\":[{\"type\":\"choropleth\",\"colorbar\":{\"outlinewidth\":0,\"ticks\":\"\"}}],\"histogram2d\":[{\"type\":\"histogram2d\",\"colorbar\":{\"outlinewidth\":0,\"ticks\":\"\"},\"colorscale\":[[0.0,\"#0d0887\"],[0.1111111111111111,\"#46039f\"],[0.2222222222222222,\"#7201a8\"],[0.3333333333333333,\"#9c179e\"],[0.4444444444444444,\"#bd3786\"],[0.5555555555555556,\"#d8576b\"],[0.6666666666666666,\"#ed7953\"],[0.7777777777777778,\"#fb9f3a\"],[0.8888888888888888,\"#fdca26\"],[1.0,\"#f0f921\"]]}],\"heatmap\":[{\"type\":\"heatmap\",\"colorbar\":{\"outlinewidth\":0,\"ticks\":\"\"},\"colorscale\":[[0.0,\"#0d0887\"],[0.1111111111111111,\"#46039f\"],[0.2222222222222222,\"#7201a8\"],[0.3333333333333333,\"#9c179e\"],[0.4444444444444444,\"#bd3786\"],[0.5555555555555556,\"#d8576b\"],[0.6666666666666666,\"#ed7953\"],[0.7777777777777778,\"#fb9f3a\"],[0.8888888888888888,\"#fdca26\"],[1.0,\"#f0f921\"]]}],\"heatmapgl\":[{\"type\":\"heatmapgl\",\"colorbar\":{\"outlinewidth\":0,\"ticks\":\"\"},\"colorscale\":[[0.0,\"#0d0887\"],[0.1111111111111111,\"#46039f\"],[0.2222222222222222,\"#7201a8\"],[0.3333333333333333,\"#9c179e\"],[0.4444444444444444,\"#bd3786\"],[0.5555555555555556,\"#d8576b\"],[0.6666666666666666,\"#ed7953\"],[0.7777777777777778,\"#fb9f3a\"],[0.8888888888888888,\"#fdca26\"],[1.0,\"#f0f921\"]]}],\"contourcarpet\":[{\"type\":\"contourcarpet\",\"colorbar\":{\"outlinewidth\":0,\"ticks\":\"\"}}],\"contour\":[{\"type\":\"contour\",\"colorbar\":{\"outlinewidth\":0,\"ticks\":\"\"},\"colorscale\":[[0.0,\"#0d0887\"],[0.1111111111111111,\"#46039f\"],[0.2222222222222222,\"#7201a8\"],[0.3333333333333333,\"#9c179e\"],[0.4444444444444444,\"#bd3786\"],[0.5555555555555556,\"#d8576b\"],[0.6666666666666666,\"#ed7953\"],[0.7777777777777778,\"#fb9f3a\"],[0.8888888888888888,\"#fdca26\"],[1.0,\"#f0f921\"]]}],\"surface\":[{\"type\":\"surface\",\"colorbar\":{\"outlinewidth\":0,\"ticks\":\"\"},\"colorscale\":[[0.0,\"#0d0887\"],[0.1111111111111111,\"#46039f\"],[0.2222222222222222,\"#7201a8\"],[0.3333333333333333,\"#9c179e\"],[0.4444444444444444,\"#bd3786\"],[0.5555555555555556,\"#d8576b\"],[0.6666666666666666,\"#ed7953\"],[0.7777777777777778,\"#fb9f3a\"],[0.8888888888888888,\"#fdca26\"],[1.0,\"#f0f921\"]]}],\"mesh3d\":[{\"type\":\"mesh3d\",\"colorbar\":{\"outlinewidth\":0,\"ticks\":\"\"}}],\"scatter\":[{\"fillpattern\":{\"fillmode\":\"overlay\",\"size\":10,\"solidity\":0.2},\"type\":\"scatter\"}],\"parcoords\":[{\"type\":\"parcoords\",\"line\":{\"colorbar\":{\"outlinewidth\":0,\"ticks\":\"\"}}}],\"scatterpolargl\":[{\"type\":\"scatterpolargl\",\"marker\":{\"colorbar\":{\"outlinewidth\":0,\"ticks\":\"\"}}}],\"bar\":[{\"error_x\":{\"color\":\"#2a3f5f\"},\"error_y\":{\"color\":\"#2a3f5f\"},\"marker\":{\"line\":{\"color\":\"#E5ECF6\",\"width\":0.5},\"pattern\":{\"fillmode\":\"overlay\",\"size\":10,\"solidity\":0.2}},\"type\":\"bar\"}],\"scattergeo\":[{\"type\":\"scattergeo\",\"marker\":{\"colorbar\":{\"outlinewidth\":0,\"ticks\":\"\"}}}],\"scatterpolar\":[{\"type\":\"scatterpolar\",\"marker\":{\"colorbar\":{\"outlinewidth\":0,\"ticks\":\"\"}}}],\"histogram\":[{\"marker\":{\"pattern\":{\"fillmode\":\"overlay\",\"size\":10,\"solidity\":0.2}},\"type\":\"histogram\"}],\"scattergl\":[{\"type\":\"scattergl\",\"marker\":{\"colorbar\":{\"outlinewidth\":0,\"ticks\":\"\"}}}],\"scatter3d\":[{\"type\":\"scatter3d\",\"line\":{\"colorbar\":{\"outlinewidth\":0,\"ticks\":\"\"}},\"marker\":{\"colorbar\":{\"outlinewidth\":0,\"ticks\":\"\"}}}],\"scattermapbox\":[{\"type\":\"scattermapbox\",\"marker\":{\"colorbar\":{\"outlinewidth\":0,\"ticks\":\"\"}}}],\"scatterternary\":[{\"type\":\"scatterternary\",\"marker\":{\"colorbar\":{\"outlinewidth\":0,\"ticks\":\"\"}}}],\"scattercarpet\":[{\"type\":\"scattercarpet\",\"marker\":{\"colorbar\":{\"outlinewidth\":0,\"ticks\":\"\"}}}],\"carpet\":[{\"aaxis\":{\"endlinecolor\":\"#2a3f5f\",\"gridcolor\":\"white\",\"linecolor\":\"white\",\"minorgridcolor\":\"white\",\"startlinecolor\":\"#2a3f5f\"},\"baxis\":{\"endlinecolor\":\"#2a3f5f\",\"gridcolor\":\"white\",\"linecolor\":\"white\",\"minorgridcolor\":\"white\",\"startlinecolor\":\"#2a3f5f\"},\"type\":\"carpet\"}],\"table\":[{\"cells\":{\"fill\":{\"color\":\"#EBF0F8\"},\"line\":{\"color\":\"white\"}},\"header\":{\"fill\":{\"color\":\"#C8D4E3\"},\"line\":{\"color\":\"white\"}},\"type\":\"table\"}],\"barpolar\":[{\"marker\":{\"line\":{\"color\":\"#E5ECF6\",\"width\":0.5},\"pattern\":{\"fillmode\":\"overlay\",\"size\":10,\"solidity\":0.2}},\"type\":\"barpolar\"}],\"pie\":[{\"automargin\":true,\"type\":\"pie\"}]},\"layout\":{\"autotypenumbers\":\"strict\",\"colorway\":[\"#636efa\",\"#EF553B\",\"#00cc96\",\"#ab63fa\",\"#FFA15A\",\"#19d3f3\",\"#FF6692\",\"#B6E880\",\"#FF97FF\",\"#FECB52\"],\"font\":{\"color\":\"#2a3f5f\"},\"hovermode\":\"closest\",\"hoverlabel\":{\"align\":\"left\"},\"paper_bgcolor\":\"white\",\"plot_bgcolor\":\"#E5ECF6\",\"polar\":{\"bgcolor\":\"#E5ECF6\",\"angularaxis\":{\"gridcolor\":\"white\",\"linecolor\":\"white\",\"ticks\":\"\"},\"radialaxis\":{\"gridcolor\":\"white\",\"linecolor\":\"white\",\"ticks\":\"\"}},\"ternary\":{\"bgcolor\":\"#E5ECF6\",\"aaxis\":{\"gridcolor\":\"white\",\"linecolor\":\"white\",\"ticks\":\"\"},\"baxis\":{\"gridcolor\":\"white\",\"linecolor\":\"white\",\"ticks\":\"\"},\"caxis\":{\"gridcolor\":\"white\",\"linecolor\":\"white\",\"ticks\":\"\"}},\"coloraxis\":{\"colorbar\":{\"outlinewidth\":0,\"ticks\":\"\"}},\"colorscale\":{\"sequential\":[[0.0,\"#0d0887\"],[0.1111111111111111,\"#46039f\"],[0.2222222222222222,\"#7201a8\"],[0.3333333333333333,\"#9c179e\"],[0.4444444444444444,\"#bd3786\"],[0.5555555555555556,\"#d8576b\"],[0.6666666666666666,\"#ed7953\"],[0.7777777777777778,\"#fb9f3a\"],[0.8888888888888888,\"#fdca26\"],[1.0,\"#f0f921\"]],\"sequentialminus\":[[0.0,\"#0d0887\"],[0.1111111111111111,\"#46039f\"],[0.2222222222222222,\"#7201a8\"],[0.3333333333333333,\"#9c179e\"],[0.4444444444444444,\"#bd3786\"],[0.5555555555555556,\"#d8576b\"],[0.6666666666666666,\"#ed7953\"],[0.7777777777777778,\"#fb9f3a\"],[0.8888888888888888,\"#fdca26\"],[1.0,\"#f0f921\"]],\"diverging\":[[0,\"#8e0152\"],[0.1,\"#c51b7d\"],[0.2,\"#de77ae\"],[0.3,\"#f1b6da\"],[0.4,\"#fde0ef\"],[0.5,\"#f7f7f7\"],[0.6,\"#e6f5d0\"],[0.7,\"#b8e186\"],[0.8,\"#7fbc41\"],[0.9,\"#4d9221\"],[1,\"#276419\"]]},\"xaxis\":{\"gridcolor\":\"white\",\"linecolor\":\"white\",\"ticks\":\"\",\"title\":{\"standoff\":15},\"zerolinecolor\":\"white\",\"automargin\":true,\"zerolinewidth\":2},\"yaxis\":{\"gridcolor\":\"white\",\"linecolor\":\"white\",\"ticks\":\"\",\"title\":{\"standoff\":15},\"zerolinecolor\":\"white\",\"automargin\":true,\"zerolinewidth\":2},\"scene\":{\"xaxis\":{\"backgroundcolor\":\"#E5ECF6\",\"gridcolor\":\"white\",\"linecolor\":\"white\",\"showbackground\":true,\"ticks\":\"\",\"zerolinecolor\":\"white\",\"gridwidth\":2},\"yaxis\":{\"backgroundcolor\":\"#E5ECF6\",\"gridcolor\":\"white\",\"linecolor\":\"white\",\"showbackground\":true,\"ticks\":\"\",\"zerolinecolor\":\"white\",\"gridwidth\":2},\"zaxis\":{\"backgroundcolor\":\"#E5ECF6\",\"gridcolor\":\"white\",\"linecolor\":\"white\",\"showbackground\":true,\"ticks\":\"\",\"zerolinecolor\":\"white\",\"gridwidth\":2}},\"shapedefaults\":{\"line\":{\"color\":\"#2a3f5f\"}},\"annotationdefaults\":{\"arrowcolor\":\"#2a3f5f\",\"arrowhead\":0,\"arrowwidth\":1},\"geo\":{\"bgcolor\":\"white\",\"landcolor\":\"#E5ECF6\",\"subunitcolor\":\"white\",\"showland\":true,\"showlakes\":true,\"lakecolor\":\"white\"},\"title\":{\"x\":0.05},\"mapbox\":{\"style\":\"light\"}}},\"xaxis\":{\"anchor\":\"y\",\"domain\":[0.0,1.0],\"title\":{\"text\":\"time\"}},\"yaxis\":{\"anchor\":\"x\",\"domain\":[0.0,1.0],\"title\":{\"text\":\"value\"}},\"legend\":{\"title\":{\"text\":\"variable\"},\"tracegroupgap\":0},\"margin\":{\"t\":60},\"showlegend\":false},                        {\"responsive\": true}                    ).then(function(){\n",
       "                            \n",
       "var gd = document.getElementById('87946bae-894d-4e61-afaa-935210ede27a');\n",
       "var x = new MutationObserver(function (mutations, observer) {{\n",
       "        var display = window.getComputedStyle(gd).display;\n",
       "        if (!display || display === 'none') {{\n",
       "            console.log([gd, 'removed!']);\n",
       "            Plotly.purge(gd);\n",
       "            observer.disconnect();\n",
       "        }}\n",
       "}});\n",
       "\n",
       "// Listen for the removal of the full notebook cells\n",
       "var notebookContainer = gd.closest('#notebook-container');\n",
       "if (notebookContainer) {{\n",
       "    x.observe(notebookContainer, {childList: true});\n",
       "}}\n",
       "\n",
       "// Listen for the clearing of the current output cell\n",
       "var outputEl = gd.closest('.output');\n",
       "if (outputEl) {{\n",
       "    x.observe(outputEl, {childList: true});\n",
       "}}\n",
       "\n",
       "                        })                };                });            </script>        </div>"
      ]
     },
     "metadata": {},
     "output_type": "display_data"
    }
   ],
   "source": [
    "fig = df.loc[:,df.columns.str.contains('precipitation_sum')].cumsum().plot(backend='plotly')\n",
    "# fig.add_trace(\n",
    "#     go.Scatter(\n",
    "#         x=df.index,\n",
    "#         y=df.loc[:,df.columns.str.contains('precipitation_hours')].values,\n",
    "#         # yaxis=\"y2\"\n",
    "#     ))\n",
    "fig. update_layout(showlegend=False)"
   ]
  },
  {
   "cell_type": "code",
   "execution_count": 48,
   "metadata": {},
   "outputs": [
    {
     "data": {
      "application/vnd.plotly.v1+json": {
       "config": {
        "plotlyServerURL": "https://plot.ly"
       },
       "data": [
        {
         "line": {
          "width": 2
         },
         "marker": {
          "size": 5
         },
         "mode": "lines+markers",
         "name": "temperature_2m_icon_global",
         "showlegend": false,
         "type": "scatter",
         "x": [
          "2023-08-09T14:00:00+02:00",
          "2023-08-09T15:00:00+02:00",
          "2023-08-09T16:00:00+02:00",
          "2023-08-09T17:00:00+02:00",
          "2023-08-09T18:00:00+02:00",
          "2023-08-09T19:00:00+02:00",
          "2023-08-09T20:00:00+02:00",
          "2023-08-09T21:00:00+02:00",
          "2023-08-09T22:00:00+02:00",
          "2023-08-09T23:00:00+02:00",
          "2023-08-10T00:00:00+02:00",
          "2023-08-10T01:00:00+02:00",
          "2023-08-10T02:00:00+02:00",
          "2023-08-10T03:00:00+02:00",
          "2023-08-10T04:00:00+02:00",
          "2023-08-10T05:00:00+02:00",
          "2023-08-10T06:00:00+02:00",
          "2023-08-10T07:00:00+02:00",
          "2023-08-10T08:00:00+02:00",
          "2023-08-10T09:00:00+02:00",
          "2023-08-10T10:00:00+02:00",
          "2023-08-10T11:00:00+02:00",
          "2023-08-10T12:00:00+02:00",
          "2023-08-10T13:00:00+02:00",
          "2023-08-10T14:00:00+02:00",
          "2023-08-10T15:00:00+02:00",
          "2023-08-10T16:00:00+02:00",
          "2023-08-10T17:00:00+02:00",
          "2023-08-10T18:00:00+02:00",
          "2023-08-10T19:00:00+02:00",
          "2023-08-10T20:00:00+02:00",
          "2023-08-10T21:00:00+02:00",
          "2023-08-10T22:00:00+02:00",
          "2023-08-10T23:00:00+02:00",
          "2023-08-11T00:00:00+02:00",
          "2023-08-11T01:00:00+02:00",
          "2023-08-11T02:00:00+02:00",
          "2023-08-11T03:00:00+02:00",
          "2023-08-11T04:00:00+02:00",
          "2023-08-11T05:00:00+02:00",
          "2023-08-11T06:00:00+02:00",
          "2023-08-11T07:00:00+02:00",
          "2023-08-11T08:00:00+02:00",
          "2023-08-11T09:00:00+02:00",
          "2023-08-11T10:00:00+02:00",
          "2023-08-11T11:00:00+02:00"
         ],
         "xaxis": "x",
         "y": [
          14.8,
          15.1,
          15.2,
          15.4,
          15.5,
          15.5,
          15.3,
          14.9,
          14.6,
          14.1,
          13.8,
          13.5,
          13.1,
          12.8,
          12.7,
          12.8,
          12.7,
          12.9,
          14.2,
          15.4,
          16.1,
          17.3,
          18.2,
          18.6,
          19.3,
          20,
          20.5,
          20.6,
          20.4,
          19.6,
          18,
          16.1,
          14.6,
          13.3,
          12.2,
          11.4,
          11.1,
          10.9,
          10.8,
          10.7,
          10.4,
          11,
          13.6,
          16.9,
          19.2,
          20.9
         ],
         "yaxis": "y"
        },
        {
         "line": {
          "width": 2
         },
         "marker": {
          "size": 5
         },
         "mode": "lines+markers",
         "name": "temperature_2m_icon_eu",
         "showlegend": false,
         "type": "scatter",
         "x": [
          "2023-08-09T14:00:00+02:00",
          "2023-08-09T15:00:00+02:00",
          "2023-08-09T16:00:00+02:00",
          "2023-08-09T17:00:00+02:00",
          "2023-08-09T18:00:00+02:00",
          "2023-08-09T19:00:00+02:00",
          "2023-08-09T20:00:00+02:00",
          "2023-08-09T21:00:00+02:00",
          "2023-08-09T22:00:00+02:00",
          "2023-08-09T23:00:00+02:00",
          "2023-08-10T00:00:00+02:00",
          "2023-08-10T01:00:00+02:00",
          "2023-08-10T02:00:00+02:00",
          "2023-08-10T03:00:00+02:00",
          "2023-08-10T04:00:00+02:00",
          "2023-08-10T05:00:00+02:00",
          "2023-08-10T06:00:00+02:00",
          "2023-08-10T07:00:00+02:00",
          "2023-08-10T08:00:00+02:00",
          "2023-08-10T09:00:00+02:00",
          "2023-08-10T10:00:00+02:00",
          "2023-08-10T11:00:00+02:00",
          "2023-08-10T12:00:00+02:00",
          "2023-08-10T13:00:00+02:00",
          "2023-08-10T14:00:00+02:00",
          "2023-08-10T15:00:00+02:00",
          "2023-08-10T16:00:00+02:00",
          "2023-08-10T17:00:00+02:00",
          "2023-08-10T18:00:00+02:00",
          "2023-08-10T19:00:00+02:00",
          "2023-08-10T20:00:00+02:00",
          "2023-08-10T21:00:00+02:00",
          "2023-08-10T22:00:00+02:00",
          "2023-08-10T23:00:00+02:00",
          "2023-08-11T00:00:00+02:00",
          "2023-08-11T01:00:00+02:00",
          "2023-08-11T02:00:00+02:00",
          "2023-08-11T03:00:00+02:00",
          "2023-08-11T04:00:00+02:00",
          "2023-08-11T05:00:00+02:00",
          "2023-08-11T06:00:00+02:00",
          "2023-08-11T07:00:00+02:00",
          "2023-08-11T08:00:00+02:00",
          "2023-08-11T09:00:00+02:00",
          "2023-08-11T10:00:00+02:00",
          "2023-08-11T11:00:00+02:00"
         ],
         "xaxis": "x",
         "y": [
          14.8,
          14.9,
          15.2,
          15.8,
          15.8,
          15.7,
          15.5,
          15.2,
          14.6,
          14.3,
          14,
          13.9,
          13.8,
          13.9,
          13.6,
          13.5,
          13.4,
          13.6,
          14.4,
          15.2,
          16.3,
          17.4,
          18.3,
          19,
          19.6,
          20.1,
          20.5,
          20.4,
          20.6,
          19.8,
          18.1,
          16.3,
          15.2,
          14.4,
          13.6,
          12.8,
          12.4,
          12,
          11.8,
          11.6,
          11.4,
          11.8,
          14.1,
          17.3,
          19.3,
          21
         ],
         "yaxis": "y"
        },
        {
         "line": {
          "width": 2
         },
         "marker": {
          "size": 5
         },
         "mode": "lines+markers",
         "name": "temperature_2m_icon_d2",
         "showlegend": false,
         "type": "scatter",
         "x": [
          "2023-08-09T14:00:00+02:00",
          "2023-08-09T15:00:00+02:00",
          "2023-08-09T16:00:00+02:00",
          "2023-08-09T17:00:00+02:00",
          "2023-08-09T18:00:00+02:00",
          "2023-08-09T19:00:00+02:00",
          "2023-08-09T20:00:00+02:00",
          "2023-08-09T21:00:00+02:00",
          "2023-08-09T22:00:00+02:00",
          "2023-08-09T23:00:00+02:00",
          "2023-08-10T00:00:00+02:00",
          "2023-08-10T01:00:00+02:00",
          "2023-08-10T02:00:00+02:00",
          "2023-08-10T03:00:00+02:00",
          "2023-08-10T04:00:00+02:00",
          "2023-08-10T05:00:00+02:00",
          "2023-08-10T06:00:00+02:00",
          "2023-08-10T07:00:00+02:00",
          "2023-08-10T08:00:00+02:00",
          "2023-08-10T09:00:00+02:00",
          "2023-08-10T10:00:00+02:00",
          "2023-08-10T11:00:00+02:00",
          "2023-08-10T12:00:00+02:00",
          "2023-08-10T13:00:00+02:00",
          "2023-08-10T14:00:00+02:00",
          "2023-08-10T15:00:00+02:00",
          "2023-08-10T16:00:00+02:00",
          "2023-08-10T17:00:00+02:00",
          "2023-08-10T18:00:00+02:00",
          "2023-08-10T19:00:00+02:00",
          "2023-08-10T20:00:00+02:00",
          "2023-08-10T21:00:00+02:00",
          "2023-08-10T22:00:00+02:00",
          "2023-08-10T23:00:00+02:00",
          "2023-08-11T00:00:00+02:00",
          "2023-08-11T01:00:00+02:00",
          "2023-08-11T02:00:00+02:00",
          "2023-08-11T03:00:00+02:00",
          "2023-08-11T04:00:00+02:00",
          "2023-08-11T05:00:00+02:00",
          "2023-08-11T06:00:00+02:00",
          "2023-08-11T07:00:00+02:00",
          "2023-08-11T08:00:00+02:00",
          "2023-08-11T09:00:00+02:00",
          "2023-08-11T10:00:00+02:00",
          "2023-08-11T11:00:00+02:00"
         ],
         "xaxis": "x",
         "y": [
          15.3,
          16.2,
          16.6,
          16.7,
          15.8,
          15.5,
          15.2,
          14.8,
          14.5,
          14.3,
          14,
          13.8,
          13.8,
          13.7,
          13.4,
          13.3,
          13,
          13.4,
          14.6,
          15.9,
          17,
          17.9,
          18.5,
          19.4,
          20.1,
          20.3,
          20.8,
          20.8,
          20.3,
          19.8,
          17.7,
          15.3,
          13.9,
          12.9,
          11.8,
          11.1,
          11.3,
          12.6,
          12.8,
          12.5,
          12,
          11.6,
          12.6,
          16.2,
          19.1,
          20.9
         ],
         "yaxis": "y"
        },
        {
         "marker": {
          "color": "rgb(26, 118, 255)"
         },
         "name": "precipitation_icon_global",
         "opacity": 0.6,
         "showlegend": false,
         "type": "bar",
         "x": [
          "2023-08-09T14:00:00+02:00",
          "2023-08-09T15:00:00+02:00",
          "2023-08-09T16:00:00+02:00",
          "2023-08-09T17:00:00+02:00",
          "2023-08-09T18:00:00+02:00",
          "2023-08-09T19:00:00+02:00",
          "2023-08-09T20:00:00+02:00",
          "2023-08-09T21:00:00+02:00",
          "2023-08-09T22:00:00+02:00",
          "2023-08-09T23:00:00+02:00",
          "2023-08-10T00:00:00+02:00",
          "2023-08-10T01:00:00+02:00",
          "2023-08-10T02:00:00+02:00",
          "2023-08-10T03:00:00+02:00",
          "2023-08-10T04:00:00+02:00",
          "2023-08-10T05:00:00+02:00",
          "2023-08-10T06:00:00+02:00",
          "2023-08-10T07:00:00+02:00",
          "2023-08-10T08:00:00+02:00",
          "2023-08-10T09:00:00+02:00",
          "2023-08-10T10:00:00+02:00",
          "2023-08-10T11:00:00+02:00",
          "2023-08-10T12:00:00+02:00",
          "2023-08-10T13:00:00+02:00",
          "2023-08-10T14:00:00+02:00",
          "2023-08-10T15:00:00+02:00",
          "2023-08-10T16:00:00+02:00",
          "2023-08-10T17:00:00+02:00",
          "2023-08-10T18:00:00+02:00",
          "2023-08-10T19:00:00+02:00",
          "2023-08-10T20:00:00+02:00",
          "2023-08-10T21:00:00+02:00",
          "2023-08-10T22:00:00+02:00",
          "2023-08-10T23:00:00+02:00",
          "2023-08-11T00:00:00+02:00",
          "2023-08-11T01:00:00+02:00",
          "2023-08-11T02:00:00+02:00",
          "2023-08-11T03:00:00+02:00",
          "2023-08-11T04:00:00+02:00",
          "2023-08-11T05:00:00+02:00",
          "2023-08-11T06:00:00+02:00",
          "2023-08-11T07:00:00+02:00",
          "2023-08-11T08:00:00+02:00",
          "2023-08-11T09:00:00+02:00",
          "2023-08-11T10:00:00+02:00",
          "2023-08-11T11:00:00+02:00"
         ],
         "xaxis": "x2",
         "y": [
          2.4,
          2.4,
          2.2,
          1.1,
          0.6,
          0.8,
          1.4,
          3.4,
          2.5,
          1.7,
          1,
          0.6,
          0,
          0,
          0.3,
          0,
          0,
          0,
          0,
          0,
          0.1,
          0,
          0,
          0,
          0,
          0,
          0,
          0,
          0,
          0,
          0,
          0,
          0,
          0,
          0,
          0,
          0,
          0,
          0,
          0,
          0,
          0,
          0,
          0,
          0,
          0
         ],
         "yaxis": "y2"
        },
        {
         "marker": {
          "color": "rgb(26, 118, 255)"
         },
         "name": "precipitation_icon_eu",
         "opacity": 0.6,
         "showlegend": false,
         "type": "bar",
         "x": [
          "2023-08-09T14:00:00+02:00",
          "2023-08-09T15:00:00+02:00",
          "2023-08-09T16:00:00+02:00",
          "2023-08-09T17:00:00+02:00",
          "2023-08-09T18:00:00+02:00",
          "2023-08-09T19:00:00+02:00",
          "2023-08-09T20:00:00+02:00",
          "2023-08-09T21:00:00+02:00",
          "2023-08-09T22:00:00+02:00",
          "2023-08-09T23:00:00+02:00",
          "2023-08-10T00:00:00+02:00",
          "2023-08-10T01:00:00+02:00",
          "2023-08-10T02:00:00+02:00",
          "2023-08-10T03:00:00+02:00",
          "2023-08-10T04:00:00+02:00",
          "2023-08-10T05:00:00+02:00",
          "2023-08-10T06:00:00+02:00",
          "2023-08-10T07:00:00+02:00",
          "2023-08-10T08:00:00+02:00",
          "2023-08-10T09:00:00+02:00",
          "2023-08-10T10:00:00+02:00",
          "2023-08-10T11:00:00+02:00",
          "2023-08-10T12:00:00+02:00",
          "2023-08-10T13:00:00+02:00",
          "2023-08-10T14:00:00+02:00",
          "2023-08-10T15:00:00+02:00",
          "2023-08-10T16:00:00+02:00",
          "2023-08-10T17:00:00+02:00",
          "2023-08-10T18:00:00+02:00",
          "2023-08-10T19:00:00+02:00",
          "2023-08-10T20:00:00+02:00",
          "2023-08-10T21:00:00+02:00",
          "2023-08-10T22:00:00+02:00",
          "2023-08-10T23:00:00+02:00",
          "2023-08-11T00:00:00+02:00",
          "2023-08-11T01:00:00+02:00",
          "2023-08-11T02:00:00+02:00",
          "2023-08-11T03:00:00+02:00",
          "2023-08-11T04:00:00+02:00",
          "2023-08-11T05:00:00+02:00",
          "2023-08-11T06:00:00+02:00",
          "2023-08-11T07:00:00+02:00",
          "2023-08-11T08:00:00+02:00",
          "2023-08-11T09:00:00+02:00",
          "2023-08-11T10:00:00+02:00",
          "2023-08-11T11:00:00+02:00"
         ],
         "xaxis": "x2",
         "y": [
          2.5,
          3.3,
          2.2,
          0.6,
          1.7,
          2.1,
          2,
          2.4,
          1.2,
          0.8,
          0,
          0,
          0.1,
          0.9,
          0.2,
          0,
          0.2,
          0.4,
          0,
          0,
          0,
          0,
          0,
          0,
          0,
          0,
          0,
          0,
          0,
          0,
          0,
          0,
          0,
          0,
          0,
          0,
          0,
          0,
          0,
          0,
          0,
          0,
          0,
          0,
          0,
          0
         ],
         "yaxis": "y2"
        },
        {
         "marker": {
          "color": "rgb(26, 118, 255)"
         },
         "name": "precipitation_icon_d2",
         "opacity": 0.6,
         "showlegend": false,
         "type": "bar",
         "x": [
          "2023-08-09T14:00:00+02:00",
          "2023-08-09T15:00:00+02:00",
          "2023-08-09T16:00:00+02:00",
          "2023-08-09T17:00:00+02:00",
          "2023-08-09T18:00:00+02:00",
          "2023-08-09T19:00:00+02:00",
          "2023-08-09T20:00:00+02:00",
          "2023-08-09T21:00:00+02:00",
          "2023-08-09T22:00:00+02:00",
          "2023-08-09T23:00:00+02:00",
          "2023-08-10T00:00:00+02:00",
          "2023-08-10T01:00:00+02:00",
          "2023-08-10T02:00:00+02:00",
          "2023-08-10T03:00:00+02:00",
          "2023-08-10T04:00:00+02:00",
          "2023-08-10T05:00:00+02:00",
          "2023-08-10T06:00:00+02:00",
          "2023-08-10T07:00:00+02:00",
          "2023-08-10T08:00:00+02:00",
          "2023-08-10T09:00:00+02:00",
          "2023-08-10T10:00:00+02:00",
          "2023-08-10T11:00:00+02:00",
          "2023-08-10T12:00:00+02:00",
          "2023-08-10T13:00:00+02:00",
          "2023-08-10T14:00:00+02:00",
          "2023-08-10T15:00:00+02:00",
          "2023-08-10T16:00:00+02:00",
          "2023-08-10T17:00:00+02:00",
          "2023-08-10T18:00:00+02:00",
          "2023-08-10T19:00:00+02:00",
          "2023-08-10T20:00:00+02:00",
          "2023-08-10T21:00:00+02:00",
          "2023-08-10T22:00:00+02:00",
          "2023-08-10T23:00:00+02:00",
          "2023-08-11T00:00:00+02:00",
          "2023-08-11T01:00:00+02:00",
          "2023-08-11T02:00:00+02:00",
          "2023-08-11T03:00:00+02:00",
          "2023-08-11T04:00:00+02:00",
          "2023-08-11T05:00:00+02:00",
          "2023-08-11T06:00:00+02:00",
          "2023-08-11T07:00:00+02:00",
          "2023-08-11T08:00:00+02:00",
          "2023-08-11T09:00:00+02:00",
          "2023-08-11T10:00:00+02:00",
          "2023-08-11T11:00:00+02:00"
         ],
         "xaxis": "x2",
         "y": [
          2.4,
          0.1,
          0.3,
          0.1,
          0.4,
          0.4,
          0.4,
          1,
          0.1,
          0,
          0,
          0,
          0.1,
          0.1,
          0,
          0,
          0,
          0,
          0,
          0,
          0,
          0,
          0,
          0,
          0,
          0,
          0,
          0,
          0,
          0,
          0,
          0,
          0,
          0,
          0,
          0,
          0,
          0,
          0,
          0,
          0,
          0,
          0,
          0,
          0,
          0
         ],
         "yaxis": "y2"
        },
        {
         "line": {
          "width": 2
         },
         "marker": {
          "size": 5
         },
         "mode": "lines+markers",
         "name": "windspeed_10m_icon_global",
         "showlegend": false,
         "type": "scatter",
         "x": [
          "2023-08-09T14:00:00+02:00",
          "2023-08-09T15:00:00+02:00",
          "2023-08-09T16:00:00+02:00",
          "2023-08-09T17:00:00+02:00",
          "2023-08-09T18:00:00+02:00",
          "2023-08-09T19:00:00+02:00",
          "2023-08-09T20:00:00+02:00",
          "2023-08-09T21:00:00+02:00",
          "2023-08-09T22:00:00+02:00",
          "2023-08-09T23:00:00+02:00",
          "2023-08-10T00:00:00+02:00",
          "2023-08-10T01:00:00+02:00",
          "2023-08-10T02:00:00+02:00",
          "2023-08-10T03:00:00+02:00",
          "2023-08-10T04:00:00+02:00",
          "2023-08-10T05:00:00+02:00",
          "2023-08-10T06:00:00+02:00",
          "2023-08-10T07:00:00+02:00",
          "2023-08-10T08:00:00+02:00",
          "2023-08-10T09:00:00+02:00",
          "2023-08-10T10:00:00+02:00",
          "2023-08-10T11:00:00+02:00",
          "2023-08-10T12:00:00+02:00",
          "2023-08-10T13:00:00+02:00",
          "2023-08-10T14:00:00+02:00",
          "2023-08-10T15:00:00+02:00",
          "2023-08-10T16:00:00+02:00",
          "2023-08-10T17:00:00+02:00",
          "2023-08-10T18:00:00+02:00",
          "2023-08-10T19:00:00+02:00",
          "2023-08-10T20:00:00+02:00",
          "2023-08-10T21:00:00+02:00",
          "2023-08-10T22:00:00+02:00",
          "2023-08-10T23:00:00+02:00",
          "2023-08-11T00:00:00+02:00",
          "2023-08-11T01:00:00+02:00",
          "2023-08-11T02:00:00+02:00",
          "2023-08-11T03:00:00+02:00",
          "2023-08-11T04:00:00+02:00",
          "2023-08-11T05:00:00+02:00",
          "2023-08-11T06:00:00+02:00",
          "2023-08-11T07:00:00+02:00",
          "2023-08-11T08:00:00+02:00",
          "2023-08-11T09:00:00+02:00",
          "2023-08-11T10:00:00+02:00",
          "2023-08-11T11:00:00+02:00"
         ],
         "xaxis": "x3",
         "y": [
          7.2,
          7.9,
          7.1,
          7.3,
          6.1,
          6.2,
          6.2,
          5.9,
          4.3,
          3.5,
          3.6,
          4,
          4.1,
          2.1,
          3.6,
          4.1,
          1.9,
          3,
          0.4,
          2.9,
          5.2,
          5.4,
          7.2,
          8.3,
          7.1,
          7.4,
          6.7,
          6.1,
          4.3,
          3.4,
          3.4,
          3.7,
          3,
          2.9,
          3.6,
          3.4,
          3.6,
          3.6,
          4,
          3.8,
          4.1,
          3.8,
          2.4,
          2.2,
          2.5,
          2.9
         ],
         "yaxis": "y3"
        },
        {
         "line": {
          "width": 2
         },
         "marker": {
          "size": 5
         },
         "mode": "lines+markers",
         "name": "windspeed_10m_icon_eu",
         "showlegend": false,
         "type": "scatter",
         "x": [
          "2023-08-09T14:00:00+02:00",
          "2023-08-09T15:00:00+02:00",
          "2023-08-09T16:00:00+02:00",
          "2023-08-09T17:00:00+02:00",
          "2023-08-09T18:00:00+02:00",
          "2023-08-09T19:00:00+02:00",
          "2023-08-09T20:00:00+02:00",
          "2023-08-09T21:00:00+02:00",
          "2023-08-09T22:00:00+02:00",
          "2023-08-09T23:00:00+02:00",
          "2023-08-10T00:00:00+02:00",
          "2023-08-10T01:00:00+02:00",
          "2023-08-10T02:00:00+02:00",
          "2023-08-10T03:00:00+02:00",
          "2023-08-10T04:00:00+02:00",
          "2023-08-10T05:00:00+02:00",
          "2023-08-10T06:00:00+02:00",
          "2023-08-10T07:00:00+02:00",
          "2023-08-10T08:00:00+02:00",
          "2023-08-10T09:00:00+02:00",
          "2023-08-10T10:00:00+02:00",
          "2023-08-10T11:00:00+02:00",
          "2023-08-10T12:00:00+02:00",
          "2023-08-10T13:00:00+02:00",
          "2023-08-10T14:00:00+02:00",
          "2023-08-10T15:00:00+02:00",
          "2023-08-10T16:00:00+02:00",
          "2023-08-10T17:00:00+02:00",
          "2023-08-10T18:00:00+02:00",
          "2023-08-10T19:00:00+02:00",
          "2023-08-10T20:00:00+02:00",
          "2023-08-10T21:00:00+02:00",
          "2023-08-10T22:00:00+02:00",
          "2023-08-10T23:00:00+02:00",
          "2023-08-11T00:00:00+02:00",
          "2023-08-11T01:00:00+02:00",
          "2023-08-11T02:00:00+02:00",
          "2023-08-11T03:00:00+02:00",
          "2023-08-11T04:00:00+02:00",
          "2023-08-11T05:00:00+02:00",
          "2023-08-11T06:00:00+02:00",
          "2023-08-11T07:00:00+02:00",
          "2023-08-11T08:00:00+02:00",
          "2023-08-11T09:00:00+02:00",
          "2023-08-11T10:00:00+02:00",
          "2023-08-11T11:00:00+02:00"
         ],
         "xaxis": "x3",
         "y": [
          9,
          9.6,
          8.4,
          8.9,
          8.6,
          8.6,
          7.9,
          6.5,
          5.1,
          3.9,
          3.9,
          4.8,
          2.8,
          2.3,
          4.3,
          2.4,
          3.3,
          3.4,
          2.6,
          3.6,
          3.1,
          5.5,
          6.9,
          7.3,
          7,
          6.6,
          6.2,
          6.1,
          5.1,
          3.7,
          4.8,
          4.8,
          4.3,
          4,
          4.3,
          4,
          3.7,
          3.6,
          3.6,
          3.6,
          3.9,
          3.3,
          2.3,
          1.6,
          1.9,
          3.1
         ],
         "yaxis": "y3"
        },
        {
         "line": {
          "width": 2
         },
         "marker": {
          "size": 5
         },
         "mode": "lines+markers",
         "name": "windspeed_10m_icon_d2",
         "showlegend": false,
         "type": "scatter",
         "x": [
          "2023-08-09T14:00:00+02:00",
          "2023-08-09T15:00:00+02:00",
          "2023-08-09T16:00:00+02:00",
          "2023-08-09T17:00:00+02:00",
          "2023-08-09T18:00:00+02:00",
          "2023-08-09T19:00:00+02:00",
          "2023-08-09T20:00:00+02:00",
          "2023-08-09T21:00:00+02:00",
          "2023-08-09T22:00:00+02:00",
          "2023-08-09T23:00:00+02:00",
          "2023-08-10T00:00:00+02:00",
          "2023-08-10T01:00:00+02:00",
          "2023-08-10T02:00:00+02:00",
          "2023-08-10T03:00:00+02:00",
          "2023-08-10T04:00:00+02:00",
          "2023-08-10T05:00:00+02:00",
          "2023-08-10T06:00:00+02:00",
          "2023-08-10T07:00:00+02:00",
          "2023-08-10T08:00:00+02:00",
          "2023-08-10T09:00:00+02:00",
          "2023-08-10T10:00:00+02:00",
          "2023-08-10T11:00:00+02:00",
          "2023-08-10T12:00:00+02:00",
          "2023-08-10T13:00:00+02:00",
          "2023-08-10T14:00:00+02:00",
          "2023-08-10T15:00:00+02:00",
          "2023-08-10T16:00:00+02:00",
          "2023-08-10T17:00:00+02:00",
          "2023-08-10T18:00:00+02:00",
          "2023-08-10T19:00:00+02:00",
          "2023-08-10T20:00:00+02:00",
          "2023-08-10T21:00:00+02:00",
          "2023-08-10T22:00:00+02:00",
          "2023-08-10T23:00:00+02:00",
          "2023-08-11T00:00:00+02:00",
          "2023-08-11T01:00:00+02:00",
          "2023-08-11T02:00:00+02:00",
          "2023-08-11T03:00:00+02:00",
          "2023-08-11T04:00:00+02:00",
          "2023-08-11T05:00:00+02:00",
          "2023-08-11T06:00:00+02:00",
          "2023-08-11T07:00:00+02:00",
          "2023-08-11T08:00:00+02:00",
          "2023-08-11T09:00:00+02:00",
          "2023-08-11T10:00:00+02:00",
          "2023-08-11T11:00:00+02:00"
         ],
         "xaxis": "x3",
         "y": [
          12.6,
          13.8,
          14.7,
          10.7,
          7.3,
          8.6,
          6,
          6.1,
          8.9,
          7.1,
          4.9,
          4.6,
          4.2,
          4,
          3.3,
          4.3,
          3.7,
          0.7,
          0.4,
          4.1,
          2.1,
          6.6,
          6.1,
          6.3,
          6.6,
          7.4,
          8,
          5.6,
          4.3,
          3.6,
          4.2,
          5,
          4,
          3.3,
          2.2,
          2.3,
          2.2,
          2.2,
          1.9,
          2.2,
          1.4,
          0.4,
          1,
          1.6,
          3.2,
          2.2
         ],
         "yaxis": "y3"
        },
        {
         "line": {
          "width": 2
         },
         "marker": {
          "size": 5
         },
         "mode": "markers",
         "name": "cloudcover_icon_global",
         "showlegend": false,
         "type": "scatter",
         "x": [
          "2023-08-09T14:00:00+02:00",
          "2023-08-09T15:00:00+02:00",
          "2023-08-09T16:00:00+02:00",
          "2023-08-09T17:00:00+02:00",
          "2023-08-09T18:00:00+02:00",
          "2023-08-09T19:00:00+02:00",
          "2023-08-09T20:00:00+02:00",
          "2023-08-09T21:00:00+02:00",
          "2023-08-09T22:00:00+02:00",
          "2023-08-09T23:00:00+02:00",
          "2023-08-10T00:00:00+02:00",
          "2023-08-10T01:00:00+02:00",
          "2023-08-10T02:00:00+02:00",
          "2023-08-10T03:00:00+02:00",
          "2023-08-10T04:00:00+02:00",
          "2023-08-10T05:00:00+02:00",
          "2023-08-10T06:00:00+02:00",
          "2023-08-10T07:00:00+02:00",
          "2023-08-10T08:00:00+02:00",
          "2023-08-10T09:00:00+02:00",
          "2023-08-10T10:00:00+02:00",
          "2023-08-10T11:00:00+02:00",
          "2023-08-10T12:00:00+02:00",
          "2023-08-10T13:00:00+02:00",
          "2023-08-10T14:00:00+02:00",
          "2023-08-10T15:00:00+02:00",
          "2023-08-10T16:00:00+02:00",
          "2023-08-10T17:00:00+02:00",
          "2023-08-10T18:00:00+02:00",
          "2023-08-10T19:00:00+02:00",
          "2023-08-10T20:00:00+02:00",
          "2023-08-10T21:00:00+02:00",
          "2023-08-10T22:00:00+02:00",
          "2023-08-10T23:00:00+02:00",
          "2023-08-11T00:00:00+02:00",
          "2023-08-11T01:00:00+02:00",
          "2023-08-11T02:00:00+02:00",
          "2023-08-11T03:00:00+02:00",
          "2023-08-11T04:00:00+02:00",
          "2023-08-11T05:00:00+02:00",
          "2023-08-11T06:00:00+02:00",
          "2023-08-11T07:00:00+02:00",
          "2023-08-11T08:00:00+02:00",
          "2023-08-11T09:00:00+02:00",
          "2023-08-11T10:00:00+02:00",
          "2023-08-11T11:00:00+02:00"
         ],
         "xaxis": "x4",
         "y": [
          100,
          100,
          100,
          100,
          100,
          100,
          100,
          96,
          92,
          93,
          90,
          88,
          81,
          84,
          97,
          95,
          96,
          70,
          83,
          86,
          80,
          81,
          82,
          82,
          71,
          61,
          71,
          70,
          62,
          56,
          56,
          34,
          10,
          0,
          36,
          50,
          49,
          41,
          26,
          0,
          23,
          24,
          0,
          0,
          0,
          0
         ],
         "yaxis": "y4"
        },
        {
         "line": {
          "width": 2
         },
         "marker": {
          "size": 5
         },
         "mode": "markers",
         "name": "cloudcover_icon_eu",
         "showlegend": false,
         "type": "scatter",
         "x": [
          "2023-08-09T14:00:00+02:00",
          "2023-08-09T15:00:00+02:00",
          "2023-08-09T16:00:00+02:00",
          "2023-08-09T17:00:00+02:00",
          "2023-08-09T18:00:00+02:00",
          "2023-08-09T19:00:00+02:00",
          "2023-08-09T20:00:00+02:00",
          "2023-08-09T21:00:00+02:00",
          "2023-08-09T22:00:00+02:00",
          "2023-08-09T23:00:00+02:00",
          "2023-08-10T00:00:00+02:00",
          "2023-08-10T01:00:00+02:00",
          "2023-08-10T02:00:00+02:00",
          "2023-08-10T03:00:00+02:00",
          "2023-08-10T04:00:00+02:00",
          "2023-08-10T05:00:00+02:00",
          "2023-08-10T06:00:00+02:00",
          "2023-08-10T07:00:00+02:00",
          "2023-08-10T08:00:00+02:00",
          "2023-08-10T09:00:00+02:00",
          "2023-08-10T10:00:00+02:00",
          "2023-08-10T11:00:00+02:00",
          "2023-08-10T12:00:00+02:00",
          "2023-08-10T13:00:00+02:00",
          "2023-08-10T14:00:00+02:00",
          "2023-08-10T15:00:00+02:00",
          "2023-08-10T16:00:00+02:00",
          "2023-08-10T17:00:00+02:00",
          "2023-08-10T18:00:00+02:00",
          "2023-08-10T19:00:00+02:00",
          "2023-08-10T20:00:00+02:00",
          "2023-08-10T21:00:00+02:00",
          "2023-08-10T22:00:00+02:00",
          "2023-08-10T23:00:00+02:00",
          "2023-08-11T00:00:00+02:00",
          "2023-08-11T01:00:00+02:00",
          "2023-08-11T02:00:00+02:00",
          "2023-08-11T03:00:00+02:00",
          "2023-08-11T04:00:00+02:00",
          "2023-08-11T05:00:00+02:00",
          "2023-08-11T06:00:00+02:00",
          "2023-08-11T07:00:00+02:00",
          "2023-08-11T08:00:00+02:00",
          "2023-08-11T09:00:00+02:00",
          "2023-08-11T10:00:00+02:00",
          "2023-08-11T11:00:00+02:00"
         ],
         "xaxis": "x4",
         "y": [
          100,
          100,
          95,
          94,
          100,
          100,
          100,
          97,
          89,
          84,
          85,
          90,
          99,
          95,
          96,
          93,
          93,
          90,
          82,
          70,
          53,
          60,
          51,
          57,
          49,
          60,
          44,
          53,
          55,
          52,
          51,
          23,
          1,
          0,
          0,
          0,
          0,
          10,
          11,
          12,
          15,
          14,
          10,
          0,
          0,
          3
         ],
         "yaxis": "y4"
        },
        {
         "line": {
          "width": 2
         },
         "marker": {
          "size": 5
         },
         "mode": "markers",
         "name": "cloudcover_icon_d2",
         "showlegend": false,
         "type": "scatter",
         "x": [
          "2023-08-09T14:00:00+02:00",
          "2023-08-09T15:00:00+02:00",
          "2023-08-09T16:00:00+02:00",
          "2023-08-09T17:00:00+02:00",
          "2023-08-09T18:00:00+02:00",
          "2023-08-09T19:00:00+02:00",
          "2023-08-09T20:00:00+02:00",
          "2023-08-09T21:00:00+02:00",
          "2023-08-09T22:00:00+02:00",
          "2023-08-09T23:00:00+02:00",
          "2023-08-10T00:00:00+02:00",
          "2023-08-10T01:00:00+02:00",
          "2023-08-10T02:00:00+02:00",
          "2023-08-10T03:00:00+02:00",
          "2023-08-10T04:00:00+02:00",
          "2023-08-10T05:00:00+02:00",
          "2023-08-10T06:00:00+02:00",
          "2023-08-10T07:00:00+02:00",
          "2023-08-10T08:00:00+02:00",
          "2023-08-10T09:00:00+02:00",
          "2023-08-10T10:00:00+02:00",
          "2023-08-10T11:00:00+02:00",
          "2023-08-10T12:00:00+02:00",
          "2023-08-10T13:00:00+02:00",
          "2023-08-10T14:00:00+02:00",
          "2023-08-10T15:00:00+02:00",
          "2023-08-10T16:00:00+02:00",
          "2023-08-10T17:00:00+02:00",
          "2023-08-10T18:00:00+02:00",
          "2023-08-10T19:00:00+02:00",
          "2023-08-10T20:00:00+02:00",
          "2023-08-10T21:00:00+02:00",
          "2023-08-10T22:00:00+02:00",
          "2023-08-10T23:00:00+02:00",
          "2023-08-11T00:00:00+02:00",
          "2023-08-11T01:00:00+02:00",
          "2023-08-11T02:00:00+02:00",
          "2023-08-11T03:00:00+02:00",
          "2023-08-11T04:00:00+02:00",
          "2023-08-11T05:00:00+02:00",
          "2023-08-11T06:00:00+02:00",
          "2023-08-11T07:00:00+02:00",
          "2023-08-11T08:00:00+02:00",
          "2023-08-11T09:00:00+02:00",
          "2023-08-11T10:00:00+02:00",
          "2023-08-11T11:00:00+02:00"
         ],
         "xaxis": "x4",
         "y": [
          100,
          100,
          100,
          100,
          100,
          100,
          100,
          95,
          86,
          73,
          98,
          97,
          94,
          93,
          98,
          94,
          80,
          92,
          91,
          97,
          79,
          90,
          82,
          63,
          42,
          43,
          45,
          81,
          31,
          23,
          17,
          0,
          0,
          0,
          37,
          69,
          0,
          0,
          0,
          0,
          0,
          0,
          50,
          0,
          0,
          0
         ],
         "yaxis": "y4"
        }
       ],
       "layout": {
        "barmode": "overlay",
        "height": 800,
        "margin": {
         "b": 0.1,
         "l": 0.1,
         "r": 0.1,
         "t": 0.1
        },
        "template": {
         "data": {
          "bar": [
           {
            "error_x": {
             "color": "#2a3f5f"
            },
            "error_y": {
             "color": "#2a3f5f"
            },
            "marker": {
             "line": {
              "color": "white",
              "width": 0.5
             },
             "pattern": {
              "fillmode": "overlay",
              "size": 10,
              "solidity": 0.2
             }
            },
            "type": "bar"
           }
          ],
          "barpolar": [
           {
            "marker": {
             "line": {
              "color": "white",
              "width": 0.5
             },
             "pattern": {
              "fillmode": "overlay",
              "size": 10,
              "solidity": 0.2
             }
            },
            "type": "barpolar"
           }
          ],
          "carpet": [
           {
            "aaxis": {
             "endlinecolor": "#2a3f5f",
             "gridcolor": "#C8D4E3",
             "linecolor": "#C8D4E3",
             "minorgridcolor": "#C8D4E3",
             "startlinecolor": "#2a3f5f"
            },
            "baxis": {
             "endlinecolor": "#2a3f5f",
             "gridcolor": "#C8D4E3",
             "linecolor": "#C8D4E3",
             "minorgridcolor": "#C8D4E3",
             "startlinecolor": "#2a3f5f"
            },
            "type": "carpet"
           }
          ],
          "choropleth": [
           {
            "colorbar": {
             "outlinewidth": 0,
             "ticks": ""
            },
            "type": "choropleth"
           }
          ],
          "contour": [
           {
            "colorbar": {
             "outlinewidth": 0,
             "ticks": ""
            },
            "colorscale": [
             [
              0,
              "#0d0887"
             ],
             [
              0.1111111111111111,
              "#46039f"
             ],
             [
              0.2222222222222222,
              "#7201a8"
             ],
             [
              0.3333333333333333,
              "#9c179e"
             ],
             [
              0.4444444444444444,
              "#bd3786"
             ],
             [
              0.5555555555555556,
              "#d8576b"
             ],
             [
              0.6666666666666666,
              "#ed7953"
             ],
             [
              0.7777777777777778,
              "#fb9f3a"
             ],
             [
              0.8888888888888888,
              "#fdca26"
             ],
             [
              1,
              "#f0f921"
             ]
            ],
            "type": "contour"
           }
          ],
          "contourcarpet": [
           {
            "colorbar": {
             "outlinewidth": 0,
             "ticks": ""
            },
            "type": "contourcarpet"
           }
          ],
          "heatmap": [
           {
            "colorbar": {
             "outlinewidth": 0,
             "ticks": ""
            },
            "colorscale": [
             [
              0,
              "#0d0887"
             ],
             [
              0.1111111111111111,
              "#46039f"
             ],
             [
              0.2222222222222222,
              "#7201a8"
             ],
             [
              0.3333333333333333,
              "#9c179e"
             ],
             [
              0.4444444444444444,
              "#bd3786"
             ],
             [
              0.5555555555555556,
              "#d8576b"
             ],
             [
              0.6666666666666666,
              "#ed7953"
             ],
             [
              0.7777777777777778,
              "#fb9f3a"
             ],
             [
              0.8888888888888888,
              "#fdca26"
             ],
             [
              1,
              "#f0f921"
             ]
            ],
            "type": "heatmap"
           }
          ],
          "heatmapgl": [
           {
            "colorbar": {
             "outlinewidth": 0,
             "ticks": ""
            },
            "colorscale": [
             [
              0,
              "#0d0887"
             ],
             [
              0.1111111111111111,
              "#46039f"
             ],
             [
              0.2222222222222222,
              "#7201a8"
             ],
             [
              0.3333333333333333,
              "#9c179e"
             ],
             [
              0.4444444444444444,
              "#bd3786"
             ],
             [
              0.5555555555555556,
              "#d8576b"
             ],
             [
              0.6666666666666666,
              "#ed7953"
             ],
             [
              0.7777777777777778,
              "#fb9f3a"
             ],
             [
              0.8888888888888888,
              "#fdca26"
             ],
             [
              1,
              "#f0f921"
             ]
            ],
            "type": "heatmapgl"
           }
          ],
          "histogram": [
           {
            "marker": {
             "pattern": {
              "fillmode": "overlay",
              "size": 10,
              "solidity": 0.2
             }
            },
            "type": "histogram"
           }
          ],
          "histogram2d": [
           {
            "colorbar": {
             "outlinewidth": 0,
             "ticks": ""
            },
            "colorscale": [
             [
              0,
              "#0d0887"
             ],
             [
              0.1111111111111111,
              "#46039f"
             ],
             [
              0.2222222222222222,
              "#7201a8"
             ],
             [
              0.3333333333333333,
              "#9c179e"
             ],
             [
              0.4444444444444444,
              "#bd3786"
             ],
             [
              0.5555555555555556,
              "#d8576b"
             ],
             [
              0.6666666666666666,
              "#ed7953"
             ],
             [
              0.7777777777777778,
              "#fb9f3a"
             ],
             [
              0.8888888888888888,
              "#fdca26"
             ],
             [
              1,
              "#f0f921"
             ]
            ],
            "type": "histogram2d"
           }
          ],
          "histogram2dcontour": [
           {
            "colorbar": {
             "outlinewidth": 0,
             "ticks": ""
            },
            "colorscale": [
             [
              0,
              "#0d0887"
             ],
             [
              0.1111111111111111,
              "#46039f"
             ],
             [
              0.2222222222222222,
              "#7201a8"
             ],
             [
              0.3333333333333333,
              "#9c179e"
             ],
             [
              0.4444444444444444,
              "#bd3786"
             ],
             [
              0.5555555555555556,
              "#d8576b"
             ],
             [
              0.6666666666666666,
              "#ed7953"
             ],
             [
              0.7777777777777778,
              "#fb9f3a"
             ],
             [
              0.8888888888888888,
              "#fdca26"
             ],
             [
              1,
              "#f0f921"
             ]
            ],
            "type": "histogram2dcontour"
           }
          ],
          "mesh3d": [
           {
            "colorbar": {
             "outlinewidth": 0,
             "ticks": ""
            },
            "type": "mesh3d"
           }
          ],
          "parcoords": [
           {
            "line": {
             "colorbar": {
              "outlinewidth": 0,
              "ticks": ""
             }
            },
            "type": "parcoords"
           }
          ],
          "pie": [
           {
            "automargin": true,
            "type": "pie"
           }
          ],
          "scatter": [
           {
            "fillpattern": {
             "fillmode": "overlay",
             "size": 10,
             "solidity": 0.2
            },
            "type": "scatter"
           }
          ],
          "scatter3d": [
           {
            "line": {
             "colorbar": {
              "outlinewidth": 0,
              "ticks": ""
             }
            },
            "marker": {
             "colorbar": {
              "outlinewidth": 0,
              "ticks": ""
             }
            },
            "type": "scatter3d"
           }
          ],
          "scattercarpet": [
           {
            "marker": {
             "colorbar": {
              "outlinewidth": 0,
              "ticks": ""
             }
            },
            "type": "scattercarpet"
           }
          ],
          "scattergeo": [
           {
            "marker": {
             "colorbar": {
              "outlinewidth": 0,
              "ticks": ""
             }
            },
            "type": "scattergeo"
           }
          ],
          "scattergl": [
           {
            "marker": {
             "colorbar": {
              "outlinewidth": 0,
              "ticks": ""
             }
            },
            "type": "scattergl"
           }
          ],
          "scattermapbox": [
           {
            "marker": {
             "colorbar": {
              "outlinewidth": 0,
              "ticks": ""
             }
            },
            "type": "scattermapbox"
           }
          ],
          "scatterpolar": [
           {
            "marker": {
             "colorbar": {
              "outlinewidth": 0,
              "ticks": ""
             }
            },
            "type": "scatterpolar"
           }
          ],
          "scatterpolargl": [
           {
            "marker": {
             "colorbar": {
              "outlinewidth": 0,
              "ticks": ""
             }
            },
            "type": "scatterpolargl"
           }
          ],
          "scatterternary": [
           {
            "marker": {
             "colorbar": {
              "outlinewidth": 0,
              "ticks": ""
             }
            },
            "type": "scatterternary"
           }
          ],
          "surface": [
           {
            "colorbar": {
             "outlinewidth": 0,
             "ticks": ""
            },
            "colorscale": [
             [
              0,
              "#0d0887"
             ],
             [
              0.1111111111111111,
              "#46039f"
             ],
             [
              0.2222222222222222,
              "#7201a8"
             ],
             [
              0.3333333333333333,
              "#9c179e"
             ],
             [
              0.4444444444444444,
              "#bd3786"
             ],
             [
              0.5555555555555556,
              "#d8576b"
             ],
             [
              0.6666666666666666,
              "#ed7953"
             ],
             [
              0.7777777777777778,
              "#fb9f3a"
             ],
             [
              0.8888888888888888,
              "#fdca26"
             ],
             [
              1,
              "#f0f921"
             ]
            ],
            "type": "surface"
           }
          ],
          "table": [
           {
            "cells": {
             "fill": {
              "color": "#EBF0F8"
             },
             "line": {
              "color": "white"
             }
            },
            "header": {
             "fill": {
              "color": "#C8D4E3"
             },
             "line": {
              "color": "white"
             }
            },
            "type": "table"
           }
          ]
         },
         "layout": {
          "annotationdefaults": {
           "arrowcolor": "#2a3f5f",
           "arrowhead": 0,
           "arrowwidth": 1
          },
          "autotypenumbers": "strict",
          "coloraxis": {
           "colorbar": {
            "outlinewidth": 0,
            "ticks": ""
           }
          },
          "colorscale": {
           "diverging": [
            [
             0,
             "#8e0152"
            ],
            [
             0.1,
             "#c51b7d"
            ],
            [
             0.2,
             "#de77ae"
            ],
            [
             0.3,
             "#f1b6da"
            ],
            [
             0.4,
             "#fde0ef"
            ],
            [
             0.5,
             "#f7f7f7"
            ],
            [
             0.6,
             "#e6f5d0"
            ],
            [
             0.7,
             "#b8e186"
            ],
            [
             0.8,
             "#7fbc41"
            ],
            [
             0.9,
             "#4d9221"
            ],
            [
             1,
             "#276419"
            ]
           ],
           "sequential": [
            [
             0,
             "#0d0887"
            ],
            [
             0.1111111111111111,
             "#46039f"
            ],
            [
             0.2222222222222222,
             "#7201a8"
            ],
            [
             0.3333333333333333,
             "#9c179e"
            ],
            [
             0.4444444444444444,
             "#bd3786"
            ],
            [
             0.5555555555555556,
             "#d8576b"
            ],
            [
             0.6666666666666666,
             "#ed7953"
            ],
            [
             0.7777777777777778,
             "#fb9f3a"
            ],
            [
             0.8888888888888888,
             "#fdca26"
            ],
            [
             1,
             "#f0f921"
            ]
           ],
           "sequentialminus": [
            [
             0,
             "#0d0887"
            ],
            [
             0.1111111111111111,
             "#46039f"
            ],
            [
             0.2222222222222222,
             "#7201a8"
            ],
            [
             0.3333333333333333,
             "#9c179e"
            ],
            [
             0.4444444444444444,
             "#bd3786"
            ],
            [
             0.5555555555555556,
             "#d8576b"
            ],
            [
             0.6666666666666666,
             "#ed7953"
            ],
            [
             0.7777777777777778,
             "#fb9f3a"
            ],
            [
             0.8888888888888888,
             "#fdca26"
            ],
            [
             1,
             "#f0f921"
            ]
           ]
          },
          "colorway": [
           "#636efa",
           "#EF553B",
           "#00cc96",
           "#ab63fa",
           "#FFA15A",
           "#19d3f3",
           "#FF6692",
           "#B6E880",
           "#FF97FF",
           "#FECB52"
          ],
          "font": {
           "color": "#2a3f5f"
          },
          "geo": {
           "bgcolor": "white",
           "lakecolor": "white",
           "landcolor": "white",
           "showlakes": true,
           "showland": true,
           "subunitcolor": "#C8D4E3"
          },
          "hoverlabel": {
           "align": "left"
          },
          "hovermode": "closest",
          "mapbox": {
           "style": "light"
          },
          "paper_bgcolor": "white",
          "plot_bgcolor": "white",
          "polar": {
           "angularaxis": {
            "gridcolor": "#EBF0F8",
            "linecolor": "#EBF0F8",
            "ticks": ""
           },
           "bgcolor": "white",
           "radialaxis": {
            "gridcolor": "#EBF0F8",
            "linecolor": "#EBF0F8",
            "ticks": ""
           }
          },
          "scene": {
           "xaxis": {
            "backgroundcolor": "white",
            "gridcolor": "#DFE8F3",
            "gridwidth": 2,
            "linecolor": "#EBF0F8",
            "showbackground": true,
            "ticks": "",
            "zerolinecolor": "#EBF0F8"
           },
           "yaxis": {
            "backgroundcolor": "white",
            "gridcolor": "#DFE8F3",
            "gridwidth": 2,
            "linecolor": "#EBF0F8",
            "showbackground": true,
            "ticks": "",
            "zerolinecolor": "#EBF0F8"
           },
           "zaxis": {
            "backgroundcolor": "white",
            "gridcolor": "#DFE8F3",
            "gridwidth": 2,
            "linecolor": "#EBF0F8",
            "showbackground": true,
            "ticks": "",
            "zerolinecolor": "#EBF0F8"
           }
          },
          "shapedefaults": {
           "line": {
            "color": "#2a3f5f"
           }
          },
          "ternary": {
           "aaxis": {
            "gridcolor": "#DFE8F3",
            "linecolor": "#A2B1C6",
            "ticks": ""
           },
           "baxis": {
            "gridcolor": "#DFE8F3",
            "linecolor": "#A2B1C6",
            "ticks": ""
           },
           "bgcolor": "white",
           "caxis": {
            "gridcolor": "#DFE8F3",
            "linecolor": "#A2B1C6",
            "ticks": ""
           }
          },
          "title": {
           "x": 0.05
          },
          "xaxis": {
           "automargin": true,
           "gridcolor": "#EBF0F8",
           "linecolor": "#EBF0F8",
           "ticks": "",
           "title": {
            "standoff": 15
           },
           "zerolinecolor": "#EBF0F8",
           "zerolinewidth": 2
          },
          "yaxis": {
           "automargin": true,
           "gridcolor": "#EBF0F8",
           "linecolor": "#EBF0F8",
           "ticks": "",
           "title": {
            "standoff": 15
           },
           "zerolinecolor": "#EBF0F8",
           "zerolinewidth": 2
          }
         }
        },
        "xaxis": {
         "anchor": "y",
         "domain": [
          0,
          1
         ],
         "gridwidth": 4,
         "matches": "x4",
         "minor": {
          "gridwidth": 3,
          "showgrid": true,
          "ticks": "inside"
         },
         "range": [
          "2023-08-09T14:00:00+02:00",
          "2023-08-11T11:00:00+02:00"
         ],
         "showgrid": true,
         "showticklabels": false
        },
        "xaxis2": {
         "anchor": "y2",
         "domain": [
          0,
          1
         ],
         "gridwidth": 4,
         "matches": "x4",
         "minor": {
          "gridwidth": 3,
          "showgrid": true,
          "ticks": "inside"
         },
         "showgrid": true,
         "showticklabels": false
        },
        "xaxis3": {
         "anchor": "y3",
         "domain": [
          0,
          1
         ],
         "gridwidth": 4,
         "matches": "x4",
         "minor": {
          "gridwidth": 3,
          "showgrid": true,
          "ticks": "inside"
         },
         "showgrid": true,
         "showticklabels": false
        },
        "xaxis4": {
         "anchor": "y4",
         "domain": [
          0,
          1
         ],
         "gridwidth": 4,
         "minor": {
          "gridwidth": 3,
          "showgrid": true,
          "ticks": "inside"
         },
         "showgrid": true
        },
        "yaxis": {
         "anchor": "x",
         "domain": [
          0.7166666666666667,
          1
         ],
         "gridwidth": 4,
         "showgrid": true,
         "title": {
          "text": "2m Temp [°C]"
         }
        },
        "yaxis2": {
         "anchor": "x2",
         "domain": [
          0.43999999999999995,
          0.6666666666666666
         ],
         "gridwidth": 4,
         "showgrid": true,
         "title": {
          "text": "Prec. [mm]"
         }
        },
        "yaxis3": {
         "anchor": "x3",
         "domain": [
          0.21999999999999997,
          0.38999999999999996
         ],
         "gridwidth": 4,
         "showgrid": true,
         "title": {
          "text": "Wind. [kph]"
         }
        },
        "yaxis4": {
         "anchor": "x4",
         "domain": [
          0,
          0.16999999999999998
         ],
         "gridwidth": 4,
         "showgrid": true,
         "title": {
          "text": "Cloud cover [%]"
         }
        }
       }
      },
      "text/html": [
       "<div>                            <div id=\"5556d377-ccab-45e2-8fc4-f356826d6e87\" class=\"plotly-graph-div\" style=\"height:800px; width:100%;\"></div>            <script type=\"text/javascript\">                require([\"plotly\"], function(Plotly) {                    window.PLOTLYENV=window.PLOTLYENV || {};                                    if (document.getElementById(\"5556d377-ccab-45e2-8fc4-f356826d6e87\")) {                    Plotly.newPlot(                        \"5556d377-ccab-45e2-8fc4-f356826d6e87\",                        [{\"line\":{\"width\":2},\"marker\":{\"size\":5},\"mode\":\"lines+markers\",\"name\":\"temperature_2m_icon_global\",\"showlegend\":false,\"x\":[\"2023-08-09T14:00:00+02:00\",\"2023-08-09T15:00:00+02:00\",\"2023-08-09T16:00:00+02:00\",\"2023-08-09T17:00:00+02:00\",\"2023-08-09T18:00:00+02:00\",\"2023-08-09T19:00:00+02:00\",\"2023-08-09T20:00:00+02:00\",\"2023-08-09T21:00:00+02:00\",\"2023-08-09T22:00:00+02:00\",\"2023-08-09T23:00:00+02:00\",\"2023-08-10T00:00:00+02:00\",\"2023-08-10T01:00:00+02:00\",\"2023-08-10T02:00:00+02:00\",\"2023-08-10T03:00:00+02:00\",\"2023-08-10T04:00:00+02:00\",\"2023-08-10T05:00:00+02:00\",\"2023-08-10T06:00:00+02:00\",\"2023-08-10T07:00:00+02:00\",\"2023-08-10T08:00:00+02:00\",\"2023-08-10T09:00:00+02:00\",\"2023-08-10T10:00:00+02:00\",\"2023-08-10T11:00:00+02:00\",\"2023-08-10T12:00:00+02:00\",\"2023-08-10T13:00:00+02:00\",\"2023-08-10T14:00:00+02:00\",\"2023-08-10T15:00:00+02:00\",\"2023-08-10T16:00:00+02:00\",\"2023-08-10T17:00:00+02:00\",\"2023-08-10T18:00:00+02:00\",\"2023-08-10T19:00:00+02:00\",\"2023-08-10T20:00:00+02:00\",\"2023-08-10T21:00:00+02:00\",\"2023-08-10T22:00:00+02:00\",\"2023-08-10T23:00:00+02:00\",\"2023-08-11T00:00:00+02:00\",\"2023-08-11T01:00:00+02:00\",\"2023-08-11T02:00:00+02:00\",\"2023-08-11T03:00:00+02:00\",\"2023-08-11T04:00:00+02:00\",\"2023-08-11T05:00:00+02:00\",\"2023-08-11T06:00:00+02:00\",\"2023-08-11T07:00:00+02:00\",\"2023-08-11T08:00:00+02:00\",\"2023-08-11T09:00:00+02:00\",\"2023-08-11T10:00:00+02:00\",\"2023-08-11T11:00:00+02:00\"],\"y\":[14.8,15.1,15.2,15.4,15.5,15.5,15.3,14.9,14.6,14.1,13.8,13.5,13.1,12.8,12.7,12.8,12.7,12.9,14.2,15.4,16.1,17.3,18.2,18.6,19.3,20.0,20.5,20.6,20.4,19.6,18.0,16.1,14.6,13.3,12.2,11.4,11.1,10.9,10.8,10.7,10.4,11.0,13.6,16.9,19.2,20.9],\"type\":\"scatter\",\"xaxis\":\"x\",\"yaxis\":\"y\"},{\"line\":{\"width\":2},\"marker\":{\"size\":5},\"mode\":\"lines+markers\",\"name\":\"temperature_2m_icon_eu\",\"showlegend\":false,\"x\":[\"2023-08-09T14:00:00+02:00\",\"2023-08-09T15:00:00+02:00\",\"2023-08-09T16:00:00+02:00\",\"2023-08-09T17:00:00+02:00\",\"2023-08-09T18:00:00+02:00\",\"2023-08-09T19:00:00+02:00\",\"2023-08-09T20:00:00+02:00\",\"2023-08-09T21:00:00+02:00\",\"2023-08-09T22:00:00+02:00\",\"2023-08-09T23:00:00+02:00\",\"2023-08-10T00:00:00+02:00\",\"2023-08-10T01:00:00+02:00\",\"2023-08-10T02:00:00+02:00\",\"2023-08-10T03:00:00+02:00\",\"2023-08-10T04:00:00+02:00\",\"2023-08-10T05:00:00+02:00\",\"2023-08-10T06:00:00+02:00\",\"2023-08-10T07:00:00+02:00\",\"2023-08-10T08:00:00+02:00\",\"2023-08-10T09:00:00+02:00\",\"2023-08-10T10:00:00+02:00\",\"2023-08-10T11:00:00+02:00\",\"2023-08-10T12:00:00+02:00\",\"2023-08-10T13:00:00+02:00\",\"2023-08-10T14:00:00+02:00\",\"2023-08-10T15:00:00+02:00\",\"2023-08-10T16:00:00+02:00\",\"2023-08-10T17:00:00+02:00\",\"2023-08-10T18:00:00+02:00\",\"2023-08-10T19:00:00+02:00\",\"2023-08-10T20:00:00+02:00\",\"2023-08-10T21:00:00+02:00\",\"2023-08-10T22:00:00+02:00\",\"2023-08-10T23:00:00+02:00\",\"2023-08-11T00:00:00+02:00\",\"2023-08-11T01:00:00+02:00\",\"2023-08-11T02:00:00+02:00\",\"2023-08-11T03:00:00+02:00\",\"2023-08-11T04:00:00+02:00\",\"2023-08-11T05:00:00+02:00\",\"2023-08-11T06:00:00+02:00\",\"2023-08-11T07:00:00+02:00\",\"2023-08-11T08:00:00+02:00\",\"2023-08-11T09:00:00+02:00\",\"2023-08-11T10:00:00+02:00\",\"2023-08-11T11:00:00+02:00\"],\"y\":[14.8,14.9,15.2,15.8,15.8,15.7,15.5,15.2,14.6,14.3,14.0,13.9,13.8,13.9,13.6,13.5,13.4,13.6,14.4,15.2,16.3,17.4,18.3,19.0,19.6,20.1,20.5,20.4,20.6,19.8,18.1,16.3,15.2,14.4,13.6,12.8,12.4,12.0,11.8,11.6,11.4,11.8,14.1,17.3,19.3,21.0],\"type\":\"scatter\",\"xaxis\":\"x\",\"yaxis\":\"y\"},{\"line\":{\"width\":2},\"marker\":{\"size\":5},\"mode\":\"lines+markers\",\"name\":\"temperature_2m_icon_d2\",\"showlegend\":false,\"x\":[\"2023-08-09T14:00:00+02:00\",\"2023-08-09T15:00:00+02:00\",\"2023-08-09T16:00:00+02:00\",\"2023-08-09T17:00:00+02:00\",\"2023-08-09T18:00:00+02:00\",\"2023-08-09T19:00:00+02:00\",\"2023-08-09T20:00:00+02:00\",\"2023-08-09T21:00:00+02:00\",\"2023-08-09T22:00:00+02:00\",\"2023-08-09T23:00:00+02:00\",\"2023-08-10T00:00:00+02:00\",\"2023-08-10T01:00:00+02:00\",\"2023-08-10T02:00:00+02:00\",\"2023-08-10T03:00:00+02:00\",\"2023-08-10T04:00:00+02:00\",\"2023-08-10T05:00:00+02:00\",\"2023-08-10T06:00:00+02:00\",\"2023-08-10T07:00:00+02:00\",\"2023-08-10T08:00:00+02:00\",\"2023-08-10T09:00:00+02:00\",\"2023-08-10T10:00:00+02:00\",\"2023-08-10T11:00:00+02:00\",\"2023-08-10T12:00:00+02:00\",\"2023-08-10T13:00:00+02:00\",\"2023-08-10T14:00:00+02:00\",\"2023-08-10T15:00:00+02:00\",\"2023-08-10T16:00:00+02:00\",\"2023-08-10T17:00:00+02:00\",\"2023-08-10T18:00:00+02:00\",\"2023-08-10T19:00:00+02:00\",\"2023-08-10T20:00:00+02:00\",\"2023-08-10T21:00:00+02:00\",\"2023-08-10T22:00:00+02:00\",\"2023-08-10T23:00:00+02:00\",\"2023-08-11T00:00:00+02:00\",\"2023-08-11T01:00:00+02:00\",\"2023-08-11T02:00:00+02:00\",\"2023-08-11T03:00:00+02:00\",\"2023-08-11T04:00:00+02:00\",\"2023-08-11T05:00:00+02:00\",\"2023-08-11T06:00:00+02:00\",\"2023-08-11T07:00:00+02:00\",\"2023-08-11T08:00:00+02:00\",\"2023-08-11T09:00:00+02:00\",\"2023-08-11T10:00:00+02:00\",\"2023-08-11T11:00:00+02:00\"],\"y\":[15.3,16.2,16.6,16.7,15.8,15.5,15.2,14.8,14.5,14.3,14.0,13.8,13.8,13.7,13.4,13.3,13.0,13.4,14.6,15.9,17.0,17.9,18.5,19.4,20.1,20.3,20.8,20.8,20.3,19.8,17.7,15.3,13.9,12.9,11.8,11.1,11.3,12.6,12.8,12.5,12.0,11.6,12.6,16.2,19.1,20.9],\"type\":\"scatter\",\"xaxis\":\"x\",\"yaxis\":\"y\"},{\"marker\":{\"color\":\"rgb(26, 118, 255)\"},\"name\":\"precipitation_icon_global\",\"opacity\":0.6,\"showlegend\":false,\"x\":[\"2023-08-09T14:00:00+02:00\",\"2023-08-09T15:00:00+02:00\",\"2023-08-09T16:00:00+02:00\",\"2023-08-09T17:00:00+02:00\",\"2023-08-09T18:00:00+02:00\",\"2023-08-09T19:00:00+02:00\",\"2023-08-09T20:00:00+02:00\",\"2023-08-09T21:00:00+02:00\",\"2023-08-09T22:00:00+02:00\",\"2023-08-09T23:00:00+02:00\",\"2023-08-10T00:00:00+02:00\",\"2023-08-10T01:00:00+02:00\",\"2023-08-10T02:00:00+02:00\",\"2023-08-10T03:00:00+02:00\",\"2023-08-10T04:00:00+02:00\",\"2023-08-10T05:00:00+02:00\",\"2023-08-10T06:00:00+02:00\",\"2023-08-10T07:00:00+02:00\",\"2023-08-10T08:00:00+02:00\",\"2023-08-10T09:00:00+02:00\",\"2023-08-10T10:00:00+02:00\",\"2023-08-10T11:00:00+02:00\",\"2023-08-10T12:00:00+02:00\",\"2023-08-10T13:00:00+02:00\",\"2023-08-10T14:00:00+02:00\",\"2023-08-10T15:00:00+02:00\",\"2023-08-10T16:00:00+02:00\",\"2023-08-10T17:00:00+02:00\",\"2023-08-10T18:00:00+02:00\",\"2023-08-10T19:00:00+02:00\",\"2023-08-10T20:00:00+02:00\",\"2023-08-10T21:00:00+02:00\",\"2023-08-10T22:00:00+02:00\",\"2023-08-10T23:00:00+02:00\",\"2023-08-11T00:00:00+02:00\",\"2023-08-11T01:00:00+02:00\",\"2023-08-11T02:00:00+02:00\",\"2023-08-11T03:00:00+02:00\",\"2023-08-11T04:00:00+02:00\",\"2023-08-11T05:00:00+02:00\",\"2023-08-11T06:00:00+02:00\",\"2023-08-11T07:00:00+02:00\",\"2023-08-11T08:00:00+02:00\",\"2023-08-11T09:00:00+02:00\",\"2023-08-11T10:00:00+02:00\",\"2023-08-11T11:00:00+02:00\"],\"y\":[2.4,2.4,2.2,1.1,0.6,0.8,1.4,3.4,2.5,1.7,1.0,0.6,0.0,0.0,0.3,0.0,0.0,0.0,0.0,0.0,0.1,0.0,0.0,0.0,0.0,0.0,0.0,0.0,0.0,0.0,0.0,0.0,0.0,0.0,0.0,0.0,0.0,0.0,0.0,0.0,0.0,0.0,0.0,0.0,0.0,0.0],\"type\":\"bar\",\"xaxis\":\"x2\",\"yaxis\":\"y2\"},{\"marker\":{\"color\":\"rgb(26, 118, 255)\"},\"name\":\"precipitation_icon_eu\",\"opacity\":0.6,\"showlegend\":false,\"x\":[\"2023-08-09T14:00:00+02:00\",\"2023-08-09T15:00:00+02:00\",\"2023-08-09T16:00:00+02:00\",\"2023-08-09T17:00:00+02:00\",\"2023-08-09T18:00:00+02:00\",\"2023-08-09T19:00:00+02:00\",\"2023-08-09T20:00:00+02:00\",\"2023-08-09T21:00:00+02:00\",\"2023-08-09T22:00:00+02:00\",\"2023-08-09T23:00:00+02:00\",\"2023-08-10T00:00:00+02:00\",\"2023-08-10T01:00:00+02:00\",\"2023-08-10T02:00:00+02:00\",\"2023-08-10T03:00:00+02:00\",\"2023-08-10T04:00:00+02:00\",\"2023-08-10T05:00:00+02:00\",\"2023-08-10T06:00:00+02:00\",\"2023-08-10T07:00:00+02:00\",\"2023-08-10T08:00:00+02:00\",\"2023-08-10T09:00:00+02:00\",\"2023-08-10T10:00:00+02:00\",\"2023-08-10T11:00:00+02:00\",\"2023-08-10T12:00:00+02:00\",\"2023-08-10T13:00:00+02:00\",\"2023-08-10T14:00:00+02:00\",\"2023-08-10T15:00:00+02:00\",\"2023-08-10T16:00:00+02:00\",\"2023-08-10T17:00:00+02:00\",\"2023-08-10T18:00:00+02:00\",\"2023-08-10T19:00:00+02:00\",\"2023-08-10T20:00:00+02:00\",\"2023-08-10T21:00:00+02:00\",\"2023-08-10T22:00:00+02:00\",\"2023-08-10T23:00:00+02:00\",\"2023-08-11T00:00:00+02:00\",\"2023-08-11T01:00:00+02:00\",\"2023-08-11T02:00:00+02:00\",\"2023-08-11T03:00:00+02:00\",\"2023-08-11T04:00:00+02:00\",\"2023-08-11T05:00:00+02:00\",\"2023-08-11T06:00:00+02:00\",\"2023-08-11T07:00:00+02:00\",\"2023-08-11T08:00:00+02:00\",\"2023-08-11T09:00:00+02:00\",\"2023-08-11T10:00:00+02:00\",\"2023-08-11T11:00:00+02:00\"],\"y\":[2.5,3.3,2.2,0.6,1.7,2.1,2.0,2.4,1.2,0.8,0.0,0.0,0.1,0.9,0.2,0.0,0.2,0.4,0.0,0.0,0.0,0.0,0.0,0.0,0.0,0.0,0.0,0.0,0.0,0.0,0.0,0.0,0.0,0.0,0.0,0.0,0.0,0.0,0.0,0.0,0.0,0.0,0.0,0.0,0.0,0.0],\"type\":\"bar\",\"xaxis\":\"x2\",\"yaxis\":\"y2\"},{\"marker\":{\"color\":\"rgb(26, 118, 255)\"},\"name\":\"precipitation_icon_d2\",\"opacity\":0.6,\"showlegend\":false,\"x\":[\"2023-08-09T14:00:00+02:00\",\"2023-08-09T15:00:00+02:00\",\"2023-08-09T16:00:00+02:00\",\"2023-08-09T17:00:00+02:00\",\"2023-08-09T18:00:00+02:00\",\"2023-08-09T19:00:00+02:00\",\"2023-08-09T20:00:00+02:00\",\"2023-08-09T21:00:00+02:00\",\"2023-08-09T22:00:00+02:00\",\"2023-08-09T23:00:00+02:00\",\"2023-08-10T00:00:00+02:00\",\"2023-08-10T01:00:00+02:00\",\"2023-08-10T02:00:00+02:00\",\"2023-08-10T03:00:00+02:00\",\"2023-08-10T04:00:00+02:00\",\"2023-08-10T05:00:00+02:00\",\"2023-08-10T06:00:00+02:00\",\"2023-08-10T07:00:00+02:00\",\"2023-08-10T08:00:00+02:00\",\"2023-08-10T09:00:00+02:00\",\"2023-08-10T10:00:00+02:00\",\"2023-08-10T11:00:00+02:00\",\"2023-08-10T12:00:00+02:00\",\"2023-08-10T13:00:00+02:00\",\"2023-08-10T14:00:00+02:00\",\"2023-08-10T15:00:00+02:00\",\"2023-08-10T16:00:00+02:00\",\"2023-08-10T17:00:00+02:00\",\"2023-08-10T18:00:00+02:00\",\"2023-08-10T19:00:00+02:00\",\"2023-08-10T20:00:00+02:00\",\"2023-08-10T21:00:00+02:00\",\"2023-08-10T22:00:00+02:00\",\"2023-08-10T23:00:00+02:00\",\"2023-08-11T00:00:00+02:00\",\"2023-08-11T01:00:00+02:00\",\"2023-08-11T02:00:00+02:00\",\"2023-08-11T03:00:00+02:00\",\"2023-08-11T04:00:00+02:00\",\"2023-08-11T05:00:00+02:00\",\"2023-08-11T06:00:00+02:00\",\"2023-08-11T07:00:00+02:00\",\"2023-08-11T08:00:00+02:00\",\"2023-08-11T09:00:00+02:00\",\"2023-08-11T10:00:00+02:00\",\"2023-08-11T11:00:00+02:00\"],\"y\":[2.4,0.1,0.3,0.1,0.4,0.4,0.4,1.0,0.1,0.0,0.0,0.0,0.1,0.1,0.0,0.0,0.0,0.0,0.0,0.0,0.0,0.0,0.0,0.0,0.0,0.0,0.0,0.0,0.0,0.0,0.0,0.0,0.0,0.0,0.0,0.0,0.0,0.0,0.0,0.0,0.0,0.0,0.0,0.0,0.0,0.0],\"type\":\"bar\",\"xaxis\":\"x2\",\"yaxis\":\"y2\"},{\"line\":{\"width\":2},\"marker\":{\"size\":5},\"mode\":\"lines+markers\",\"name\":\"windspeed_10m_icon_global\",\"showlegend\":false,\"x\":[\"2023-08-09T14:00:00+02:00\",\"2023-08-09T15:00:00+02:00\",\"2023-08-09T16:00:00+02:00\",\"2023-08-09T17:00:00+02:00\",\"2023-08-09T18:00:00+02:00\",\"2023-08-09T19:00:00+02:00\",\"2023-08-09T20:00:00+02:00\",\"2023-08-09T21:00:00+02:00\",\"2023-08-09T22:00:00+02:00\",\"2023-08-09T23:00:00+02:00\",\"2023-08-10T00:00:00+02:00\",\"2023-08-10T01:00:00+02:00\",\"2023-08-10T02:00:00+02:00\",\"2023-08-10T03:00:00+02:00\",\"2023-08-10T04:00:00+02:00\",\"2023-08-10T05:00:00+02:00\",\"2023-08-10T06:00:00+02:00\",\"2023-08-10T07:00:00+02:00\",\"2023-08-10T08:00:00+02:00\",\"2023-08-10T09:00:00+02:00\",\"2023-08-10T10:00:00+02:00\",\"2023-08-10T11:00:00+02:00\",\"2023-08-10T12:00:00+02:00\",\"2023-08-10T13:00:00+02:00\",\"2023-08-10T14:00:00+02:00\",\"2023-08-10T15:00:00+02:00\",\"2023-08-10T16:00:00+02:00\",\"2023-08-10T17:00:00+02:00\",\"2023-08-10T18:00:00+02:00\",\"2023-08-10T19:00:00+02:00\",\"2023-08-10T20:00:00+02:00\",\"2023-08-10T21:00:00+02:00\",\"2023-08-10T22:00:00+02:00\",\"2023-08-10T23:00:00+02:00\",\"2023-08-11T00:00:00+02:00\",\"2023-08-11T01:00:00+02:00\",\"2023-08-11T02:00:00+02:00\",\"2023-08-11T03:00:00+02:00\",\"2023-08-11T04:00:00+02:00\",\"2023-08-11T05:00:00+02:00\",\"2023-08-11T06:00:00+02:00\",\"2023-08-11T07:00:00+02:00\",\"2023-08-11T08:00:00+02:00\",\"2023-08-11T09:00:00+02:00\",\"2023-08-11T10:00:00+02:00\",\"2023-08-11T11:00:00+02:00\"],\"y\":[7.2,7.9,7.1,7.3,6.1,6.2,6.2,5.9,4.3,3.5,3.6,4.0,4.1,2.1,3.6,4.1,1.9,3.0,0.4,2.9,5.2,5.4,7.2,8.3,7.1,7.4,6.7,6.1,4.3,3.4,3.4,3.7,3.0,2.9,3.6,3.4,3.6,3.6,4.0,3.8,4.1,3.8,2.4,2.2,2.5,2.9],\"type\":\"scatter\",\"xaxis\":\"x3\",\"yaxis\":\"y3\"},{\"line\":{\"width\":2},\"marker\":{\"size\":5},\"mode\":\"lines+markers\",\"name\":\"windspeed_10m_icon_eu\",\"showlegend\":false,\"x\":[\"2023-08-09T14:00:00+02:00\",\"2023-08-09T15:00:00+02:00\",\"2023-08-09T16:00:00+02:00\",\"2023-08-09T17:00:00+02:00\",\"2023-08-09T18:00:00+02:00\",\"2023-08-09T19:00:00+02:00\",\"2023-08-09T20:00:00+02:00\",\"2023-08-09T21:00:00+02:00\",\"2023-08-09T22:00:00+02:00\",\"2023-08-09T23:00:00+02:00\",\"2023-08-10T00:00:00+02:00\",\"2023-08-10T01:00:00+02:00\",\"2023-08-10T02:00:00+02:00\",\"2023-08-10T03:00:00+02:00\",\"2023-08-10T04:00:00+02:00\",\"2023-08-10T05:00:00+02:00\",\"2023-08-10T06:00:00+02:00\",\"2023-08-10T07:00:00+02:00\",\"2023-08-10T08:00:00+02:00\",\"2023-08-10T09:00:00+02:00\",\"2023-08-10T10:00:00+02:00\",\"2023-08-10T11:00:00+02:00\",\"2023-08-10T12:00:00+02:00\",\"2023-08-10T13:00:00+02:00\",\"2023-08-10T14:00:00+02:00\",\"2023-08-10T15:00:00+02:00\",\"2023-08-10T16:00:00+02:00\",\"2023-08-10T17:00:00+02:00\",\"2023-08-10T18:00:00+02:00\",\"2023-08-10T19:00:00+02:00\",\"2023-08-10T20:00:00+02:00\",\"2023-08-10T21:00:00+02:00\",\"2023-08-10T22:00:00+02:00\",\"2023-08-10T23:00:00+02:00\",\"2023-08-11T00:00:00+02:00\",\"2023-08-11T01:00:00+02:00\",\"2023-08-11T02:00:00+02:00\",\"2023-08-11T03:00:00+02:00\",\"2023-08-11T04:00:00+02:00\",\"2023-08-11T05:00:00+02:00\",\"2023-08-11T06:00:00+02:00\",\"2023-08-11T07:00:00+02:00\",\"2023-08-11T08:00:00+02:00\",\"2023-08-11T09:00:00+02:00\",\"2023-08-11T10:00:00+02:00\",\"2023-08-11T11:00:00+02:00\"],\"y\":[9.0,9.6,8.4,8.9,8.6,8.6,7.9,6.5,5.1,3.9,3.9,4.8,2.8,2.3,4.3,2.4,3.3,3.4,2.6,3.6,3.1,5.5,6.9,7.3,7.0,6.6,6.2,6.1,5.1,3.7,4.8,4.8,4.3,4.0,4.3,4.0,3.7,3.6,3.6,3.6,3.9,3.3,2.3,1.6,1.9,3.1],\"type\":\"scatter\",\"xaxis\":\"x3\",\"yaxis\":\"y3\"},{\"line\":{\"width\":2},\"marker\":{\"size\":5},\"mode\":\"lines+markers\",\"name\":\"windspeed_10m_icon_d2\",\"showlegend\":false,\"x\":[\"2023-08-09T14:00:00+02:00\",\"2023-08-09T15:00:00+02:00\",\"2023-08-09T16:00:00+02:00\",\"2023-08-09T17:00:00+02:00\",\"2023-08-09T18:00:00+02:00\",\"2023-08-09T19:00:00+02:00\",\"2023-08-09T20:00:00+02:00\",\"2023-08-09T21:00:00+02:00\",\"2023-08-09T22:00:00+02:00\",\"2023-08-09T23:00:00+02:00\",\"2023-08-10T00:00:00+02:00\",\"2023-08-10T01:00:00+02:00\",\"2023-08-10T02:00:00+02:00\",\"2023-08-10T03:00:00+02:00\",\"2023-08-10T04:00:00+02:00\",\"2023-08-10T05:00:00+02:00\",\"2023-08-10T06:00:00+02:00\",\"2023-08-10T07:00:00+02:00\",\"2023-08-10T08:00:00+02:00\",\"2023-08-10T09:00:00+02:00\",\"2023-08-10T10:00:00+02:00\",\"2023-08-10T11:00:00+02:00\",\"2023-08-10T12:00:00+02:00\",\"2023-08-10T13:00:00+02:00\",\"2023-08-10T14:00:00+02:00\",\"2023-08-10T15:00:00+02:00\",\"2023-08-10T16:00:00+02:00\",\"2023-08-10T17:00:00+02:00\",\"2023-08-10T18:00:00+02:00\",\"2023-08-10T19:00:00+02:00\",\"2023-08-10T20:00:00+02:00\",\"2023-08-10T21:00:00+02:00\",\"2023-08-10T22:00:00+02:00\",\"2023-08-10T23:00:00+02:00\",\"2023-08-11T00:00:00+02:00\",\"2023-08-11T01:00:00+02:00\",\"2023-08-11T02:00:00+02:00\",\"2023-08-11T03:00:00+02:00\",\"2023-08-11T04:00:00+02:00\",\"2023-08-11T05:00:00+02:00\",\"2023-08-11T06:00:00+02:00\",\"2023-08-11T07:00:00+02:00\",\"2023-08-11T08:00:00+02:00\",\"2023-08-11T09:00:00+02:00\",\"2023-08-11T10:00:00+02:00\",\"2023-08-11T11:00:00+02:00\"],\"y\":[12.6,13.8,14.7,10.7,7.3,8.6,6.0,6.1,8.9,7.1,4.9,4.6,4.2,4.0,3.3,4.3,3.7,0.7,0.4,4.1,2.1,6.6,6.1,6.3,6.6,7.4,8.0,5.6,4.3,3.6,4.2,5.0,4.0,3.3,2.2,2.3,2.2,2.2,1.9,2.2,1.4,0.4,1.0,1.6,3.2,2.2],\"type\":\"scatter\",\"xaxis\":\"x3\",\"yaxis\":\"y3\"},{\"line\":{\"width\":2},\"marker\":{\"size\":5},\"mode\":\"markers\",\"name\":\"cloudcover_icon_global\",\"showlegend\":false,\"x\":[\"2023-08-09T14:00:00+02:00\",\"2023-08-09T15:00:00+02:00\",\"2023-08-09T16:00:00+02:00\",\"2023-08-09T17:00:00+02:00\",\"2023-08-09T18:00:00+02:00\",\"2023-08-09T19:00:00+02:00\",\"2023-08-09T20:00:00+02:00\",\"2023-08-09T21:00:00+02:00\",\"2023-08-09T22:00:00+02:00\",\"2023-08-09T23:00:00+02:00\",\"2023-08-10T00:00:00+02:00\",\"2023-08-10T01:00:00+02:00\",\"2023-08-10T02:00:00+02:00\",\"2023-08-10T03:00:00+02:00\",\"2023-08-10T04:00:00+02:00\",\"2023-08-10T05:00:00+02:00\",\"2023-08-10T06:00:00+02:00\",\"2023-08-10T07:00:00+02:00\",\"2023-08-10T08:00:00+02:00\",\"2023-08-10T09:00:00+02:00\",\"2023-08-10T10:00:00+02:00\",\"2023-08-10T11:00:00+02:00\",\"2023-08-10T12:00:00+02:00\",\"2023-08-10T13:00:00+02:00\",\"2023-08-10T14:00:00+02:00\",\"2023-08-10T15:00:00+02:00\",\"2023-08-10T16:00:00+02:00\",\"2023-08-10T17:00:00+02:00\",\"2023-08-10T18:00:00+02:00\",\"2023-08-10T19:00:00+02:00\",\"2023-08-10T20:00:00+02:00\",\"2023-08-10T21:00:00+02:00\",\"2023-08-10T22:00:00+02:00\",\"2023-08-10T23:00:00+02:00\",\"2023-08-11T00:00:00+02:00\",\"2023-08-11T01:00:00+02:00\",\"2023-08-11T02:00:00+02:00\",\"2023-08-11T03:00:00+02:00\",\"2023-08-11T04:00:00+02:00\",\"2023-08-11T05:00:00+02:00\",\"2023-08-11T06:00:00+02:00\",\"2023-08-11T07:00:00+02:00\",\"2023-08-11T08:00:00+02:00\",\"2023-08-11T09:00:00+02:00\",\"2023-08-11T10:00:00+02:00\",\"2023-08-11T11:00:00+02:00\"],\"y\":[100,100,100,100,100,100,100,96,92,93,90,88,81,84,97,95,96,70,83,86,80,81,82,82,71,61,71,70,62,56,56,34,10,0,36,50,49,41,26,0,23,24,0,0,0,0],\"type\":\"scatter\",\"xaxis\":\"x4\",\"yaxis\":\"y4\"},{\"line\":{\"width\":2},\"marker\":{\"size\":5},\"mode\":\"markers\",\"name\":\"cloudcover_icon_eu\",\"showlegend\":false,\"x\":[\"2023-08-09T14:00:00+02:00\",\"2023-08-09T15:00:00+02:00\",\"2023-08-09T16:00:00+02:00\",\"2023-08-09T17:00:00+02:00\",\"2023-08-09T18:00:00+02:00\",\"2023-08-09T19:00:00+02:00\",\"2023-08-09T20:00:00+02:00\",\"2023-08-09T21:00:00+02:00\",\"2023-08-09T22:00:00+02:00\",\"2023-08-09T23:00:00+02:00\",\"2023-08-10T00:00:00+02:00\",\"2023-08-10T01:00:00+02:00\",\"2023-08-10T02:00:00+02:00\",\"2023-08-10T03:00:00+02:00\",\"2023-08-10T04:00:00+02:00\",\"2023-08-10T05:00:00+02:00\",\"2023-08-10T06:00:00+02:00\",\"2023-08-10T07:00:00+02:00\",\"2023-08-10T08:00:00+02:00\",\"2023-08-10T09:00:00+02:00\",\"2023-08-10T10:00:00+02:00\",\"2023-08-10T11:00:00+02:00\",\"2023-08-10T12:00:00+02:00\",\"2023-08-10T13:00:00+02:00\",\"2023-08-10T14:00:00+02:00\",\"2023-08-10T15:00:00+02:00\",\"2023-08-10T16:00:00+02:00\",\"2023-08-10T17:00:00+02:00\",\"2023-08-10T18:00:00+02:00\",\"2023-08-10T19:00:00+02:00\",\"2023-08-10T20:00:00+02:00\",\"2023-08-10T21:00:00+02:00\",\"2023-08-10T22:00:00+02:00\",\"2023-08-10T23:00:00+02:00\",\"2023-08-11T00:00:00+02:00\",\"2023-08-11T01:00:00+02:00\",\"2023-08-11T02:00:00+02:00\",\"2023-08-11T03:00:00+02:00\",\"2023-08-11T04:00:00+02:00\",\"2023-08-11T05:00:00+02:00\",\"2023-08-11T06:00:00+02:00\",\"2023-08-11T07:00:00+02:00\",\"2023-08-11T08:00:00+02:00\",\"2023-08-11T09:00:00+02:00\",\"2023-08-11T10:00:00+02:00\",\"2023-08-11T11:00:00+02:00\"],\"y\":[100.0,100.0,95.0,94.0,100.0,100.0,100.0,97.0,89.0,84.0,85.0,90.0,99.0,95.0,96.0,93.0,93.0,90.0,82.0,70.0,53.0,60.0,51.0,57.0,49.0,60.0,44.0,53.0,55.0,52.0,51.0,23.0,1.0,0.0,0.0,0.0,0.0,10.0,11.0,12.0,15.0,14.0,10.0,0.0,0.0,3.0],\"type\":\"scatter\",\"xaxis\":\"x4\",\"yaxis\":\"y4\"},{\"line\":{\"width\":2},\"marker\":{\"size\":5},\"mode\":\"markers\",\"name\":\"cloudcover_icon_d2\",\"showlegend\":false,\"x\":[\"2023-08-09T14:00:00+02:00\",\"2023-08-09T15:00:00+02:00\",\"2023-08-09T16:00:00+02:00\",\"2023-08-09T17:00:00+02:00\",\"2023-08-09T18:00:00+02:00\",\"2023-08-09T19:00:00+02:00\",\"2023-08-09T20:00:00+02:00\",\"2023-08-09T21:00:00+02:00\",\"2023-08-09T22:00:00+02:00\",\"2023-08-09T23:00:00+02:00\",\"2023-08-10T00:00:00+02:00\",\"2023-08-10T01:00:00+02:00\",\"2023-08-10T02:00:00+02:00\",\"2023-08-10T03:00:00+02:00\",\"2023-08-10T04:00:00+02:00\",\"2023-08-10T05:00:00+02:00\",\"2023-08-10T06:00:00+02:00\",\"2023-08-10T07:00:00+02:00\",\"2023-08-10T08:00:00+02:00\",\"2023-08-10T09:00:00+02:00\",\"2023-08-10T10:00:00+02:00\",\"2023-08-10T11:00:00+02:00\",\"2023-08-10T12:00:00+02:00\",\"2023-08-10T13:00:00+02:00\",\"2023-08-10T14:00:00+02:00\",\"2023-08-10T15:00:00+02:00\",\"2023-08-10T16:00:00+02:00\",\"2023-08-10T17:00:00+02:00\",\"2023-08-10T18:00:00+02:00\",\"2023-08-10T19:00:00+02:00\",\"2023-08-10T20:00:00+02:00\",\"2023-08-10T21:00:00+02:00\",\"2023-08-10T22:00:00+02:00\",\"2023-08-10T23:00:00+02:00\",\"2023-08-11T00:00:00+02:00\",\"2023-08-11T01:00:00+02:00\",\"2023-08-11T02:00:00+02:00\",\"2023-08-11T03:00:00+02:00\",\"2023-08-11T04:00:00+02:00\",\"2023-08-11T05:00:00+02:00\",\"2023-08-11T06:00:00+02:00\",\"2023-08-11T07:00:00+02:00\",\"2023-08-11T08:00:00+02:00\",\"2023-08-11T09:00:00+02:00\",\"2023-08-11T10:00:00+02:00\",\"2023-08-11T11:00:00+02:00\"],\"y\":[100.0,100.0,100.0,100.0,100.0,100.0,100.0,95.0,86.0,73.0,98.0,97.0,94.0,93.0,98.0,94.0,80.0,92.0,91.0,97.0,79.0,90.0,82.0,63.0,42.0,43.0,45.0,81.0,31.0,23.0,17.0,0.0,0.0,0.0,37.0,69.0,0.0,0.0,0.0,0.0,0.0,0.0,50.0,0.0,0.0,0.0],\"type\":\"scatter\",\"xaxis\":\"x4\",\"yaxis\":\"y4\"}],                        {\"template\":{\"data\":{\"barpolar\":[{\"marker\":{\"line\":{\"color\":\"white\",\"width\":0.5},\"pattern\":{\"fillmode\":\"overlay\",\"size\":10,\"solidity\":0.2}},\"type\":\"barpolar\"}],\"bar\":[{\"error_x\":{\"color\":\"#2a3f5f\"},\"error_y\":{\"color\":\"#2a3f5f\"},\"marker\":{\"line\":{\"color\":\"white\",\"width\":0.5},\"pattern\":{\"fillmode\":\"overlay\",\"size\":10,\"solidity\":0.2}},\"type\":\"bar\"}],\"carpet\":[{\"aaxis\":{\"endlinecolor\":\"#2a3f5f\",\"gridcolor\":\"#C8D4E3\",\"linecolor\":\"#C8D4E3\",\"minorgridcolor\":\"#C8D4E3\",\"startlinecolor\":\"#2a3f5f\"},\"baxis\":{\"endlinecolor\":\"#2a3f5f\",\"gridcolor\":\"#C8D4E3\",\"linecolor\":\"#C8D4E3\",\"minorgridcolor\":\"#C8D4E3\",\"startlinecolor\":\"#2a3f5f\"},\"type\":\"carpet\"}],\"choropleth\":[{\"colorbar\":{\"outlinewidth\":0,\"ticks\":\"\"},\"type\":\"choropleth\"}],\"contourcarpet\":[{\"colorbar\":{\"outlinewidth\":0,\"ticks\":\"\"},\"type\":\"contourcarpet\"}],\"contour\":[{\"colorbar\":{\"outlinewidth\":0,\"ticks\":\"\"},\"colorscale\":[[0.0,\"#0d0887\"],[0.1111111111111111,\"#46039f\"],[0.2222222222222222,\"#7201a8\"],[0.3333333333333333,\"#9c179e\"],[0.4444444444444444,\"#bd3786\"],[0.5555555555555556,\"#d8576b\"],[0.6666666666666666,\"#ed7953\"],[0.7777777777777778,\"#fb9f3a\"],[0.8888888888888888,\"#fdca26\"],[1.0,\"#f0f921\"]],\"type\":\"contour\"}],\"heatmapgl\":[{\"colorbar\":{\"outlinewidth\":0,\"ticks\":\"\"},\"colorscale\":[[0.0,\"#0d0887\"],[0.1111111111111111,\"#46039f\"],[0.2222222222222222,\"#7201a8\"],[0.3333333333333333,\"#9c179e\"],[0.4444444444444444,\"#bd3786\"],[0.5555555555555556,\"#d8576b\"],[0.6666666666666666,\"#ed7953\"],[0.7777777777777778,\"#fb9f3a\"],[0.8888888888888888,\"#fdca26\"],[1.0,\"#f0f921\"]],\"type\":\"heatmapgl\"}],\"heatmap\":[{\"colorbar\":{\"outlinewidth\":0,\"ticks\":\"\"},\"colorscale\":[[0.0,\"#0d0887\"],[0.1111111111111111,\"#46039f\"],[0.2222222222222222,\"#7201a8\"],[0.3333333333333333,\"#9c179e\"],[0.4444444444444444,\"#bd3786\"],[0.5555555555555556,\"#d8576b\"],[0.6666666666666666,\"#ed7953\"],[0.7777777777777778,\"#fb9f3a\"],[0.8888888888888888,\"#fdca26\"],[1.0,\"#f0f921\"]],\"type\":\"heatmap\"}],\"histogram2dcontour\":[{\"colorbar\":{\"outlinewidth\":0,\"ticks\":\"\"},\"colorscale\":[[0.0,\"#0d0887\"],[0.1111111111111111,\"#46039f\"],[0.2222222222222222,\"#7201a8\"],[0.3333333333333333,\"#9c179e\"],[0.4444444444444444,\"#bd3786\"],[0.5555555555555556,\"#d8576b\"],[0.6666666666666666,\"#ed7953\"],[0.7777777777777778,\"#fb9f3a\"],[0.8888888888888888,\"#fdca26\"],[1.0,\"#f0f921\"]],\"type\":\"histogram2dcontour\"}],\"histogram2d\":[{\"colorbar\":{\"outlinewidth\":0,\"ticks\":\"\"},\"colorscale\":[[0.0,\"#0d0887\"],[0.1111111111111111,\"#46039f\"],[0.2222222222222222,\"#7201a8\"],[0.3333333333333333,\"#9c179e\"],[0.4444444444444444,\"#bd3786\"],[0.5555555555555556,\"#d8576b\"],[0.6666666666666666,\"#ed7953\"],[0.7777777777777778,\"#fb9f3a\"],[0.8888888888888888,\"#fdca26\"],[1.0,\"#f0f921\"]],\"type\":\"histogram2d\"}],\"histogram\":[{\"marker\":{\"pattern\":{\"fillmode\":\"overlay\",\"size\":10,\"solidity\":0.2}},\"type\":\"histogram\"}],\"mesh3d\":[{\"colorbar\":{\"outlinewidth\":0,\"ticks\":\"\"},\"type\":\"mesh3d\"}],\"parcoords\":[{\"line\":{\"colorbar\":{\"outlinewidth\":0,\"ticks\":\"\"}},\"type\":\"parcoords\"}],\"pie\":[{\"automargin\":true,\"type\":\"pie\"}],\"scatter3d\":[{\"line\":{\"colorbar\":{\"outlinewidth\":0,\"ticks\":\"\"}},\"marker\":{\"colorbar\":{\"outlinewidth\":0,\"ticks\":\"\"}},\"type\":\"scatter3d\"}],\"scattercarpet\":[{\"marker\":{\"colorbar\":{\"outlinewidth\":0,\"ticks\":\"\"}},\"type\":\"scattercarpet\"}],\"scattergeo\":[{\"marker\":{\"colorbar\":{\"outlinewidth\":0,\"ticks\":\"\"}},\"type\":\"scattergeo\"}],\"scattergl\":[{\"marker\":{\"colorbar\":{\"outlinewidth\":0,\"ticks\":\"\"}},\"type\":\"scattergl\"}],\"scattermapbox\":[{\"marker\":{\"colorbar\":{\"outlinewidth\":0,\"ticks\":\"\"}},\"type\":\"scattermapbox\"}],\"scatterpolargl\":[{\"marker\":{\"colorbar\":{\"outlinewidth\":0,\"ticks\":\"\"}},\"type\":\"scatterpolargl\"}],\"scatterpolar\":[{\"marker\":{\"colorbar\":{\"outlinewidth\":0,\"ticks\":\"\"}},\"type\":\"scatterpolar\"}],\"scatter\":[{\"fillpattern\":{\"fillmode\":\"overlay\",\"size\":10,\"solidity\":0.2},\"type\":\"scatter\"}],\"scatterternary\":[{\"marker\":{\"colorbar\":{\"outlinewidth\":0,\"ticks\":\"\"}},\"type\":\"scatterternary\"}],\"surface\":[{\"colorbar\":{\"outlinewidth\":0,\"ticks\":\"\"},\"colorscale\":[[0.0,\"#0d0887\"],[0.1111111111111111,\"#46039f\"],[0.2222222222222222,\"#7201a8\"],[0.3333333333333333,\"#9c179e\"],[0.4444444444444444,\"#bd3786\"],[0.5555555555555556,\"#d8576b\"],[0.6666666666666666,\"#ed7953\"],[0.7777777777777778,\"#fb9f3a\"],[0.8888888888888888,\"#fdca26\"],[1.0,\"#f0f921\"]],\"type\":\"surface\"}],\"table\":[{\"cells\":{\"fill\":{\"color\":\"#EBF0F8\"},\"line\":{\"color\":\"white\"}},\"header\":{\"fill\":{\"color\":\"#C8D4E3\"},\"line\":{\"color\":\"white\"}},\"type\":\"table\"}]},\"layout\":{\"annotationdefaults\":{\"arrowcolor\":\"#2a3f5f\",\"arrowhead\":0,\"arrowwidth\":1},\"autotypenumbers\":\"strict\",\"coloraxis\":{\"colorbar\":{\"outlinewidth\":0,\"ticks\":\"\"}},\"colorscale\":{\"diverging\":[[0,\"#8e0152\"],[0.1,\"#c51b7d\"],[0.2,\"#de77ae\"],[0.3,\"#f1b6da\"],[0.4,\"#fde0ef\"],[0.5,\"#f7f7f7\"],[0.6,\"#e6f5d0\"],[0.7,\"#b8e186\"],[0.8,\"#7fbc41\"],[0.9,\"#4d9221\"],[1,\"#276419\"]],\"sequential\":[[0.0,\"#0d0887\"],[0.1111111111111111,\"#46039f\"],[0.2222222222222222,\"#7201a8\"],[0.3333333333333333,\"#9c179e\"],[0.4444444444444444,\"#bd3786\"],[0.5555555555555556,\"#d8576b\"],[0.6666666666666666,\"#ed7953\"],[0.7777777777777778,\"#fb9f3a\"],[0.8888888888888888,\"#fdca26\"],[1.0,\"#f0f921\"]],\"sequentialminus\":[[0.0,\"#0d0887\"],[0.1111111111111111,\"#46039f\"],[0.2222222222222222,\"#7201a8\"],[0.3333333333333333,\"#9c179e\"],[0.4444444444444444,\"#bd3786\"],[0.5555555555555556,\"#d8576b\"],[0.6666666666666666,\"#ed7953\"],[0.7777777777777778,\"#fb9f3a\"],[0.8888888888888888,\"#fdca26\"],[1.0,\"#f0f921\"]]},\"colorway\":[\"#636efa\",\"#EF553B\",\"#00cc96\",\"#ab63fa\",\"#FFA15A\",\"#19d3f3\",\"#FF6692\",\"#B6E880\",\"#FF97FF\",\"#FECB52\"],\"font\":{\"color\":\"#2a3f5f\"},\"geo\":{\"bgcolor\":\"white\",\"lakecolor\":\"white\",\"landcolor\":\"white\",\"showlakes\":true,\"showland\":true,\"subunitcolor\":\"#C8D4E3\"},\"hoverlabel\":{\"align\":\"left\"},\"hovermode\":\"closest\",\"mapbox\":{\"style\":\"light\"},\"paper_bgcolor\":\"white\",\"plot_bgcolor\":\"white\",\"polar\":{\"angularaxis\":{\"gridcolor\":\"#EBF0F8\",\"linecolor\":\"#EBF0F8\",\"ticks\":\"\"},\"bgcolor\":\"white\",\"radialaxis\":{\"gridcolor\":\"#EBF0F8\",\"linecolor\":\"#EBF0F8\",\"ticks\":\"\"}},\"scene\":{\"xaxis\":{\"backgroundcolor\":\"white\",\"gridcolor\":\"#DFE8F3\",\"gridwidth\":2,\"linecolor\":\"#EBF0F8\",\"showbackground\":true,\"ticks\":\"\",\"zerolinecolor\":\"#EBF0F8\"},\"yaxis\":{\"backgroundcolor\":\"white\",\"gridcolor\":\"#DFE8F3\",\"gridwidth\":2,\"linecolor\":\"#EBF0F8\",\"showbackground\":true,\"ticks\":\"\",\"zerolinecolor\":\"#EBF0F8\"},\"zaxis\":{\"backgroundcolor\":\"white\",\"gridcolor\":\"#DFE8F3\",\"gridwidth\":2,\"linecolor\":\"#EBF0F8\",\"showbackground\":true,\"ticks\":\"\",\"zerolinecolor\":\"#EBF0F8\"}},\"shapedefaults\":{\"line\":{\"color\":\"#2a3f5f\"}},\"ternary\":{\"aaxis\":{\"gridcolor\":\"#DFE8F3\",\"linecolor\":\"#A2B1C6\",\"ticks\":\"\"},\"baxis\":{\"gridcolor\":\"#DFE8F3\",\"linecolor\":\"#A2B1C6\",\"ticks\":\"\"},\"bgcolor\":\"white\",\"caxis\":{\"gridcolor\":\"#DFE8F3\",\"linecolor\":\"#A2B1C6\",\"ticks\":\"\"}},\"title\":{\"x\":0.05},\"xaxis\":{\"automargin\":true,\"gridcolor\":\"#EBF0F8\",\"linecolor\":\"#EBF0F8\",\"ticks\":\"\",\"title\":{\"standoff\":15},\"zerolinecolor\":\"#EBF0F8\",\"zerolinewidth\":2},\"yaxis\":{\"automargin\":true,\"gridcolor\":\"#EBF0F8\",\"linecolor\":\"#EBF0F8\",\"ticks\":\"\",\"title\":{\"standoff\":15},\"zerolinecolor\":\"#EBF0F8\",\"zerolinewidth\":2}}},\"xaxis\":{\"anchor\":\"y\",\"domain\":[0.0,1.0],\"matches\":\"x4\",\"showticklabels\":false,\"showgrid\":true,\"range\":[\"2023-08-09T14:00:00+02:00\",\"2023-08-11T11:00:00+02:00\"],\"minor\":{\"ticks\":\"inside\",\"showgrid\":true,\"gridwidth\":3},\"gridwidth\":4},\"yaxis\":{\"anchor\":\"x\",\"domain\":[0.7166666666666667,1.0],\"showgrid\":true,\"title\":{\"text\":\"2m Temp [\\u00b0C]\"},\"gridwidth\":4},\"xaxis2\":{\"anchor\":\"y2\",\"domain\":[0.0,1.0],\"matches\":\"x4\",\"showticklabels\":false,\"minor\":{\"ticks\":\"inside\",\"showgrid\":true,\"gridwidth\":3},\"showgrid\":true,\"gridwidth\":4},\"yaxis2\":{\"anchor\":\"x2\",\"domain\":[0.43999999999999995,0.6666666666666666],\"title\":{\"text\":\"Prec. [mm]\"},\"showgrid\":true,\"gridwidth\":4},\"xaxis3\":{\"anchor\":\"y3\",\"domain\":[0.0,1.0],\"matches\":\"x4\",\"showticklabels\":false,\"minor\":{\"ticks\":\"inside\",\"showgrid\":true,\"gridwidth\":3},\"showgrid\":true,\"gridwidth\":4},\"yaxis3\":{\"anchor\":\"x3\",\"domain\":[0.21999999999999997,0.38999999999999996],\"title\":{\"text\":\"Wind. [kph]\"},\"showgrid\":true,\"gridwidth\":4},\"xaxis4\":{\"anchor\":\"y4\",\"domain\":[0.0,1.0],\"minor\":{\"ticks\":\"inside\",\"showgrid\":true,\"gridwidth\":3},\"showgrid\":true,\"gridwidth\":4},\"yaxis4\":{\"anchor\":\"x4\",\"domain\":[0.0,0.16999999999999998],\"title\":{\"text\":\"Cloud cover [%]\"},\"showgrid\":true,\"gridwidth\":4},\"margin\":{\"r\":0.1,\"t\":0.1,\"l\":0.1,\"b\":0.1},\"height\":800,\"barmode\":\"overlay\"},                        {\"responsive\": true}                    ).then(function(){\n",
       "                            \n",
       "var gd = document.getElementById('5556d377-ccab-45e2-8fc4-f356826d6e87');\n",
       "var x = new MutationObserver(function (mutations, observer) {{\n",
       "        var display = window.getComputedStyle(gd).display;\n",
       "        if (!display || display === 'none') {{\n",
       "            console.log([gd, 'removed!']);\n",
       "            Plotly.purge(gd);\n",
       "            observer.disconnect();\n",
       "        }}\n",
       "}});\n",
       "\n",
       "// Listen for the removal of the full notebook cells\n",
       "var notebookContainer = gd.closest('#notebook-container');\n",
       "if (notebookContainer) {{\n",
       "    x.observe(notebookContainer, {childList: true});\n",
       "}}\n",
       "\n",
       "// Listen for the clearing of the current output cell\n",
       "var outputEl = gd.closest('.output');\n",
       "if (outputEl) {{\n",
       "    x.observe(outputEl, {childList: true});\n",
       "}}\n",
       "\n",
       "                        })                };                });            </script>        </div>"
      ]
     },
     "metadata": {},
     "output_type": "display_data"
    }
   ],
   "source": [
    "def make_lineplot_timeseries(df, var, mode='lines+markers'):\n",
    "    traces = []\n",
    "    for col in df.columns[df.columns.str.contains(var)]:\n",
    "        # First do the first 48 hrs\n",
    "        traces.append(\n",
    "            go.Scatter(\n",
    "                x=df.loc[:, 'time'],\n",
    "                y=df.loc[:, col],\n",
    "                mode=mode,\n",
    "                name=col,\n",
    "                marker=dict(size=5),\n",
    "                line=dict(width=2),\n",
    "                showlegend=False),\n",
    "        )\n",
    "\n",
    "    return traces\n",
    "\n",
    "\n",
    "def make_barplot_timeseries(df, var):\n",
    "    traces = []\n",
    "    for col in df.columns[df.columns.str.contains(var)]:\n",
    "        traces.append(\n",
    "            go.Bar(\n",
    "                x=df['time'],\n",
    "                y=df[col],\n",
    "                name=col,\n",
    "                opacity=0.6,\n",
    "                marker=dict(color='rgb(26, 118, 255)'),\n",
    "                showlegend=False),\n",
    "        )\n",
    "\n",
    "    return traces\n",
    "\n",
    "def make_subplot_figure(data):\n",
    "    traces_temp = make_lineplot_timeseries(data, 'temperature_2m')\n",
    "    traces_precipitation = make_barplot_timeseries(data, 'precipitation')\n",
    "    traces_wind = make_lineplot_timeseries(data, 'windspeed_10m')\n",
    "    traces_cloud = make_lineplot_timeseries(data, 'cloudcover', mode='markers')\n",
    "\n",
    "    fig = make_subplots(\n",
    "        rows=4,\n",
    "        cols=1,\n",
    "        shared_xaxes=True,\n",
    "        vertical_spacing=0.05,\n",
    "        row_heights=[0.5, 0.4, 0.3, 0.3])\n",
    "\n",
    "    for trace_temp in traces_temp:\n",
    "        fig.add_trace(trace_temp, row=1, col=1)\n",
    "    for trace_precipitation in traces_precipitation:\n",
    "        fig.add_trace(trace_precipitation, row=2, col=1)\n",
    "    for trace_wind in traces_wind:\n",
    "        fig.add_trace(trace_wind, row=3, col=1)\n",
    "    for trace_cloud in traces_cloud:\n",
    "        fig.add_trace(trace_cloud, row=4, col=1)\n",
    "\n",
    "    fig.update_layout(\n",
    "        xaxis=dict(showgrid=True,\n",
    "                   range=[data['time'].min(),\n",
    "                          data['time'].max()]),\n",
    "        yaxis=dict(showgrid=True,),\n",
    "        height=800,\n",
    "        margin={\"r\": 0.1, \"t\": 0.1, \"l\": 0.1, \"b\": 0.1},\n",
    "        template='plotly_white',\n",
    "        barmode='overlay'\n",
    "    )\n",
    "\n",
    "    fig.update_yaxes(title_text=\"2m Temp [°C]\", row=1, col=1)\n",
    "    fig.update_yaxes(title_text=\"Prec. [mm]\", row=2, col=1)\n",
    "    fig.update_yaxes(title_text=\"Wind. [kph]\", row=3, col=1)\n",
    "    fig.update_yaxes(title_text=\"Cloud cover [%]\", row=4, col=1)\n",
    "    fig.update_yaxes(showgrid=True, gridwidth=4)\n",
    "    fig.update_xaxes(minor=dict(ticks=\"inside\", showgrid=True,\n",
    "                     gridwidth=3), showgrid=True, gridwidth=4)\n",
    "\n",
    "    return fig\n",
    "\n",
    "\n",
    "make_subplot_figure(df)"
   ]
  }
 ],
 "metadata": {
  "kernelspec": {
   "display_name": "Python 3",
   "language": "python",
   "name": "python3"
  },
  "language_info": {
   "codemirror_mode": {
    "name": "ipython",
    "version": 3
   },
   "file_extension": ".py",
   "mimetype": "text/x-python",
   "name": "python",
   "nbconvert_exporter": "python",
   "pygments_lexer": "ipython3",
   "version": "3.10.12"
  },
  "orig_nbformat": 4
 },
 "nbformat": 4,
 "nbformat_minor": 2
}
