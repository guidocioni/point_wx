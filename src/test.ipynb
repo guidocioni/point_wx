{
 "cells": [
  {
   "cell_type": "code",
   "execution_count": 1,
   "metadata": {},
   "outputs": [],
   "source": [
    "import pandas as pd\n",
    "import requests as r\n",
    "import plotly.graph_objects as go\n",
    "from plotly.subplots import make_subplots\n",
    "import numpy as np\n",
    "import plotly.express as px\n",
    "from utils.settings import DETERMINISTIC_MODELS, DETERMINISTIC_VARS, ENSEMBLE_VARS, ENSEMBLE_MODELS"
   ]
  },
  {
   "cell_type": "code",
   "execution_count": 3,
   "metadata": {},
   "outputs": [],
   "source": [
    "def get_ensemble_data(latitude=53.55,\n",
    "                      longitude=9.99,\n",
    "                      variables=\",\".join(ENSEMBLE_VARS),\n",
    "                      timezone='auto',\n",
    "                      model=ENSEMBLE_MODELS[0],\n",
    "                      from_now=True):\n",
    "    \"\"\"\n",
    "    Get the ensemble data\n",
    "    \"\"\"\n",
    "    if model == 'icon_seamless':\n",
    "        forecast_days = 7\n",
    "    else:\n",
    "        forecast_days = 14\n",
    "    payload = {\n",
    "        \"latitude\": latitude,\n",
    "        \"longitude\": longitude,\n",
    "        \"hourly\": variables,\n",
    "        \"timezone\": timezone,\n",
    "        \"models\": model,\n",
    "        \"forecast_days\": forecast_days\n",
    "    }\n",
    "\n",
    "    resp = r.get(\"https://ensemble-api.open-meteo.com/v1/ensemble\",\n",
    "                 params=payload)\n",
    "    resp.raise_for_status()\n",
    "    data = pd.DataFrame.from_dict(resp.json()['hourly'])\n",
    "    data['time'] = pd.to_datetime(\n",
    "        data['time']).dt.tz_localize(resp.json()['timezone'])\n",
    "\n",
    "    # data = data.dropna()\n",
    "    # Optionally subset data to start only from previous hour\n",
    "    if from_now:\n",
    "        data = data[data.time >= pd.to_datetime(\n",
    "            'now', utc=True).tz_convert(resp.json()['timezone']).floor('H')]\n",
    "\n",
    "    return data"
   ]
  }
 ],
 "metadata": {
  "kernelspec": {
   "display_name": "Python 3",
   "language": "python",
   "name": "python3"
  },
  "language_info": {
   "codemirror_mode": {
    "name": "ipython",
    "version": 3
   },
   "file_extension": ".py",
   "mimetype": "text/x-python",
   "name": "python",
   "nbconvert_exporter": "python",
   "pygments_lexer": "ipython3",
   "version": "3.10.12"
  },
  "orig_nbformat": 4
 },
 "nbformat": 4,
 "nbformat_minor": 2
}
