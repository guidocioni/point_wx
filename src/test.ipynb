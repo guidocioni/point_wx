{
 "cells": [
  {
   "cell_type": "code",
   "execution_count": 1,
   "metadata": {},
   "outputs": [],
   "source": [
    "import pandas as pd\n",
    "import requests as r\n",
    "import plotly.graph_objects as go\n",
    "from plotly.subplots import make_subplots\n",
    "import numpy as np\n",
    "import plotly.express as px\n",
    "from utils.settings import DETERMINISTIC_MODELS, DETERMINISTIC_VARS, ENSEMBLE_VARS, ENSEMBLE_MODELS"
   ]
  },
  {
   "cell_type": "code",
   "execution_count": 2,
   "metadata": {},
   "outputs": [],
   "source": [
    "def get_ensemble_data(latitude=53.55,\n",
    "                      longitude=9.99,\n",
    "                      variables=\",\".join(ENSEMBLE_VARS),\n",
    "                      timezone='auto',\n",
    "                      model=ENSEMBLE_MODELS[0]['value'],\n",
    "                      from_now=True):\n",
    "    \"\"\"\n",
    "    Get the ensemble data\n",
    "    \"\"\"\n",
    "    if model == 'icon_seamless':\n",
    "        forecast_days = 7\n",
    "    else:\n",
    "        forecast_days = 14\n",
    "    payload = {\n",
    "        \"latitude\": latitude,\n",
    "        \"longitude\": longitude,\n",
    "        \"hourly\": variables,\n",
    "        \"timezone\": timezone,\n",
    "        \"models\": model,\n",
    "        \"forecast_days\": forecast_days\n",
    "    }\n",
    "\n",
    "    resp = r.get(\"https://ensemble-api.open-meteo.com/v1/ensemble\",\n",
    "                 params=payload)\n",
    "    resp.raise_for_status()\n",
    "    data = pd.DataFrame.from_dict(resp.json()['hourly'])\n",
    "    data['time'] = pd.to_datetime(\n",
    "        data['time']).dt.tz_localize(resp.json()['timezone'], ambiguous='NaT', nonexistent='NaT')\n",
    "\n",
    "    data = data.dropna(subset=data.columns[data.columns != 'time'],\n",
    "                       how='all')\n",
    "    # Optionally subset data to start only from previous hour\n",
    "    if from_now:\n",
    "        data = data[data.time >= pd.to_datetime(\n",
    "            'now', utc=True).tz_convert(resp.json()['timezone']).floor('H')]\n",
    "\n",
    "    return data"
   ]
  },
  {
   "cell_type": "code",
   "execution_count": 7,
   "metadata": {},
   "outputs": [],
   "source": [
    "df = get_ensemble_data(latitude=44, longitude=53, model='icon_eu', variables='wind_direction_10m')"
   ]
  },
  {
   "cell_type": "code",
   "execution_count": 200,
   "metadata": {},
   "outputs": [],
   "source": [
    "def make_barpolar_figure(df, n_partitions=15, bins=np.linspace(0, 360, 15)):\n",
    "    timeSpan = (df.time.iloc[-1]-df.time.iloc[0])\n",
    "    rule = int((timeSpan.total_seconds()/3600.)/n_partitions)\n",
    "    subset = df.resample(str(rule)+\"H\", on='time').first()\n",
    "    subset = subset.loc[:, subset.columns.str.contains('wind_direction')]\n",
    "\n",
    "    out = []\n",
    "    for i, row in subset.iterrows():\n",
    "        out.append(pd.cut(row.values, bins=bins).value_counts().values)\n",
    "    # Convert to normalized percentage\n",
    "    for i, o in enumerate(out):\n",
    "        out[i] = (o / len(subset.columns)) * 100.    \n",
    "    n_plots = len(out) - 1\n",
    "    fig = make_subplots(rows=1,\n",
    "                        cols=n_plots,\n",
    "                        specs=[[{'type': 'polar'} for _ in range(n_plots)]],\n",
    "                        horizontal_spacing=0)\n",
    "    for i in range(n_plots):\n",
    "        fig.add_trace(go.Barpolar(\n",
    "            r=out[i-1],\n",
    "            theta=bins,\n",
    "            marker_color='rgb(106,81,163)',\n",
    "            showlegend=False), row=1, col=i+1)\n",
    "    fig.update_polars(radialaxis_showticklabels=False,\n",
    "                    angularaxis_showticklabels=False)\n",
    "    fig.update_layout(margin={\"r\": 2, \"t\": 1, \"l\": 2, \"b\": 0.1},\n",
    "                    height=100,\n",
    "                    )\n",
    "    #fig.show(config=dict(displayModeBar=False))\n",
    "    \n",
    "    return fig"
   ]
  },
  {
   "cell_type": "code",
   "execution_count": 201,
   "metadata": {},
   "outputs": [
    {
     "data": {
      "application/vnd.plotly.v1+json": {
       "config": {
        "plotlyServerURL": "https://plot.ly"
       },
       "data": [
        {
         "marker": {
          "color": "rgb(106,81,163)"
         },
         "r": [
          0,
          0,
          0,
          0,
          10,
          12.5,
          2.5,
          0,
          0,
          2.5,
          2.5,
          7.5,
          32.5,
          30
         ],
         "showlegend": false,
         "subplot": "polar",
         "theta": [
          0,
          25.714285714285715,
          51.42857142857143,
          77.14285714285714,
          102.85714285714286,
          128.57142857142858,
          154.28571428571428,
          180,
          205.71428571428572,
          231.42857142857144,
          257.14285714285717,
          282.8571428571429,
          308.57142857142856,
          334.2857142857143,
          360
         ],
         "type": "barpolar"
        },
        {
         "marker": {
          "color": "rgb(106,81,163)"
         },
         "r": [
          0,
          0,
          0,
          0,
          0,
          0,
          0,
          0,
          0,
          0,
          0,
          0,
          100,
          0
         ],
         "showlegend": false,
         "subplot": "polar2",
         "theta": [
          0,
          25.714285714285715,
          51.42857142857143,
          77.14285714285714,
          102.85714285714286,
          128.57142857142858,
          154.28571428571428,
          180,
          205.71428571428572,
          231.42857142857144,
          257.14285714285717,
          282.8571428571429,
          308.57142857142856,
          334.2857142857143,
          360
         ],
         "type": "barpolar"
        },
        {
         "marker": {
          "color": "rgb(106,81,163)"
         },
         "r": [
          0,
          0,
          0,
          0,
          0,
          0,
          0,
          0,
          0,
          0,
          5,
          82.5,
          12.5,
          0
         ],
         "showlegend": false,
         "subplot": "polar3",
         "theta": [
          0,
          25.714285714285715,
          51.42857142857143,
          77.14285714285714,
          102.85714285714286,
          128.57142857142858,
          154.28571428571428,
          180,
          205.71428571428572,
          231.42857142857144,
          257.14285714285717,
          282.8571428571429,
          308.57142857142856,
          334.2857142857143,
          360
         ],
         "type": "barpolar"
        },
        {
         "marker": {
          "color": "rgb(106,81,163)"
         },
         "r": [
          0,
          0,
          0,
          0,
          0,
          0,
          0,
          0,
          0,
          10,
          82.5,
          7.5,
          0,
          0
         ],
         "showlegend": false,
         "subplot": "polar4",
         "theta": [
          0,
          25.714285714285715,
          51.42857142857143,
          77.14285714285714,
          102.85714285714286,
          128.57142857142858,
          154.28571428571428,
          180,
          205.71428571428572,
          231.42857142857144,
          257.14285714285717,
          282.8571428571429,
          308.57142857142856,
          334.2857142857143,
          360
         ],
         "type": "barpolar"
        },
        {
         "marker": {
          "color": "rgb(106,81,163)"
         },
         "r": [
          0,
          0,
          0,
          0,
          0,
          0,
          0,
          0,
          0,
          47.5,
          52.5,
          0,
          0,
          0
         ],
         "showlegend": false,
         "subplot": "polar5",
         "theta": [
          0,
          25.714285714285715,
          51.42857142857143,
          77.14285714285714,
          102.85714285714286,
          128.57142857142858,
          154.28571428571428,
          180,
          205.71428571428572,
          231.42857142857144,
          257.14285714285717,
          282.8571428571429,
          308.57142857142856,
          334.2857142857143,
          360
         ],
         "type": "barpolar"
        },
        {
         "marker": {
          "color": "rgb(106,81,163)"
         },
         "r": [
          15,
          0,
          2.5,
          0,
          0,
          0,
          0,
          0,
          0,
          0,
          7.5,
          32.5,
          25,
          17.5
         ],
         "showlegend": false,
         "subplot": "polar6",
         "theta": [
          0,
          25.714285714285715,
          51.42857142857143,
          77.14285714285714,
          102.85714285714286,
          128.57142857142858,
          154.28571428571428,
          180,
          205.71428571428572,
          231.42857142857144,
          257.14285714285717,
          282.8571428571429,
          308.57142857142856,
          334.2857142857143,
          360
         ],
         "type": "barpolar"
        },
        {
         "marker": {
          "color": "rgb(106,81,163)"
         },
         "r": [
          0,
          0,
          0,
          2.5,
          20,
          20,
          27.500000000000004,
          5,
          0,
          20,
          5,
          0,
          0,
          0
         ],
         "showlegend": false,
         "subplot": "polar7",
         "theta": [
          0,
          25.714285714285715,
          51.42857142857143,
          77.14285714285714,
          102.85714285714286,
          128.57142857142858,
          154.28571428571428,
          180,
          205.71428571428572,
          231.42857142857144,
          257.14285714285717,
          282.8571428571429,
          308.57142857142856,
          334.2857142857143,
          360
         ],
         "type": "barpolar"
        },
        {
         "marker": {
          "color": "rgb(106,81,163)"
         },
         "r": [
          0,
          0,
          0,
          0,
          67.5,
          27.500000000000004,
          2.5,
          2.5,
          0,
          0,
          0,
          0,
          0,
          0
         ],
         "showlegend": false,
         "subplot": "polar8",
         "theta": [
          0,
          25.714285714285715,
          51.42857142857143,
          77.14285714285714,
          102.85714285714286,
          128.57142857142858,
          154.28571428571428,
          180,
          205.71428571428572,
          231.42857142857144,
          257.14285714285717,
          282.8571428571429,
          308.57142857142856,
          334.2857142857143,
          360
         ],
         "type": "barpolar"
        },
        {
         "marker": {
          "color": "rgb(106,81,163)"
         },
         "r": [
          0,
          0,
          0,
          0,
          52.5,
          47.5,
          0,
          0,
          0,
          0,
          0,
          0,
          0,
          0
         ],
         "showlegend": false,
         "subplot": "polar9",
         "theta": [
          0,
          25.714285714285715,
          51.42857142857143,
          77.14285714285714,
          102.85714285714286,
          128.57142857142858,
          154.28571428571428,
          180,
          205.71428571428572,
          231.42857142857144,
          257.14285714285717,
          282.8571428571429,
          308.57142857142856,
          334.2857142857143,
          360
         ],
         "type": "barpolar"
        },
        {
         "marker": {
          "color": "rgb(106,81,163)"
         },
         "r": [
          0,
          0,
          0,
          0,
          95,
          5,
          0,
          0,
          0,
          0,
          0,
          0,
          0,
          0
         ],
         "showlegend": false,
         "subplot": "polar10",
         "theta": [
          0,
          25.714285714285715,
          51.42857142857143,
          77.14285714285714,
          102.85714285714286,
          128.57142857142858,
          154.28571428571428,
          180,
          205.71428571428572,
          231.42857142857144,
          257.14285714285717,
          282.8571428571429,
          308.57142857142856,
          334.2857142857143,
          360
         ],
         "type": "barpolar"
        },
        {
         "marker": {
          "color": "rgb(106,81,163)"
         },
         "r": [
          0,
          0,
          0,
          0,
          72.5,
          27.500000000000004,
          0,
          0,
          0,
          0,
          0,
          0,
          0,
          0
         ],
         "showlegend": false,
         "subplot": "polar11",
         "theta": [
          0,
          25.714285714285715,
          51.42857142857143,
          77.14285714285714,
          102.85714285714286,
          128.57142857142858,
          154.28571428571428,
          180,
          205.71428571428572,
          231.42857142857144,
          257.14285714285717,
          282.8571428571429,
          308.57142857142856,
          334.2857142857143,
          360
         ],
         "type": "barpolar"
        },
        {
         "marker": {
          "color": "rgb(106,81,163)"
         },
         "r": [
          0,
          0,
          0,
          0,
          35,
          65,
          0,
          0,
          0,
          0,
          0,
          0,
          0,
          0
         ],
         "showlegend": false,
         "subplot": "polar12",
         "theta": [
          0,
          25.714285714285715,
          51.42857142857143,
          77.14285714285714,
          102.85714285714286,
          128.57142857142858,
          154.28571428571428,
          180,
          205.71428571428572,
          231.42857142857144,
          257.14285714285717,
          282.8571428571429,
          308.57142857142856,
          334.2857142857143,
          360
         ],
         "type": "barpolar"
        },
        {
         "marker": {
          "color": "rgb(106,81,163)"
         },
         "r": [
          0,
          0,
          0,
          0,
          25,
          75,
          0,
          0,
          0,
          0,
          0,
          0,
          0,
          0
         ],
         "showlegend": false,
         "subplot": "polar13",
         "theta": [
          0,
          25.714285714285715,
          51.42857142857143,
          77.14285714285714,
          102.85714285714286,
          128.57142857142858,
          154.28571428571428,
          180,
          205.71428571428572,
          231.42857142857144,
          257.14285714285717,
          282.8571428571429,
          308.57142857142856,
          334.2857142857143,
          360
         ],
         "type": "barpolar"
        },
        {
         "marker": {
          "color": "rgb(106,81,163)"
         },
         "r": [
          0,
          0,
          0,
          0,
          27.500000000000004,
          72.5,
          0,
          0,
          0,
          0,
          0,
          0,
          0,
          0
         ],
         "showlegend": false,
         "subplot": "polar14",
         "theta": [
          0,
          25.714285714285715,
          51.42857142857143,
          77.14285714285714,
          102.85714285714286,
          128.57142857142858,
          154.28571428571428,
          180,
          205.71428571428572,
          231.42857142857144,
          257.14285714285717,
          282.8571428571429,
          308.57142857142856,
          334.2857142857143,
          360
         ],
         "type": "barpolar"
        },
        {
         "marker": {
          "color": "rgb(106,81,163)"
         },
         "r": [
          0,
          0,
          0,
          0,
          0,
          90,
          5,
          2.5,
          0,
          2.5,
          0,
          0,
          0,
          0
         ],
         "showlegend": false,
         "subplot": "polar15",
         "theta": [
          0,
          25.714285714285715,
          51.42857142857143,
          77.14285714285714,
          102.85714285714286,
          128.57142857142858,
          154.28571428571428,
          180,
          205.71428571428572,
          231.42857142857144,
          257.14285714285717,
          282.8571428571429,
          308.57142857142856,
          334.2857142857143,
          360
         ],
         "type": "barpolar"
        },
        {
         "marker": {
          "color": "rgb(106,81,163)"
         },
         "r": [
          0,
          0,
          0,
          2.5,
          5,
          47.5,
          17.5,
          15,
          7.5,
          0,
          0,
          0,
          0,
          5
         ],
         "showlegend": false,
         "subplot": "polar16",
         "theta": [
          0,
          25.714285714285715,
          51.42857142857143,
          77.14285714285714,
          102.85714285714286,
          128.57142857142858,
          154.28571428571428,
          180,
          205.71428571428572,
          231.42857142857144,
          257.14285714285717,
          282.8571428571429,
          308.57142857142856,
          334.2857142857143,
          360
         ],
         "type": "barpolar"
        }
       ],
       "layout": {
        "height": 100,
        "margin": {
         "b": 0.1,
         "l": 2,
         "r": 2,
         "t": 1
        },
        "polar": {
         "angularaxis": {
          "showticklabels": false
         },
         "domain": {
          "x": [
           0,
           0.0625
          ],
          "y": [
           0,
           1
          ]
         },
         "radialaxis": {
          "showticklabels": false
         }
        },
        "polar10": {
         "angularaxis": {
          "showticklabels": false
         },
         "domain": {
          "x": [
           0.5625,
           0.625
          ],
          "y": [
           0,
           1
          ]
         },
         "radialaxis": {
          "showticklabels": false
         }
        },
        "polar11": {
         "angularaxis": {
          "showticklabels": false
         },
         "domain": {
          "x": [
           0.625,
           0.6875
          ],
          "y": [
           0,
           1
          ]
         },
         "radialaxis": {
          "showticklabels": false
         }
        },
        "polar12": {
         "angularaxis": {
          "showticklabels": false
         },
         "domain": {
          "x": [
           0.6875,
           0.75
          ],
          "y": [
           0,
           1
          ]
         },
         "radialaxis": {
          "showticklabels": false
         }
        },
        "polar13": {
         "angularaxis": {
          "showticklabels": false
         },
         "domain": {
          "x": [
           0.75,
           0.8125
          ],
          "y": [
           0,
           1
          ]
         },
         "radialaxis": {
          "showticklabels": false
         }
        },
        "polar14": {
         "angularaxis": {
          "showticklabels": false
         },
         "domain": {
          "x": [
           0.8125,
           0.875
          ],
          "y": [
           0,
           1
          ]
         },
         "radialaxis": {
          "showticklabels": false
         }
        },
        "polar15": {
         "angularaxis": {
          "showticklabels": false
         },
         "domain": {
          "x": [
           0.875,
           0.9375
          ],
          "y": [
           0,
           1
          ]
         },
         "radialaxis": {
          "showticklabels": false
         }
        },
        "polar16": {
         "angularaxis": {
          "showticklabels": false
         },
         "domain": {
          "x": [
           0.9375,
           1
          ],
          "y": [
           0,
           1
          ]
         },
         "radialaxis": {
          "showticklabels": false
         }
        },
        "polar2": {
         "angularaxis": {
          "showticklabels": false
         },
         "domain": {
          "x": [
           0.0625,
           0.125
          ],
          "y": [
           0,
           1
          ]
         },
         "radialaxis": {
          "showticklabels": false
         }
        },
        "polar3": {
         "angularaxis": {
          "showticklabels": false
         },
         "domain": {
          "x": [
           0.125,
           0.1875
          ],
          "y": [
           0,
           1
          ]
         },
         "radialaxis": {
          "showticklabels": false
         }
        },
        "polar4": {
         "angularaxis": {
          "showticklabels": false
         },
         "domain": {
          "x": [
           0.1875,
           0.25
          ],
          "y": [
           0,
           1
          ]
         },
         "radialaxis": {
          "showticklabels": false
         }
        },
        "polar5": {
         "angularaxis": {
          "showticklabels": false
         },
         "domain": {
          "x": [
           0.25,
           0.3125
          ],
          "y": [
           0,
           1
          ]
         },
         "radialaxis": {
          "showticklabels": false
         }
        },
        "polar6": {
         "angularaxis": {
          "showticklabels": false
         },
         "domain": {
          "x": [
           0.3125,
           0.375
          ],
          "y": [
           0,
           1
          ]
         },
         "radialaxis": {
          "showticklabels": false
         }
        },
        "polar7": {
         "angularaxis": {
          "showticklabels": false
         },
         "domain": {
          "x": [
           0.375,
           0.4375
          ],
          "y": [
           0,
           1
          ]
         },
         "radialaxis": {
          "showticklabels": false
         }
        },
        "polar8": {
         "angularaxis": {
          "showticklabels": false
         },
         "domain": {
          "x": [
           0.4375,
           0.5
          ],
          "y": [
           0,
           1
          ]
         },
         "radialaxis": {
          "showticklabels": false
         }
        },
        "polar9": {
         "angularaxis": {
          "showticklabels": false
         },
         "domain": {
          "x": [
           0.5,
           0.5625
          ],
          "y": [
           0,
           1
          ]
         },
         "radialaxis": {
          "showticklabels": false
         }
        },
        "template": {
         "data": {
          "bar": [
           {
            "error_x": {
             "color": "#2a3f5f"
            },
            "error_y": {
             "color": "#2a3f5f"
            },
            "marker": {
             "line": {
              "color": "#E5ECF6",
              "width": 0.5
             },
             "pattern": {
              "fillmode": "overlay",
              "size": 10,
              "solidity": 0.2
             }
            },
            "type": "bar"
           }
          ],
          "barpolar": [
           {
            "marker": {
             "line": {
              "color": "#E5ECF6",
              "width": 0.5
             },
             "pattern": {
              "fillmode": "overlay",
              "size": 10,
              "solidity": 0.2
             }
            },
            "type": "barpolar"
           }
          ],
          "carpet": [
           {
            "aaxis": {
             "endlinecolor": "#2a3f5f",
             "gridcolor": "white",
             "linecolor": "white",
             "minorgridcolor": "white",
             "startlinecolor": "#2a3f5f"
            },
            "baxis": {
             "endlinecolor": "#2a3f5f",
             "gridcolor": "white",
             "linecolor": "white",
             "minorgridcolor": "white",
             "startlinecolor": "#2a3f5f"
            },
            "type": "carpet"
           }
          ],
          "choropleth": [
           {
            "colorbar": {
             "outlinewidth": 0,
             "ticks": ""
            },
            "type": "choropleth"
           }
          ],
          "contour": [
           {
            "colorbar": {
             "outlinewidth": 0,
             "ticks": ""
            },
            "colorscale": [
             [
              0,
              "#0d0887"
             ],
             [
              0.1111111111111111,
              "#46039f"
             ],
             [
              0.2222222222222222,
              "#7201a8"
             ],
             [
              0.3333333333333333,
              "#9c179e"
             ],
             [
              0.4444444444444444,
              "#bd3786"
             ],
             [
              0.5555555555555556,
              "#d8576b"
             ],
             [
              0.6666666666666666,
              "#ed7953"
             ],
             [
              0.7777777777777778,
              "#fb9f3a"
             ],
             [
              0.8888888888888888,
              "#fdca26"
             ],
             [
              1,
              "#f0f921"
             ]
            ],
            "type": "contour"
           }
          ],
          "contourcarpet": [
           {
            "colorbar": {
             "outlinewidth": 0,
             "ticks": ""
            },
            "type": "contourcarpet"
           }
          ],
          "heatmap": [
           {
            "colorbar": {
             "outlinewidth": 0,
             "ticks": ""
            },
            "colorscale": [
             [
              0,
              "#0d0887"
             ],
             [
              0.1111111111111111,
              "#46039f"
             ],
             [
              0.2222222222222222,
              "#7201a8"
             ],
             [
              0.3333333333333333,
              "#9c179e"
             ],
             [
              0.4444444444444444,
              "#bd3786"
             ],
             [
              0.5555555555555556,
              "#d8576b"
             ],
             [
              0.6666666666666666,
              "#ed7953"
             ],
             [
              0.7777777777777778,
              "#fb9f3a"
             ],
             [
              0.8888888888888888,
              "#fdca26"
             ],
             [
              1,
              "#f0f921"
             ]
            ],
            "type": "heatmap"
           }
          ],
          "heatmapgl": [
           {
            "colorbar": {
             "outlinewidth": 0,
             "ticks": ""
            },
            "colorscale": [
             [
              0,
              "#0d0887"
             ],
             [
              0.1111111111111111,
              "#46039f"
             ],
             [
              0.2222222222222222,
              "#7201a8"
             ],
             [
              0.3333333333333333,
              "#9c179e"
             ],
             [
              0.4444444444444444,
              "#bd3786"
             ],
             [
              0.5555555555555556,
              "#d8576b"
             ],
             [
              0.6666666666666666,
              "#ed7953"
             ],
             [
              0.7777777777777778,
              "#fb9f3a"
             ],
             [
              0.8888888888888888,
              "#fdca26"
             ],
             [
              1,
              "#f0f921"
             ]
            ],
            "type": "heatmapgl"
           }
          ],
          "histogram": [
           {
            "marker": {
             "pattern": {
              "fillmode": "overlay",
              "size": 10,
              "solidity": 0.2
             }
            },
            "type": "histogram"
           }
          ],
          "histogram2d": [
           {
            "colorbar": {
             "outlinewidth": 0,
             "ticks": ""
            },
            "colorscale": [
             [
              0,
              "#0d0887"
             ],
             [
              0.1111111111111111,
              "#46039f"
             ],
             [
              0.2222222222222222,
              "#7201a8"
             ],
             [
              0.3333333333333333,
              "#9c179e"
             ],
             [
              0.4444444444444444,
              "#bd3786"
             ],
             [
              0.5555555555555556,
              "#d8576b"
             ],
             [
              0.6666666666666666,
              "#ed7953"
             ],
             [
              0.7777777777777778,
              "#fb9f3a"
             ],
             [
              0.8888888888888888,
              "#fdca26"
             ],
             [
              1,
              "#f0f921"
             ]
            ],
            "type": "histogram2d"
           }
          ],
          "histogram2dcontour": [
           {
            "colorbar": {
             "outlinewidth": 0,
             "ticks": ""
            },
            "colorscale": [
             [
              0,
              "#0d0887"
             ],
             [
              0.1111111111111111,
              "#46039f"
             ],
             [
              0.2222222222222222,
              "#7201a8"
             ],
             [
              0.3333333333333333,
              "#9c179e"
             ],
             [
              0.4444444444444444,
              "#bd3786"
             ],
             [
              0.5555555555555556,
              "#d8576b"
             ],
             [
              0.6666666666666666,
              "#ed7953"
             ],
             [
              0.7777777777777778,
              "#fb9f3a"
             ],
             [
              0.8888888888888888,
              "#fdca26"
             ],
             [
              1,
              "#f0f921"
             ]
            ],
            "type": "histogram2dcontour"
           }
          ],
          "mesh3d": [
           {
            "colorbar": {
             "outlinewidth": 0,
             "ticks": ""
            },
            "type": "mesh3d"
           }
          ],
          "parcoords": [
           {
            "line": {
             "colorbar": {
              "outlinewidth": 0,
              "ticks": ""
             }
            },
            "type": "parcoords"
           }
          ],
          "pie": [
           {
            "automargin": true,
            "type": "pie"
           }
          ],
          "scatter": [
           {
            "fillpattern": {
             "fillmode": "overlay",
             "size": 10,
             "solidity": 0.2
            },
            "type": "scatter"
           }
          ],
          "scatter3d": [
           {
            "line": {
             "colorbar": {
              "outlinewidth": 0,
              "ticks": ""
             }
            },
            "marker": {
             "colorbar": {
              "outlinewidth": 0,
              "ticks": ""
             }
            },
            "type": "scatter3d"
           }
          ],
          "scattercarpet": [
           {
            "marker": {
             "colorbar": {
              "outlinewidth": 0,
              "ticks": ""
             }
            },
            "type": "scattercarpet"
           }
          ],
          "scattergeo": [
           {
            "marker": {
             "colorbar": {
              "outlinewidth": 0,
              "ticks": ""
             }
            },
            "type": "scattergeo"
           }
          ],
          "scattergl": [
           {
            "marker": {
             "colorbar": {
              "outlinewidth": 0,
              "ticks": ""
             }
            },
            "type": "scattergl"
           }
          ],
          "scattermapbox": [
           {
            "marker": {
             "colorbar": {
              "outlinewidth": 0,
              "ticks": ""
             }
            },
            "type": "scattermapbox"
           }
          ],
          "scatterpolar": [
           {
            "marker": {
             "colorbar": {
              "outlinewidth": 0,
              "ticks": ""
             }
            },
            "type": "scatterpolar"
           }
          ],
          "scatterpolargl": [
           {
            "marker": {
             "colorbar": {
              "outlinewidth": 0,
              "ticks": ""
             }
            },
            "type": "scatterpolargl"
           }
          ],
          "scatterternary": [
           {
            "marker": {
             "colorbar": {
              "outlinewidth": 0,
              "ticks": ""
             }
            },
            "type": "scatterternary"
           }
          ],
          "surface": [
           {
            "colorbar": {
             "outlinewidth": 0,
             "ticks": ""
            },
            "colorscale": [
             [
              0,
              "#0d0887"
             ],
             [
              0.1111111111111111,
              "#46039f"
             ],
             [
              0.2222222222222222,
              "#7201a8"
             ],
             [
              0.3333333333333333,
              "#9c179e"
             ],
             [
              0.4444444444444444,
              "#bd3786"
             ],
             [
              0.5555555555555556,
              "#d8576b"
             ],
             [
              0.6666666666666666,
              "#ed7953"
             ],
             [
              0.7777777777777778,
              "#fb9f3a"
             ],
             [
              0.8888888888888888,
              "#fdca26"
             ],
             [
              1,
              "#f0f921"
             ]
            ],
            "type": "surface"
           }
          ],
          "table": [
           {
            "cells": {
             "fill": {
              "color": "#EBF0F8"
             },
             "line": {
              "color": "white"
             }
            },
            "header": {
             "fill": {
              "color": "#C8D4E3"
             },
             "line": {
              "color": "white"
             }
            },
            "type": "table"
           }
          ]
         },
         "layout": {
          "annotationdefaults": {
           "arrowcolor": "#2a3f5f",
           "arrowhead": 0,
           "arrowwidth": 1
          },
          "autotypenumbers": "strict",
          "coloraxis": {
           "colorbar": {
            "outlinewidth": 0,
            "ticks": ""
           }
          },
          "colorscale": {
           "diverging": [
            [
             0,
             "#8e0152"
            ],
            [
             0.1,
             "#c51b7d"
            ],
            [
             0.2,
             "#de77ae"
            ],
            [
             0.3,
             "#f1b6da"
            ],
            [
             0.4,
             "#fde0ef"
            ],
            [
             0.5,
             "#f7f7f7"
            ],
            [
             0.6,
             "#e6f5d0"
            ],
            [
             0.7,
             "#b8e186"
            ],
            [
             0.8,
             "#7fbc41"
            ],
            [
             0.9,
             "#4d9221"
            ],
            [
             1,
             "#276419"
            ]
           ],
           "sequential": [
            [
             0,
             "#0d0887"
            ],
            [
             0.1111111111111111,
             "#46039f"
            ],
            [
             0.2222222222222222,
             "#7201a8"
            ],
            [
             0.3333333333333333,
             "#9c179e"
            ],
            [
             0.4444444444444444,
             "#bd3786"
            ],
            [
             0.5555555555555556,
             "#d8576b"
            ],
            [
             0.6666666666666666,
             "#ed7953"
            ],
            [
             0.7777777777777778,
             "#fb9f3a"
            ],
            [
             0.8888888888888888,
             "#fdca26"
            ],
            [
             1,
             "#f0f921"
            ]
           ],
           "sequentialminus": [
            [
             0,
             "#0d0887"
            ],
            [
             0.1111111111111111,
             "#46039f"
            ],
            [
             0.2222222222222222,
             "#7201a8"
            ],
            [
             0.3333333333333333,
             "#9c179e"
            ],
            [
             0.4444444444444444,
             "#bd3786"
            ],
            [
             0.5555555555555556,
             "#d8576b"
            ],
            [
             0.6666666666666666,
             "#ed7953"
            ],
            [
             0.7777777777777778,
             "#fb9f3a"
            ],
            [
             0.8888888888888888,
             "#fdca26"
            ],
            [
             1,
             "#f0f921"
            ]
           ]
          },
          "colorway": [
           "#636efa",
           "#EF553B",
           "#00cc96",
           "#ab63fa",
           "#FFA15A",
           "#19d3f3",
           "#FF6692",
           "#B6E880",
           "#FF97FF",
           "#FECB52"
          ],
          "font": {
           "color": "#2a3f5f"
          },
          "geo": {
           "bgcolor": "white",
           "lakecolor": "white",
           "landcolor": "#E5ECF6",
           "showlakes": true,
           "showland": true,
           "subunitcolor": "white"
          },
          "hoverlabel": {
           "align": "left"
          },
          "hovermode": "closest",
          "mapbox": {
           "style": "light"
          },
          "paper_bgcolor": "white",
          "plot_bgcolor": "#E5ECF6",
          "polar": {
           "angularaxis": {
            "gridcolor": "white",
            "linecolor": "white",
            "ticks": ""
           },
           "bgcolor": "#E5ECF6",
           "radialaxis": {
            "gridcolor": "white",
            "linecolor": "white",
            "ticks": ""
           }
          },
          "scene": {
           "xaxis": {
            "backgroundcolor": "#E5ECF6",
            "gridcolor": "white",
            "gridwidth": 2,
            "linecolor": "white",
            "showbackground": true,
            "ticks": "",
            "zerolinecolor": "white"
           },
           "yaxis": {
            "backgroundcolor": "#E5ECF6",
            "gridcolor": "white",
            "gridwidth": 2,
            "linecolor": "white",
            "showbackground": true,
            "ticks": "",
            "zerolinecolor": "white"
           },
           "zaxis": {
            "backgroundcolor": "#E5ECF6",
            "gridcolor": "white",
            "gridwidth": 2,
            "linecolor": "white",
            "showbackground": true,
            "ticks": "",
            "zerolinecolor": "white"
           }
          },
          "shapedefaults": {
           "line": {
            "color": "#2a3f5f"
           }
          },
          "ternary": {
           "aaxis": {
            "gridcolor": "white",
            "linecolor": "white",
            "ticks": ""
           },
           "baxis": {
            "gridcolor": "white",
            "linecolor": "white",
            "ticks": ""
           },
           "bgcolor": "#E5ECF6",
           "caxis": {
            "gridcolor": "white",
            "linecolor": "white",
            "ticks": ""
           }
          },
          "title": {
           "x": 0.05
          },
          "xaxis": {
           "automargin": true,
           "gridcolor": "white",
           "linecolor": "white",
           "ticks": "",
           "title": {
            "standoff": 15
           },
           "zerolinecolor": "white",
           "zerolinewidth": 2
          },
          "yaxis": {
           "automargin": true,
           "gridcolor": "white",
           "linecolor": "white",
           "ticks": "",
           "title": {
            "standoff": 15
           },
           "zerolinecolor": "white",
           "zerolinewidth": 2
          }
         }
        }
       }
      },
      "text/html": [
       "<div>                            <div id=\"2ba65c48-17fc-4019-aabd-f180277c20d9\" class=\"plotly-graph-div\" style=\"height:100px; width:100%;\"></div>            <script type=\"text/javascript\">                require([\"plotly\"], function(Plotly) {                    window.PLOTLYENV=window.PLOTLYENV || {};                                    if (document.getElementById(\"2ba65c48-17fc-4019-aabd-f180277c20d9\")) {                    Plotly.newPlot(                        \"2ba65c48-17fc-4019-aabd-f180277c20d9\",                        [{\"marker\":{\"color\":\"rgb(106,81,163)\"},\"r\":[0.0,0.0,0.0,0.0,10.0,12.5,2.5,0.0,0.0,2.5,2.5,7.5,32.5,30.0],\"showlegend\":false,\"theta\":[0.0,25.714285714285715,51.42857142857143,77.14285714285714,102.85714285714286,128.57142857142858,154.28571428571428,180.0,205.71428571428572,231.42857142857144,257.14285714285717,282.8571428571429,308.57142857142856,334.2857142857143,360.0],\"type\":\"barpolar\",\"subplot\":\"polar\"},{\"marker\":{\"color\":\"rgb(106,81,163)\"},\"r\":[0.0,0.0,0.0,0.0,0.0,0.0,0.0,0.0,0.0,0.0,0.0,0.0,100.0,0.0],\"showlegend\":false,\"theta\":[0.0,25.714285714285715,51.42857142857143,77.14285714285714,102.85714285714286,128.57142857142858,154.28571428571428,180.0,205.71428571428572,231.42857142857144,257.14285714285717,282.8571428571429,308.57142857142856,334.2857142857143,360.0],\"type\":\"barpolar\",\"subplot\":\"polar2\"},{\"marker\":{\"color\":\"rgb(106,81,163)\"},\"r\":[0.0,0.0,0.0,0.0,0.0,0.0,0.0,0.0,0.0,0.0,5.0,82.5,12.5,0.0],\"showlegend\":false,\"theta\":[0.0,25.714285714285715,51.42857142857143,77.14285714285714,102.85714285714286,128.57142857142858,154.28571428571428,180.0,205.71428571428572,231.42857142857144,257.14285714285717,282.8571428571429,308.57142857142856,334.2857142857143,360.0],\"type\":\"barpolar\",\"subplot\":\"polar3\"},{\"marker\":{\"color\":\"rgb(106,81,163)\"},\"r\":[0.0,0.0,0.0,0.0,0.0,0.0,0.0,0.0,0.0,10.0,82.5,7.5,0.0,0.0],\"showlegend\":false,\"theta\":[0.0,25.714285714285715,51.42857142857143,77.14285714285714,102.85714285714286,128.57142857142858,154.28571428571428,180.0,205.71428571428572,231.42857142857144,257.14285714285717,282.8571428571429,308.57142857142856,334.2857142857143,360.0],\"type\":\"barpolar\",\"subplot\":\"polar4\"},{\"marker\":{\"color\":\"rgb(106,81,163)\"},\"r\":[0.0,0.0,0.0,0.0,0.0,0.0,0.0,0.0,0.0,47.5,52.5,0.0,0.0,0.0],\"showlegend\":false,\"theta\":[0.0,25.714285714285715,51.42857142857143,77.14285714285714,102.85714285714286,128.57142857142858,154.28571428571428,180.0,205.71428571428572,231.42857142857144,257.14285714285717,282.8571428571429,308.57142857142856,334.2857142857143,360.0],\"type\":\"barpolar\",\"subplot\":\"polar5\"},{\"marker\":{\"color\":\"rgb(106,81,163)\"},\"r\":[15.0,0.0,2.5,0.0,0.0,0.0,0.0,0.0,0.0,0.0,7.5,32.5,25.0,17.5],\"showlegend\":false,\"theta\":[0.0,25.714285714285715,51.42857142857143,77.14285714285714,102.85714285714286,128.57142857142858,154.28571428571428,180.0,205.71428571428572,231.42857142857144,257.14285714285717,282.8571428571429,308.57142857142856,334.2857142857143,360.0],\"type\":\"barpolar\",\"subplot\":\"polar6\"},{\"marker\":{\"color\":\"rgb(106,81,163)\"},\"r\":[0.0,0.0,0.0,2.5,20.0,20.0,27.500000000000004,5.0,0.0,20.0,5.0,0.0,0.0,0.0],\"showlegend\":false,\"theta\":[0.0,25.714285714285715,51.42857142857143,77.14285714285714,102.85714285714286,128.57142857142858,154.28571428571428,180.0,205.71428571428572,231.42857142857144,257.14285714285717,282.8571428571429,308.57142857142856,334.2857142857143,360.0],\"type\":\"barpolar\",\"subplot\":\"polar7\"},{\"marker\":{\"color\":\"rgb(106,81,163)\"},\"r\":[0.0,0.0,0.0,0.0,67.5,27.500000000000004,2.5,2.5,0.0,0.0,0.0,0.0,0.0,0.0],\"showlegend\":false,\"theta\":[0.0,25.714285714285715,51.42857142857143,77.14285714285714,102.85714285714286,128.57142857142858,154.28571428571428,180.0,205.71428571428572,231.42857142857144,257.14285714285717,282.8571428571429,308.57142857142856,334.2857142857143,360.0],\"type\":\"barpolar\",\"subplot\":\"polar8\"},{\"marker\":{\"color\":\"rgb(106,81,163)\"},\"r\":[0.0,0.0,0.0,0.0,52.5,47.5,0.0,0.0,0.0,0.0,0.0,0.0,0.0,0.0],\"showlegend\":false,\"theta\":[0.0,25.714285714285715,51.42857142857143,77.14285714285714,102.85714285714286,128.57142857142858,154.28571428571428,180.0,205.71428571428572,231.42857142857144,257.14285714285717,282.8571428571429,308.57142857142856,334.2857142857143,360.0],\"type\":\"barpolar\",\"subplot\":\"polar9\"},{\"marker\":{\"color\":\"rgb(106,81,163)\"},\"r\":[0.0,0.0,0.0,0.0,95.0,5.0,0.0,0.0,0.0,0.0,0.0,0.0,0.0,0.0],\"showlegend\":false,\"theta\":[0.0,25.714285714285715,51.42857142857143,77.14285714285714,102.85714285714286,128.57142857142858,154.28571428571428,180.0,205.71428571428572,231.42857142857144,257.14285714285717,282.8571428571429,308.57142857142856,334.2857142857143,360.0],\"type\":\"barpolar\",\"subplot\":\"polar10\"},{\"marker\":{\"color\":\"rgb(106,81,163)\"},\"r\":[0.0,0.0,0.0,0.0,72.5,27.500000000000004,0.0,0.0,0.0,0.0,0.0,0.0,0.0,0.0],\"showlegend\":false,\"theta\":[0.0,25.714285714285715,51.42857142857143,77.14285714285714,102.85714285714286,128.57142857142858,154.28571428571428,180.0,205.71428571428572,231.42857142857144,257.14285714285717,282.8571428571429,308.57142857142856,334.2857142857143,360.0],\"type\":\"barpolar\",\"subplot\":\"polar11\"},{\"marker\":{\"color\":\"rgb(106,81,163)\"},\"r\":[0.0,0.0,0.0,0.0,35.0,65.0,0.0,0.0,0.0,0.0,0.0,0.0,0.0,0.0],\"showlegend\":false,\"theta\":[0.0,25.714285714285715,51.42857142857143,77.14285714285714,102.85714285714286,128.57142857142858,154.28571428571428,180.0,205.71428571428572,231.42857142857144,257.14285714285717,282.8571428571429,308.57142857142856,334.2857142857143,360.0],\"type\":\"barpolar\",\"subplot\":\"polar12\"},{\"marker\":{\"color\":\"rgb(106,81,163)\"},\"r\":[0.0,0.0,0.0,0.0,25.0,75.0,0.0,0.0,0.0,0.0,0.0,0.0,0.0,0.0],\"showlegend\":false,\"theta\":[0.0,25.714285714285715,51.42857142857143,77.14285714285714,102.85714285714286,128.57142857142858,154.28571428571428,180.0,205.71428571428572,231.42857142857144,257.14285714285717,282.8571428571429,308.57142857142856,334.2857142857143,360.0],\"type\":\"barpolar\",\"subplot\":\"polar13\"},{\"marker\":{\"color\":\"rgb(106,81,163)\"},\"r\":[0.0,0.0,0.0,0.0,27.500000000000004,72.5,0.0,0.0,0.0,0.0,0.0,0.0,0.0,0.0],\"showlegend\":false,\"theta\":[0.0,25.714285714285715,51.42857142857143,77.14285714285714,102.85714285714286,128.57142857142858,154.28571428571428,180.0,205.71428571428572,231.42857142857144,257.14285714285717,282.8571428571429,308.57142857142856,334.2857142857143,360.0],\"type\":\"barpolar\",\"subplot\":\"polar14\"},{\"marker\":{\"color\":\"rgb(106,81,163)\"},\"r\":[0.0,0.0,0.0,0.0,0.0,90.0,5.0,2.5,0.0,2.5,0.0,0.0,0.0,0.0],\"showlegend\":false,\"theta\":[0.0,25.714285714285715,51.42857142857143,77.14285714285714,102.85714285714286,128.57142857142858,154.28571428571428,180.0,205.71428571428572,231.42857142857144,257.14285714285717,282.8571428571429,308.57142857142856,334.2857142857143,360.0],\"type\":\"barpolar\",\"subplot\":\"polar15\"},{\"marker\":{\"color\":\"rgb(106,81,163)\"},\"r\":[0.0,0.0,0.0,2.5,5.0,47.5,17.5,15.0,7.5,0.0,0.0,0.0,0.0,5.0],\"showlegend\":false,\"theta\":[0.0,25.714285714285715,51.42857142857143,77.14285714285714,102.85714285714286,128.57142857142858,154.28571428571428,180.0,205.71428571428572,231.42857142857144,257.14285714285717,282.8571428571429,308.57142857142856,334.2857142857143,360.0],\"type\":\"barpolar\",\"subplot\":\"polar16\"}],                        {\"template\":{\"data\":{\"histogram2dcontour\":[{\"type\":\"histogram2dcontour\",\"colorbar\":{\"outlinewidth\":0,\"ticks\":\"\"},\"colorscale\":[[0.0,\"#0d0887\"],[0.1111111111111111,\"#46039f\"],[0.2222222222222222,\"#7201a8\"],[0.3333333333333333,\"#9c179e\"],[0.4444444444444444,\"#bd3786\"],[0.5555555555555556,\"#d8576b\"],[0.6666666666666666,\"#ed7953\"],[0.7777777777777778,\"#fb9f3a\"],[0.8888888888888888,\"#fdca26\"],[1.0,\"#f0f921\"]]}],\"choropleth\":[{\"type\":\"choropleth\",\"colorbar\":{\"outlinewidth\":0,\"ticks\":\"\"}}],\"histogram2d\":[{\"type\":\"histogram2d\",\"colorbar\":{\"outlinewidth\":0,\"ticks\":\"\"},\"colorscale\":[[0.0,\"#0d0887\"],[0.1111111111111111,\"#46039f\"],[0.2222222222222222,\"#7201a8\"],[0.3333333333333333,\"#9c179e\"],[0.4444444444444444,\"#bd3786\"],[0.5555555555555556,\"#d8576b\"],[0.6666666666666666,\"#ed7953\"],[0.7777777777777778,\"#fb9f3a\"],[0.8888888888888888,\"#fdca26\"],[1.0,\"#f0f921\"]]}],\"heatmap\":[{\"type\":\"heatmap\",\"colorbar\":{\"outlinewidth\":0,\"ticks\":\"\"},\"colorscale\":[[0.0,\"#0d0887\"],[0.1111111111111111,\"#46039f\"],[0.2222222222222222,\"#7201a8\"],[0.3333333333333333,\"#9c179e\"],[0.4444444444444444,\"#bd3786\"],[0.5555555555555556,\"#d8576b\"],[0.6666666666666666,\"#ed7953\"],[0.7777777777777778,\"#fb9f3a\"],[0.8888888888888888,\"#fdca26\"],[1.0,\"#f0f921\"]]}],\"heatmapgl\":[{\"type\":\"heatmapgl\",\"colorbar\":{\"outlinewidth\":0,\"ticks\":\"\"},\"colorscale\":[[0.0,\"#0d0887\"],[0.1111111111111111,\"#46039f\"],[0.2222222222222222,\"#7201a8\"],[0.3333333333333333,\"#9c179e\"],[0.4444444444444444,\"#bd3786\"],[0.5555555555555556,\"#d8576b\"],[0.6666666666666666,\"#ed7953\"],[0.7777777777777778,\"#fb9f3a\"],[0.8888888888888888,\"#fdca26\"],[1.0,\"#f0f921\"]]}],\"contourcarpet\":[{\"type\":\"contourcarpet\",\"colorbar\":{\"outlinewidth\":0,\"ticks\":\"\"}}],\"contour\":[{\"type\":\"contour\",\"colorbar\":{\"outlinewidth\":0,\"ticks\":\"\"},\"colorscale\":[[0.0,\"#0d0887\"],[0.1111111111111111,\"#46039f\"],[0.2222222222222222,\"#7201a8\"],[0.3333333333333333,\"#9c179e\"],[0.4444444444444444,\"#bd3786\"],[0.5555555555555556,\"#d8576b\"],[0.6666666666666666,\"#ed7953\"],[0.7777777777777778,\"#fb9f3a\"],[0.8888888888888888,\"#fdca26\"],[1.0,\"#f0f921\"]]}],\"surface\":[{\"type\":\"surface\",\"colorbar\":{\"outlinewidth\":0,\"ticks\":\"\"},\"colorscale\":[[0.0,\"#0d0887\"],[0.1111111111111111,\"#46039f\"],[0.2222222222222222,\"#7201a8\"],[0.3333333333333333,\"#9c179e\"],[0.4444444444444444,\"#bd3786\"],[0.5555555555555556,\"#d8576b\"],[0.6666666666666666,\"#ed7953\"],[0.7777777777777778,\"#fb9f3a\"],[0.8888888888888888,\"#fdca26\"],[1.0,\"#f0f921\"]]}],\"mesh3d\":[{\"type\":\"mesh3d\",\"colorbar\":{\"outlinewidth\":0,\"ticks\":\"\"}}],\"scatter\":[{\"fillpattern\":{\"fillmode\":\"overlay\",\"size\":10,\"solidity\":0.2},\"type\":\"scatter\"}],\"parcoords\":[{\"type\":\"parcoords\",\"line\":{\"colorbar\":{\"outlinewidth\":0,\"ticks\":\"\"}}}],\"scatterpolargl\":[{\"type\":\"scatterpolargl\",\"marker\":{\"colorbar\":{\"outlinewidth\":0,\"ticks\":\"\"}}}],\"bar\":[{\"error_x\":{\"color\":\"#2a3f5f\"},\"error_y\":{\"color\":\"#2a3f5f\"},\"marker\":{\"line\":{\"color\":\"#E5ECF6\",\"width\":0.5},\"pattern\":{\"fillmode\":\"overlay\",\"size\":10,\"solidity\":0.2}},\"type\":\"bar\"}],\"scattergeo\":[{\"type\":\"scattergeo\",\"marker\":{\"colorbar\":{\"outlinewidth\":0,\"ticks\":\"\"}}}],\"scatterpolar\":[{\"type\":\"scatterpolar\",\"marker\":{\"colorbar\":{\"outlinewidth\":0,\"ticks\":\"\"}}}],\"histogram\":[{\"marker\":{\"pattern\":{\"fillmode\":\"overlay\",\"size\":10,\"solidity\":0.2}},\"type\":\"histogram\"}],\"scattergl\":[{\"type\":\"scattergl\",\"marker\":{\"colorbar\":{\"outlinewidth\":0,\"ticks\":\"\"}}}],\"scatter3d\":[{\"type\":\"scatter3d\",\"line\":{\"colorbar\":{\"outlinewidth\":0,\"ticks\":\"\"}},\"marker\":{\"colorbar\":{\"outlinewidth\":0,\"ticks\":\"\"}}}],\"scattermapbox\":[{\"type\":\"scattermapbox\",\"marker\":{\"colorbar\":{\"outlinewidth\":0,\"ticks\":\"\"}}}],\"scatterternary\":[{\"type\":\"scatterternary\",\"marker\":{\"colorbar\":{\"outlinewidth\":0,\"ticks\":\"\"}}}],\"scattercarpet\":[{\"type\":\"scattercarpet\",\"marker\":{\"colorbar\":{\"outlinewidth\":0,\"ticks\":\"\"}}}],\"carpet\":[{\"aaxis\":{\"endlinecolor\":\"#2a3f5f\",\"gridcolor\":\"white\",\"linecolor\":\"white\",\"minorgridcolor\":\"white\",\"startlinecolor\":\"#2a3f5f\"},\"baxis\":{\"endlinecolor\":\"#2a3f5f\",\"gridcolor\":\"white\",\"linecolor\":\"white\",\"minorgridcolor\":\"white\",\"startlinecolor\":\"#2a3f5f\"},\"type\":\"carpet\"}],\"table\":[{\"cells\":{\"fill\":{\"color\":\"#EBF0F8\"},\"line\":{\"color\":\"white\"}},\"header\":{\"fill\":{\"color\":\"#C8D4E3\"},\"line\":{\"color\":\"white\"}},\"type\":\"table\"}],\"barpolar\":[{\"marker\":{\"line\":{\"color\":\"#E5ECF6\",\"width\":0.5},\"pattern\":{\"fillmode\":\"overlay\",\"size\":10,\"solidity\":0.2}},\"type\":\"barpolar\"}],\"pie\":[{\"automargin\":true,\"type\":\"pie\"}]},\"layout\":{\"autotypenumbers\":\"strict\",\"colorway\":[\"#636efa\",\"#EF553B\",\"#00cc96\",\"#ab63fa\",\"#FFA15A\",\"#19d3f3\",\"#FF6692\",\"#B6E880\",\"#FF97FF\",\"#FECB52\"],\"font\":{\"color\":\"#2a3f5f\"},\"hovermode\":\"closest\",\"hoverlabel\":{\"align\":\"left\"},\"paper_bgcolor\":\"white\",\"plot_bgcolor\":\"#E5ECF6\",\"polar\":{\"bgcolor\":\"#E5ECF6\",\"angularaxis\":{\"gridcolor\":\"white\",\"linecolor\":\"white\",\"ticks\":\"\"},\"radialaxis\":{\"gridcolor\":\"white\",\"linecolor\":\"white\",\"ticks\":\"\"}},\"ternary\":{\"bgcolor\":\"#E5ECF6\",\"aaxis\":{\"gridcolor\":\"white\",\"linecolor\":\"white\",\"ticks\":\"\"},\"baxis\":{\"gridcolor\":\"white\",\"linecolor\":\"white\",\"ticks\":\"\"},\"caxis\":{\"gridcolor\":\"white\",\"linecolor\":\"white\",\"ticks\":\"\"}},\"coloraxis\":{\"colorbar\":{\"outlinewidth\":0,\"ticks\":\"\"}},\"colorscale\":{\"sequential\":[[0.0,\"#0d0887\"],[0.1111111111111111,\"#46039f\"],[0.2222222222222222,\"#7201a8\"],[0.3333333333333333,\"#9c179e\"],[0.4444444444444444,\"#bd3786\"],[0.5555555555555556,\"#d8576b\"],[0.6666666666666666,\"#ed7953\"],[0.7777777777777778,\"#fb9f3a\"],[0.8888888888888888,\"#fdca26\"],[1.0,\"#f0f921\"]],\"sequentialminus\":[[0.0,\"#0d0887\"],[0.1111111111111111,\"#46039f\"],[0.2222222222222222,\"#7201a8\"],[0.3333333333333333,\"#9c179e\"],[0.4444444444444444,\"#bd3786\"],[0.5555555555555556,\"#d8576b\"],[0.6666666666666666,\"#ed7953\"],[0.7777777777777778,\"#fb9f3a\"],[0.8888888888888888,\"#fdca26\"],[1.0,\"#f0f921\"]],\"diverging\":[[0,\"#8e0152\"],[0.1,\"#c51b7d\"],[0.2,\"#de77ae\"],[0.3,\"#f1b6da\"],[0.4,\"#fde0ef\"],[0.5,\"#f7f7f7\"],[0.6,\"#e6f5d0\"],[0.7,\"#b8e186\"],[0.8,\"#7fbc41\"],[0.9,\"#4d9221\"],[1,\"#276419\"]]},\"xaxis\":{\"gridcolor\":\"white\",\"linecolor\":\"white\",\"ticks\":\"\",\"title\":{\"standoff\":15},\"zerolinecolor\":\"white\",\"automargin\":true,\"zerolinewidth\":2},\"yaxis\":{\"gridcolor\":\"white\",\"linecolor\":\"white\",\"ticks\":\"\",\"title\":{\"standoff\":15},\"zerolinecolor\":\"white\",\"automargin\":true,\"zerolinewidth\":2},\"scene\":{\"xaxis\":{\"backgroundcolor\":\"#E5ECF6\",\"gridcolor\":\"white\",\"linecolor\":\"white\",\"showbackground\":true,\"ticks\":\"\",\"zerolinecolor\":\"white\",\"gridwidth\":2},\"yaxis\":{\"backgroundcolor\":\"#E5ECF6\",\"gridcolor\":\"white\",\"linecolor\":\"white\",\"showbackground\":true,\"ticks\":\"\",\"zerolinecolor\":\"white\",\"gridwidth\":2},\"zaxis\":{\"backgroundcolor\":\"#E5ECF6\",\"gridcolor\":\"white\",\"linecolor\":\"white\",\"showbackground\":true,\"ticks\":\"\",\"zerolinecolor\":\"white\",\"gridwidth\":2}},\"shapedefaults\":{\"line\":{\"color\":\"#2a3f5f\"}},\"annotationdefaults\":{\"arrowcolor\":\"#2a3f5f\",\"arrowhead\":0,\"arrowwidth\":1},\"geo\":{\"bgcolor\":\"white\",\"landcolor\":\"#E5ECF6\",\"subunitcolor\":\"white\",\"showland\":true,\"showlakes\":true,\"lakecolor\":\"white\"},\"title\":{\"x\":0.05},\"mapbox\":{\"style\":\"light\"}}},\"polar\":{\"domain\":{\"x\":[0.0,0.0625],\"y\":[0.0,1.0]},\"radialaxis\":{\"showticklabels\":false},\"angularaxis\":{\"showticklabels\":false}},\"polar2\":{\"domain\":{\"x\":[0.0625,0.125],\"y\":[0.0,1.0]},\"radialaxis\":{\"showticklabels\":false},\"angularaxis\":{\"showticklabels\":false}},\"polar3\":{\"domain\":{\"x\":[0.125,0.1875],\"y\":[0.0,1.0]},\"radialaxis\":{\"showticklabels\":false},\"angularaxis\":{\"showticklabels\":false}},\"polar4\":{\"domain\":{\"x\":[0.1875,0.25],\"y\":[0.0,1.0]},\"radialaxis\":{\"showticklabels\":false},\"angularaxis\":{\"showticklabels\":false}},\"polar5\":{\"domain\":{\"x\":[0.25,0.3125],\"y\":[0.0,1.0]},\"radialaxis\":{\"showticklabels\":false},\"angularaxis\":{\"showticklabels\":false}},\"polar6\":{\"domain\":{\"x\":[0.3125,0.375],\"y\":[0.0,1.0]},\"radialaxis\":{\"showticklabels\":false},\"angularaxis\":{\"showticklabels\":false}},\"polar7\":{\"domain\":{\"x\":[0.375,0.4375],\"y\":[0.0,1.0]},\"radialaxis\":{\"showticklabels\":false},\"angularaxis\":{\"showticklabels\":false}},\"polar8\":{\"domain\":{\"x\":[0.4375,0.5],\"y\":[0.0,1.0]},\"radialaxis\":{\"showticklabels\":false},\"angularaxis\":{\"showticklabels\":false}},\"polar9\":{\"domain\":{\"x\":[0.5,0.5625],\"y\":[0.0,1.0]},\"radialaxis\":{\"showticklabels\":false},\"angularaxis\":{\"showticklabels\":false}},\"polar10\":{\"domain\":{\"x\":[0.5625,0.625],\"y\":[0.0,1.0]},\"radialaxis\":{\"showticklabels\":false},\"angularaxis\":{\"showticklabels\":false}},\"polar11\":{\"domain\":{\"x\":[0.625,0.6875],\"y\":[0.0,1.0]},\"radialaxis\":{\"showticklabels\":false},\"angularaxis\":{\"showticklabels\":false}},\"polar12\":{\"domain\":{\"x\":[0.6875,0.75],\"y\":[0.0,1.0]},\"radialaxis\":{\"showticklabels\":false},\"angularaxis\":{\"showticklabels\":false}},\"polar13\":{\"domain\":{\"x\":[0.75,0.8125],\"y\":[0.0,1.0]},\"radialaxis\":{\"showticklabels\":false},\"angularaxis\":{\"showticklabels\":false}},\"polar14\":{\"domain\":{\"x\":[0.8125,0.875],\"y\":[0.0,1.0]},\"radialaxis\":{\"showticklabels\":false},\"angularaxis\":{\"showticklabels\":false}},\"polar15\":{\"domain\":{\"x\":[0.875,0.9375],\"y\":[0.0,1.0]},\"radialaxis\":{\"showticklabels\":false},\"angularaxis\":{\"showticklabels\":false}},\"polar16\":{\"domain\":{\"x\":[0.9375,1.0],\"y\":[0.0,1.0]},\"radialaxis\":{\"showticklabels\":false},\"angularaxis\":{\"showticklabels\":false}},\"margin\":{\"r\":2,\"t\":1,\"l\":2,\"b\":0.1},\"height\":100},                        {\"responsive\": true}                    ).then(function(){\n",
       "                            \n",
       "var gd = document.getElementById('2ba65c48-17fc-4019-aabd-f180277c20d9');\n",
       "var x = new MutationObserver(function (mutations, observer) {{\n",
       "        var display = window.getComputedStyle(gd).display;\n",
       "        if (!display || display === 'none') {{\n",
       "            console.log([gd, 'removed!']);\n",
       "            Plotly.purge(gd);\n",
       "            observer.disconnect();\n",
       "        }}\n",
       "}});\n",
       "\n",
       "// Listen for the removal of the full notebook cells\n",
       "var notebookContainer = gd.closest('#notebook-container');\n",
       "if (notebookContainer) {{\n",
       "    x.observe(notebookContainer, {childList: true});\n",
       "}}\n",
       "\n",
       "// Listen for the clearing of the current output cell\n",
       "var outputEl = gd.closest('.output');\n",
       "if (outputEl) {{\n",
       "    x.observe(outputEl, {childList: true});\n",
       "}}\n",
       "\n",
       "                        })                };                });            </script>        </div>"
      ]
     },
     "metadata": {},
     "output_type": "display_data"
    }
   ],
   "source": [
    "make_barpolar_figure(df)"
   ]
  },
  {
   "cell_type": "code",
   "execution_count": 204,
   "metadata": {},
   "outputs": [],
   "source": [
    "images_config.update(dict(displayModeBar=False))"
   ]
  },
  {
   "cell_type": "code",
   "execution_count": 207,
   "metadata": {},
   "outputs": [
    {
     "data": {
      "text/plain": [
       "{'toImageButtonOptions': {'format': 'png',\n",
       "  'height': None,\n",
       "  'width': None,\n",
       "  'scale': 1.5},\n",
       " 'displayModeBar': False}"
      ]
     },
     "execution_count": 207,
     "metadata": {},
     "output_type": "execute_result"
    }
   ],
   "source": [
    "{**images_config, 'displayModeBar': False}"
   ]
  }
 ],
 "metadata": {
  "kernelspec": {
   "display_name": "Python 3",
   "language": "python",
   "name": "python3"
  },
  "language_info": {
   "codemirror_mode": {
    "name": "ipython",
    "version": 3
   },
   "file_extension": ".py",
   "mimetype": "text/x-python",
   "name": "python",
   "nbconvert_exporter": "python",
   "pygments_lexer": "ipython3",
   "version": "3.10.12"
  },
  "orig_nbformat": 4
 },
 "nbformat": 4,
 "nbformat_minor": 2
}
